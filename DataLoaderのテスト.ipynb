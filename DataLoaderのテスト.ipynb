{
 "cells": [
  {
   "cell_type": "markdown",
   "id": "9423cb9e-02e3-4290-aa66-58774aefd74b",
   "metadata": {},
   "source": [
    "# データローダのテスト \n",
    "画像とスカラー値を同時にあつかえるローダを作る"
   ]
  },
  {
   "cell_type": "code",
   "execution_count": 8,
   "id": "681a9812-d34e-4918-8012-7af1ac338fea",
   "metadata": {},
   "outputs": [],
   "source": [
    "import os \n",
    "import numpy as np\n",
    "import pandas as pd\n",
    "from PIL import Image\n",
    "import random\n",
    "import matplotlib.pyplot as plt\n",
    "plt.rcParams['font.family'] = 'Meiryo'\n",
    "\n",
    "import torch\n",
    "from torch.utils.data import DataLoader, Dataset\n",
    "from torchvision import transforms\n",
    "import torch.nn as nn\n",
    "import torch.nn.functional as F\n",
    "import torch.optim as optim"
   ]
  },
  {
   "cell_type": "markdown",
   "id": "4b126b55-314b-4af0-a6d5-655343f519bc",
   "metadata": {},
   "source": [
    "## サンプルの作成\n",
    "ファイルパス、スカラ値を4つ以上もつcsvを作る"
   ]
  },
  {
   "cell_type": "code",
   "execution_count": 48,
   "id": "cd45c66f-7297-47fb-9d8f-4ea4ead8a3fa",
   "metadata": {},
   "outputs": [
    {
     "data": {
      "text/html": [
       "<div>\n",
       "<style scoped>\n",
       "    .dataframe tbody tr th:only-of-type {\n",
       "        vertical-align: middle;\n",
       "    }\n",
       "\n",
       "    .dataframe tbody tr th {\n",
       "        vertical-align: top;\n",
       "    }\n",
       "\n",
       "    .dataframe thead th {\n",
       "        text-align: right;\n",
       "    }\n",
       "</style>\n",
       "<table border=\"1\" class=\"dataframe\">\n",
       "  <thead>\n",
       "    <tr style=\"text-align: right;\">\n",
       "      <th></th>\n",
       "      <th>id</th>\n",
       "      <th>fn</th>\n",
       "      <th>class</th>\n",
       "      <th>point</th>\n",
       "      <th>isFirst</th>\n",
       "      <th>dsc</th>\n",
       "    </tr>\n",
       "  </thead>\n",
       "  <tbody>\n",
       "    <tr>\n",
       "      <th>0</th>\n",
       "      <td>0</td>\n",
       "      <td>./o_dataset/sample\\geme21end1.png</td>\n",
       "      <td>-2</td>\n",
       "      <td>-2</td>\n",
       "      <td>True</td>\n",
       "      <td>3.104430</td>\n",
       "    </tr>\n",
       "    <tr>\n",
       "      <th>1</th>\n",
       "      <td>1</td>\n",
       "      <td>./o_dataset/sample\\geme21end2.png</td>\n",
       "      <td>-2</td>\n",
       "      <td>-2</td>\n",
       "      <td>False</td>\n",
       "      <td>3.256055</td>\n",
       "    </tr>\n",
       "    <tr>\n",
       "      <th>2</th>\n",
       "      <td>2</td>\n",
       "      <td>./o_dataset/sample\\geme21end3.png</td>\n",
       "      <td>2</td>\n",
       "      <td>1</td>\n",
       "      <td>False</td>\n",
       "      <td>7.521918</td>\n",
       "    </tr>\n",
       "  </tbody>\n",
       "</table>\n",
       "</div>"
      ],
      "text/plain": [
       "   id                                 fn  class  point  isFirst       dsc\n",
       "0   0  ./o_dataset/sample\\geme21end1.png     -2     -2     True  3.104430\n",
       "1   1  ./o_dataset/sample\\geme21end2.png     -2     -2    False  3.256055\n",
       "2   2  ./o_dataset/sample\\geme21end3.png      2      1    False  7.521918"
      ]
     },
     "execution_count": 48,
     "metadata": {},
     "output_type": "execute_result"
    }
   ],
   "source": [
    "import glob\n",
    "g = glob.glob( r'./o_dataset/sample/*.png')\n",
    "df = pd.DataFrame( g ).reset_index()\n",
    "df.columns = ['id','fn']\n",
    "\n",
    "class_order = [-2,-1,0,1,2]\n",
    "p = np.random.choice(class_order, len(df))\n",
    "rng = np.random.default_rng()\n",
    "df['class'] = p\n",
    "p = rng.integers(-2,3,len(df))\n",
    "df['point'] = p\n",
    "p = rng.integers(0,2,size=len(df))\n",
    "df['isFirst'] = p.astype(bool)\n",
    "o = rng.uniform(0.0,120.0,size=len(df))\n",
    "df['dsc'] = o**0.5\n",
    "df.head(3)"
   ]
  },
  {
   "cell_type": "code",
   "execution_count": 49,
   "id": "50015c67-d269-411d-ab87-fba38d6cd26b",
   "metadata": {},
   "outputs": [],
   "source": [
    "df.to_csv('d_dataset.csv',index=None)"
   ]
  },
  {
   "cell_type": "markdown",
   "id": "9119f7cc-8ee4-44eb-86e3-10c19b896cd6",
   "metadata": {},
   "source": [
    "## DataLoaderに転送する仕組み"
   ]
  },
  {
   "cell_type": "code",
   "execution_count": 54,
   "id": "1520303b-5b68-4aa4-946f-cdca2a56ecaf",
   "metadata": {},
   "outputs": [],
   "source": []
  },
  {
   "cell_type": "code",
   "execution_count": 60,
   "id": "e056c2e7-24d8-4a63-a125-a7f6f2eb071f",
   "metadata": {},
   "outputs": [
    {
     "data": {
      "text/plain": [
       "fn          object\n",
       "class      float16\n",
       "point      float16\n",
       "isFirst    float16\n",
       "dsc        float16\n",
       "dtype: object"
      ]
     },
     "metadata": {},
     "output_type": "display_data"
    },
    {
     "data": {
      "text/html": [
       "<div>\n",
       "<style scoped>\n",
       "    .dataframe tbody tr th:only-of-type {\n",
       "        vertical-align: middle;\n",
       "    }\n",
       "\n",
       "    .dataframe tbody tr th {\n",
       "        vertical-align: top;\n",
       "    }\n",
       "\n",
       "    .dataframe thead th {\n",
       "        text-align: right;\n",
       "    }\n",
       "</style>\n",
       "<table border=\"1\" class=\"dataframe\">\n",
       "  <thead>\n",
       "    <tr style=\"text-align: right;\">\n",
       "      <th></th>\n",
       "      <th>fn</th>\n",
       "      <th>class</th>\n",
       "      <th>point</th>\n",
       "      <th>isFirst</th>\n",
       "      <th>dsc</th>\n",
       "    </tr>\n",
       "    <tr>\n",
       "      <th>id</th>\n",
       "      <th></th>\n",
       "      <th></th>\n",
       "      <th></th>\n",
       "      <th></th>\n",
       "      <th></th>\n",
       "    </tr>\n",
       "  </thead>\n",
       "  <tbody>\n",
       "    <tr>\n",
       "      <th>0</th>\n",
       "      <td>./o_dataset/sample\\geme21end1.png</td>\n",
       "      <td>-2.0</td>\n",
       "      <td>-2.0</td>\n",
       "      <td>1.0</td>\n",
       "      <td>3.103516</td>\n",
       "    </tr>\n",
       "    <tr>\n",
       "      <th>1</th>\n",
       "      <td>./o_dataset/sample\\geme21end2.png</td>\n",
       "      <td>-2.0</td>\n",
       "      <td>-2.0</td>\n",
       "      <td>0.0</td>\n",
       "      <td>3.255859</td>\n",
       "    </tr>\n",
       "    <tr>\n",
       "      <th>2</th>\n",
       "      <td>./o_dataset/sample\\geme21end3.png</td>\n",
       "      <td>2.0</td>\n",
       "      <td>1.0</td>\n",
       "      <td>0.0</td>\n",
       "      <td>7.523438</td>\n",
       "    </tr>\n",
       "    <tr>\n",
       "      <th>3</th>\n",
       "      <td>./o_dataset/sample\\geme21end4.png</td>\n",
       "      <td>-2.0</td>\n",
       "      <td>2.0</td>\n",
       "      <td>1.0</td>\n",
       "      <td>9.195312</td>\n",
       "    </tr>\n",
       "    <tr>\n",
       "      <th>4</th>\n",
       "      <td>./o_dataset/sample\\geme21end5.png</td>\n",
       "      <td>0.0</td>\n",
       "      <td>-2.0</td>\n",
       "      <td>1.0</td>\n",
       "      <td>6.675781</td>\n",
       "    </tr>\n",
       "  </tbody>\n",
       "</table>\n",
       "</div>"
      ],
      "text/plain": [
       "                                   fn  class  point  isFirst       dsc\n",
       "id                                                                    \n",
       "0   ./o_dataset/sample\\geme21end1.png   -2.0   -2.0      1.0  3.103516\n",
       "1   ./o_dataset/sample\\geme21end2.png   -2.0   -2.0      0.0  3.255859\n",
       "2   ./o_dataset/sample\\geme21end3.png    2.0    1.0      0.0  7.523438\n",
       "3   ./o_dataset/sample\\geme21end4.png   -2.0    2.0      1.0  9.195312\n",
       "4   ./o_dataset/sample\\geme21end5.png    0.0   -2.0      1.0  6.675781"
      ]
     },
     "metadata": {},
     "output_type": "display_data"
    }
   ],
   "source": [
    "csv_path = 'd_dataset.csv'\n",
    "\n",
    "csv_df = pd.read_csv(csv_path,index_col=0)\n",
    "csv_df['class'] = csv_df['class'].astype(np.float16)\n",
    "csv_df['point'] = csv_df['point'].astype(np.float16)\n",
    "csv_df['isFirst'] = csv_df['isFirst'].astype(np.float16)\n",
    "csv_df['dsc'] = csv_df['dsc'].astype(np.float16)\n",
    "display(csv_df.dtypes)\n",
    "display(csv_df.head(5))"
   ]
  },
  {
   "cell_type": "markdown",
   "id": "45ccf1a7-9e61-483b-b785-986c2efb482f",
   "metadata": {},
   "source": [
    "## class が目的、fn,point,isFirst,dsc が説明変数\n",
    "説明変数を標準化する"
   ]
  },
  {
   "cell_type": "code",
   "execution_count": 97,
   "id": "77fb6b51-58a9-456f-8126-4b9f6d62f074",
   "metadata": {},
   "outputs": [
    {
     "data": {
      "text/plain": [
       "array([[-1.172 ,  0.832 , -1.201 ],\n",
       "       [-1.172 , -1.202 , -1.147 ],\n",
       "       [ 0.5474, -1.202 ,  0.3516]], dtype=float16)"
      ]
     },
     "metadata": {},
     "output_type": "display_data"
    },
    {
     "name": "stdout",
     "output_type": "stream",
     "text": [
      "['point', 'isFirst', 'dsc']\n"
     ]
    },
    {
     "data": {
      "text/html": [
       "<div>\n",
       "<style scoped>\n",
       "    .dataframe tbody tr th:only-of-type {\n",
       "        vertical-align: middle;\n",
       "    }\n",
       "\n",
       "    .dataframe tbody tr th {\n",
       "        vertical-align: top;\n",
       "    }\n",
       "\n",
       "    .dataframe thead th {\n",
       "        text-align: right;\n",
       "    }\n",
       "</style>\n",
       "<table border=\"1\" class=\"dataframe\">\n",
       "  <thead>\n",
       "    <tr style=\"text-align: right;\">\n",
       "      <th></th>\n",
       "      <th>fn</th>\n",
       "      <th>class</th>\n",
       "      <th>point</th>\n",
       "      <th>isFirst</th>\n",
       "      <th>dsc</th>\n",
       "    </tr>\n",
       "    <tr>\n",
       "      <th>id</th>\n",
       "      <th></th>\n",
       "      <th></th>\n",
       "      <th></th>\n",
       "      <th></th>\n",
       "      <th></th>\n",
       "    </tr>\n",
       "  </thead>\n",
       "  <tbody>\n",
       "    <tr>\n",
       "      <th>0</th>\n",
       "      <td>./o_dataset/sample\\geme21end1.png</td>\n",
       "      <td>-2.0</td>\n",
       "      <td>-1.171875</td>\n",
       "      <td>0.832031</td>\n",
       "      <td>-1.201172</td>\n",
       "    </tr>\n",
       "    <tr>\n",
       "      <th>1</th>\n",
       "      <td>./o_dataset/sample\\geme21end2.png</td>\n",
       "      <td>-2.0</td>\n",
       "      <td>-1.171875</td>\n",
       "      <td>-1.202148</td>\n",
       "      <td>-1.147461</td>\n",
       "    </tr>\n",
       "    <tr>\n",
       "      <th>2</th>\n",
       "      <td>./o_dataset/sample\\geme21end3.png</td>\n",
       "      <td>2.0</td>\n",
       "      <td>0.547363</td>\n",
       "      <td>-1.202148</td>\n",
       "      <td>0.351562</td>\n",
       "    </tr>\n",
       "    <tr>\n",
       "      <th>3</th>\n",
       "      <td>./o_dataset/sample\\geme21end4.png</td>\n",
       "      <td>-2.0</td>\n",
       "      <td>1.120117</td>\n",
       "      <td>0.832031</td>\n",
       "      <td>0.939453</td>\n",
       "    </tr>\n",
       "    <tr>\n",
       "      <th>4</th>\n",
       "      <td>./o_dataset/sample\\geme21end5.png</td>\n",
       "      <td>0.0</td>\n",
       "      <td>-1.171875</td>\n",
       "      <td>0.832031</td>\n",
       "      <td>0.053741</td>\n",
       "    </tr>\n",
       "  </tbody>\n",
       "</table>\n",
       "</div>"
      ],
      "text/plain": [
       "                                   fn  class     point   isFirst       dsc\n",
       "id                                                                        \n",
       "0   ./o_dataset/sample\\geme21end1.png   -2.0 -1.171875  0.832031 -1.201172\n",
       "1   ./o_dataset/sample\\geme21end2.png   -2.0 -1.171875 -1.202148 -1.147461\n",
       "2   ./o_dataset/sample\\geme21end3.png    2.0  0.547363 -1.202148  0.351562\n",
       "3   ./o_dataset/sample\\geme21end4.png   -2.0  1.120117  0.832031  0.939453\n",
       "4   ./o_dataset/sample\\geme21end5.png    0.0 -1.171875  0.832031  0.053741"
      ]
     },
     "execution_count": 97,
     "metadata": {},
     "output_type": "execute_result"
    }
   ],
   "source": [
    "# 標準化\n",
    "from sklearn.preprocessing import StandardScaler\n",
    "stdsc = StandardScaler()\n",
    "##学習時の標準化したパラメータは、評価、本番時におなじ重みで標準化する処理が必要\n",
    "x_train_df = csv_df.copy().drop(['fn','class'],axis=1)\n",
    "x_train_std = stdsc.fit_transform(x_train_df)\n",
    "display( x_train_std[:3] )\n",
    "## DataFrameの値を入れ替え\n",
    "qcl = csv_df.columns.to_list()\n",
    "qcl.remove('fn')\n",
    "qcl.remove('class')\n",
    "print(qcl)\n",
    "csv_df[qcl] = x_train_std\n",
    "csv_df.head(5)"
   ]
  },
  {
   "cell_type": "code",
   "execution_count": 114,
   "id": "d3088a07-f3c2-4217-be0a-0b2c12cc4f9f",
   "metadata": {},
   "outputs": [
    {
     "data": {
      "text/plain": [
       "(3,\n",
       " array([ 0.00013247, -0.00013317,  0.00018727]),\n",
       " array([0.99929126, 1.00027434, 1.0000121 ]))"
      ]
     },
     "execution_count": 114,
     "metadata": {},
     "output_type": "execute_result"
    }
   ],
   "source": [
    "## 標準化オブジェクトはあとで本番にも使うので保存しておく\n",
    "import pickle\n",
    "pickle.dump(stdsc, open(\"stdsc_test.pkl\", \"wb\"))\n",
    "stdsc.n_features_in_, stdsc.mean_ , stdsc.var_ "
   ]
  },
  {
   "cell_type": "code",
   "execution_count": 116,
   "id": "dbb1c5ff-0e5a-4d22-a51b-b2a9a9128773",
   "metadata": {},
   "outputs": [
    {
     "data": {
      "text/plain": [
       "(3,\n",
       " array([ 0.00013247, -0.00013317,  0.00018727]),\n",
       " array([0.99929126, 1.00027434, 1.0000121 ]))"
      ]
     },
     "execution_count": 116,
     "metadata": {},
     "output_type": "execute_result"
    }
   ],
   "source": [
    "with open('stdsc_test.pkl','rb') as f:\n",
    "    loadsc = pickle.load(f)\n",
    "loadsc.n_features_in_, loadsc.mean_ , loadsc.var_ "
   ]
  },
  {
   "cell_type": "code",
   "execution_count": 186,
   "id": "9ff425ba-1b5f-4409-b303-ee55bf4fce69",
   "metadata": {},
   "outputs": [
    {
     "data": {
      "text/plain": [
       "'mean'"
      ]
     },
     "metadata": {},
     "output_type": "display_data"
    },
    {
     "data": {
      "text/plain": [
       "array([0.94238877, 0.93328482, 0.96552068])"
      ]
     },
     "metadata": {},
     "output_type": "display_data"
    },
    {
     "data": {
      "text/plain": [
       "'std'"
      ]
     },
     "metadata": {},
     "output_type": "display_data"
    },
    {
     "data": {
      "text/plain": [
       "array([0.15986384, 0.17564335, 0.16773778], dtype=float32)"
      ]
     },
     "metadata": {},
     "output_type": "display_data"
    },
    {
     "data": {
      "text/plain": [
       "'ほどんど白なのでＲＧＢ全部1に近い'"
      ]
     },
     "metadata": {},
     "output_type": "display_data"
    },
    {
     "data": {
      "text/plain": [
       "'ほんと白が多いので平均のあたりに画素が集中する'"
      ]
     },
     "metadata": {},
     "output_type": "display_data"
    }
   ],
   "source": [
    "## 訓練画像のRGBそれぞれの平均と分散　＝　強化、転移学習はベースと同じ重みにすること！\n",
    "## Tensorで読み込んだあとにかけるので、255で正規化すること!\n",
    "srcimages = []\n",
    "for path in csv_df['fn'].values:\n",
    "    image = Image.open(path)\n",
    "    image_data = np.array(image)\n",
    "    normalized_image = image_data.astype(np.float32) / 255.0\n",
    "    srcimages.append(normalized_image)\n",
    "mean = np.mean(srcimages, axis=(0, 1, 2))\n",
    "std = np.std(srcimages, axis=(0, 1, 2))\n",
    "display('mean',mean.astype(float) , 'std',std , \"ほどんど白なのでＲＧＢ全部1に近い\",\"ほんと白が多いので平均のあたりに画素が集中する\")"
   ]
  },
  {
   "cell_type": "code",
   "execution_count": 140,
   "id": "90b08705-74a1-4de5-8a2e-93730a39ced9",
   "metadata": {},
   "outputs": [
    {
     "data": {
      "text/plain": [
       "(441, 549, 3)"
      ]
     },
     "metadata": {},
     "output_type": "display_data"
    },
    {
     "data": {
      "text/plain": [
       "array([237,  28,  36], dtype=uint8)"
      ]
     },
     "metadata": {},
     "output_type": "display_data"
    },
    {
     "data": {
      "text/plain": [
       "torch.Size([3, 441, 549])"
      ]
     },
     "metadata": {},
     "output_type": "display_data"
    },
    {
     "data": {
      "text/plain": [
       "tensor([0.9294, 0.1098, 0.1412])"
      ]
     },
     "metadata": {},
     "output_type": "display_data"
    }
   ],
   "source": [
    "image = Image.open(r'./o_dataset/sample_red/A.png')\n",
    "a = np.array(image)\n",
    "display(a.shape , a[0,0])\n",
    "func = transforms.ToTensor()\n",
    "b = func(a)\n",
    "display(b.shape , b[:,0,0])\n",
    "## HWC=>CWH と正規化やってる、RGBの位置は変わらない。"
   ]
  },
  {
   "cell_type": "markdown",
   "id": "aebbd653-c4f5-46f8-8039-6b2c4686fa2e",
   "metadata": {},
   "source": [
    "## データローダを組んでみる"
   ]
  },
  {
   "cell_type": "code",
   "execution_count": 174,
   "id": "46b7db68-66b1-4815-b737-25cec6e4d18b",
   "metadata": {},
   "outputs": [],
   "source": [
    "class ImgValPare(Dataset):\n",
    "    def __init__(self, df, classcol , fncol , transform):\n",
    "        \n",
    "        self.label_list  = df[classcol].to_list()\n",
    "        self.img_pathlist  = df[fncol].to_list()\n",
    "        cols = df.columns.to_list()\n",
    "        cols.remove(fncol)\n",
    "        cols.remove(classcol)\n",
    "        self.x_values = df[cols].values\n",
    "        self.transform = transform\n",
    "\n",
    "    def __len__(self):  \n",
    "        return len( self.img_pathlist )\n",
    "    \n",
    "    def __getitem__(self, index):\n",
    "        # 画像をPILとして読み込む\n",
    "        #print(index)\n",
    "        image = Image.open(self.img_pathlist[index])\n",
    "        #image = image.convert(\"L\") \n",
    "        #numpy_img = np.asarray(image, np.float32) / 255.0\n",
    "        #tensor_img = np.expand_dims(image, axis=0) # このままだとNWHCの形式\n",
    "        #extend = self.x_values[index]    \n",
    "        label = self.label_list[index]\n",
    "                             \n",
    "        if self.transform is not None:\n",
    "            ##print('use transform')\n",
    "            image = self.transform(image)\n",
    "        return image, label \n",
    "    pass"
   ]
  },
  {
   "cell_type": "code",
   "execution_count": 188,
   "id": "ad5eb6d1-33b8-40cf-be74-3fbbb14e3708",
   "metadata": {},
   "outputs": [],
   "source": [
    "std_transform = transforms.Compose([\n",
    "    transforms.ToTensor(),\n",
    "    transforms.Normalize((0.9423888, 0.9332848, 0.9655207), (0.15986384, 0.17564335, 0.16773778))\n",
    "])\n",
    "dataset = ImgValPare( csv_df , classcol = 'class' , fncol = 'fn',transform = std_transform)"
   ]
  },
  {
   "cell_type": "code",
   "execution_count": 189,
   "id": "c437d60e-4084-4f2e-a24a-1897f5b0bb80",
   "metadata": {
    "scrolled": true
   },
   "outputs": [],
   "source": [
    "batch_size = 4\n",
    "## DataLoader worker (pid(s) 14912) exited unexpectedly メモリ不足\n",
    "train_loader = DataLoader(dataset, batch_size=batch_size, shuffle=True, num_workers=0)\n"
   ]
  },
  {
   "cell_type": "code",
   "execution_count": 225,
   "id": "7cb3e83f-78be-43a7-a096-350a792a8cfd",
   "metadata": {
    "scrolled": true
   },
   "outputs": [
    {
     "data": {
      "text/plain": [
       "torch.Size([4, 3, 540, 300])"
      ]
     },
     "metadata": {},
     "output_type": "display_data"
    },
    {
     "data": {
      "text/plain": [
       "4"
      ]
     },
     "metadata": {},
     "output_type": "display_data"
    },
    {
     "data": {
      "text/plain": [
       "PIL.Image.Image"
      ]
     },
     "metadata": {},
     "output_type": "display_data"
    },
    {
     "data": {
      "text/plain": [
       "(300, 540)"
      ]
     },
     "metadata": {},
     "output_type": "display_data"
    }
   ],
   "source": [
    "images, labels = next(iter(train_loader))\n",
    "display(images.shape , len(labels) )\n",
    "j = images[0]\n",
    "j = transforms.functional.to_pil_image(j)\n",
    "display(type(j),j.size)\n",
    "##plt.imshow(j)"
   ]
  },
  {
   "cell_type": "code",
   "execution_count": 233,
   "id": "56ec1308-bbd5-4d22-82c7-cd4b25000bc8",
   "metadata": {},
   "outputs": [
    {
     "data": {
      "text/plain": [
       "torch.Size([4, 3, 540, 300])"
      ]
     },
     "metadata": {},
     "output_type": "display_data"
    },
    {
     "data": {
      "text/plain": [
       "torch.Size([4, 48, 540, 300])"
      ]
     },
     "execution_count": 233,
     "metadata": {},
     "output_type": "execute_result"
    }
   ],
   "source": [
    "display(images.shape)\n",
    "test_c = nn.Conv2d(in_channels=3, out_channels=16*3 , kernel_size = 3, padding=1 , stride=1)\n",
    "d = test_c.forward( images )\n",
    "d.shape"
   ]
  },
  {
   "cell_type": "code",
   "execution_count": 239,
   "id": "c0fc18e4-42ad-47ab-a389-c54d43525250",
   "metadata": {},
   "outputs": [
    {
     "name": "stdout",
     "output_type": "stream",
     "text": [
      "['AlexNet', 'ConvNeXt', 'DenseNet', 'EfficientNet', 'GoogLeNet',\n",
      " 'GoogLeNetOutputs', 'Inception3', 'InceptionOutputs', 'MNASNet', 'MobileNetV2',\n",
      " 'MobileNetV3', 'RegNet', 'ResNet', 'ShuffleNetV2', 'SqueezeNet', 'VGG',\n",
      " 'VisionTransformer']\n"
     ]
    }
   ],
   "source": [
    "from torchvision import models \n",
    "import pprint\n",
    "pprint.pprint([s for s in dir(models) if s[0].isupper()], compact=True)"
   ]
  },
  {
   "cell_type": "code",
   "execution_count": 254,
   "id": "719e83eb-3696-4ff3-afd0-271b248a1815",
   "metadata": {},
   "outputs": [
    {
     "name": "stderr",
     "output_type": "stream",
     "text": [
      "Downloading: \"https://download.pytorch.org/models/mobilenet_v2-b0353104.pth\" to C:\\Users\\MITC17834B/.cache\\torch\\hub\\checkpoints\\mobilenet_v2-b0353104.pth\n"
     ]
    },
    {
     "ename": "URLError",
     "evalue": "<urlopen error [WinError 10054] 既存の接続はリモート ホストに強制的に切断されました。>",
     "output_type": "error",
     "traceback": [
      "\u001b[1;31m---------------------------------------------------------------------------\u001b[0m",
      "\u001b[1;31mConnectionResetError\u001b[0m                      Traceback (most recent call last)",
      "File \u001b[1;32mD:\\MITC17834B\\AppData\\Local\\miniconda3\\envs\\dl_env\\lib\\urllib\\request.py:1346\u001b[0m, in \u001b[0;36mAbstractHTTPHandler.do_open\u001b[1;34m(self, http_class, req, **http_conn_args)\u001b[0m\n\u001b[0;32m   1345\u001b[0m \u001b[38;5;28;01mtry\u001b[39;00m:\n\u001b[1;32m-> 1346\u001b[0m     \u001b[43mh\u001b[49m\u001b[38;5;241;43m.\u001b[39;49m\u001b[43mrequest\u001b[49m\u001b[43m(\u001b[49m\u001b[43mreq\u001b[49m\u001b[38;5;241;43m.\u001b[39;49m\u001b[43mget_method\u001b[49m\u001b[43m(\u001b[49m\u001b[43m)\u001b[49m\u001b[43m,\u001b[49m\u001b[43m \u001b[49m\u001b[43mreq\u001b[49m\u001b[38;5;241;43m.\u001b[39;49m\u001b[43mselector\u001b[49m\u001b[43m,\u001b[49m\u001b[43m \u001b[49m\u001b[43mreq\u001b[49m\u001b[38;5;241;43m.\u001b[39;49m\u001b[43mdata\u001b[49m\u001b[43m,\u001b[49m\u001b[43m \u001b[49m\u001b[43mheaders\u001b[49m\u001b[43m,\u001b[49m\n\u001b[0;32m   1347\u001b[0m \u001b[43m              \u001b[49m\u001b[43mencode_chunked\u001b[49m\u001b[38;5;241;43m=\u001b[39;49m\u001b[43mreq\u001b[49m\u001b[38;5;241;43m.\u001b[39;49m\u001b[43mhas_header\u001b[49m\u001b[43m(\u001b[49m\u001b[38;5;124;43m'\u001b[39;49m\u001b[38;5;124;43mTransfer-encoding\u001b[39;49m\u001b[38;5;124;43m'\u001b[39;49m\u001b[43m)\u001b[49m\u001b[43m)\u001b[49m\n\u001b[0;32m   1348\u001b[0m \u001b[38;5;28;01mexcept\u001b[39;00m \u001b[38;5;167;01mOSError\u001b[39;00m \u001b[38;5;28;01mas\u001b[39;00m err: \u001b[38;5;66;03m# timeout error\u001b[39;00m\n",
      "File \u001b[1;32mD:\\MITC17834B\\AppData\\Local\\miniconda3\\envs\\dl_env\\lib\\http\\client.py:1253\u001b[0m, in \u001b[0;36mHTTPConnection.request\u001b[1;34m(self, method, url, body, headers, encode_chunked)\u001b[0m\n\u001b[0;32m   1252\u001b[0m \u001b[38;5;250m\u001b[39m\u001b[38;5;124;03m\"\"\"Send a complete request to the server.\"\"\"\u001b[39;00m\n\u001b[1;32m-> 1253\u001b[0m \u001b[38;5;28;43mself\u001b[39;49m\u001b[38;5;241;43m.\u001b[39;49m\u001b[43m_send_request\u001b[49m\u001b[43m(\u001b[49m\u001b[43mmethod\u001b[49m\u001b[43m,\u001b[49m\u001b[43m \u001b[49m\u001b[43murl\u001b[49m\u001b[43m,\u001b[49m\u001b[43m \u001b[49m\u001b[43mbody\u001b[49m\u001b[43m,\u001b[49m\u001b[43m \u001b[49m\u001b[43mheaders\u001b[49m\u001b[43m,\u001b[49m\u001b[43m \u001b[49m\u001b[43mencode_chunked\u001b[49m\u001b[43m)\u001b[49m\n",
      "File \u001b[1;32mD:\\MITC17834B\\AppData\\Local\\miniconda3\\envs\\dl_env\\lib\\http\\client.py:1299\u001b[0m, in \u001b[0;36mHTTPConnection._send_request\u001b[1;34m(self, method, url, body, headers, encode_chunked)\u001b[0m\n\u001b[0;32m   1298\u001b[0m     body \u001b[38;5;241m=\u001b[39m _encode(body, \u001b[38;5;124m'\u001b[39m\u001b[38;5;124mbody\u001b[39m\u001b[38;5;124m'\u001b[39m)\n\u001b[1;32m-> 1299\u001b[0m \u001b[38;5;28;43mself\u001b[39;49m\u001b[38;5;241;43m.\u001b[39;49m\u001b[43mendheaders\u001b[49m\u001b[43m(\u001b[49m\u001b[43mbody\u001b[49m\u001b[43m,\u001b[49m\u001b[43m \u001b[49m\u001b[43mencode_chunked\u001b[49m\u001b[38;5;241;43m=\u001b[39;49m\u001b[43mencode_chunked\u001b[49m\u001b[43m)\u001b[49m\n",
      "File \u001b[1;32mD:\\MITC17834B\\AppData\\Local\\miniconda3\\envs\\dl_env\\lib\\http\\client.py:1248\u001b[0m, in \u001b[0;36mHTTPConnection.endheaders\u001b[1;34m(self, message_body, encode_chunked)\u001b[0m\n\u001b[0;32m   1247\u001b[0m     \u001b[38;5;28;01mraise\u001b[39;00m CannotSendHeader()\n\u001b[1;32m-> 1248\u001b[0m \u001b[38;5;28;43mself\u001b[39;49m\u001b[38;5;241;43m.\u001b[39;49m\u001b[43m_send_output\u001b[49m\u001b[43m(\u001b[49m\u001b[43mmessage_body\u001b[49m\u001b[43m,\u001b[49m\u001b[43m \u001b[49m\u001b[43mencode_chunked\u001b[49m\u001b[38;5;241;43m=\u001b[39;49m\u001b[43mencode_chunked\u001b[49m\u001b[43m)\u001b[49m\n",
      "File \u001b[1;32mD:\\MITC17834B\\AppData\\Local\\miniconda3\\envs\\dl_env\\lib\\http\\client.py:1008\u001b[0m, in \u001b[0;36mHTTPConnection._send_output\u001b[1;34m(self, message_body, encode_chunked)\u001b[0m\n\u001b[0;32m   1007\u001b[0m \u001b[38;5;28;01mdel\u001b[39;00m \u001b[38;5;28mself\u001b[39m\u001b[38;5;241m.\u001b[39m_buffer[:]\n\u001b[1;32m-> 1008\u001b[0m \u001b[38;5;28;43mself\u001b[39;49m\u001b[38;5;241;43m.\u001b[39;49m\u001b[43msend\u001b[49m\u001b[43m(\u001b[49m\u001b[43mmsg\u001b[49m\u001b[43m)\u001b[49m\n\u001b[0;32m   1010\u001b[0m \u001b[38;5;28;01mif\u001b[39;00m message_body \u001b[38;5;129;01mis\u001b[39;00m \u001b[38;5;129;01mnot\u001b[39;00m \u001b[38;5;28;01mNone\u001b[39;00m:\n\u001b[0;32m   1011\u001b[0m \n\u001b[0;32m   1012\u001b[0m     \u001b[38;5;66;03m# create a consistent interface to message_body\u001b[39;00m\n",
      "File \u001b[1;32mD:\\MITC17834B\\AppData\\Local\\miniconda3\\envs\\dl_env\\lib\\http\\client.py:948\u001b[0m, in \u001b[0;36mHTTPConnection.send\u001b[1;34m(self, data)\u001b[0m\n\u001b[0;32m    947\u001b[0m \u001b[38;5;28;01mif\u001b[39;00m \u001b[38;5;28mself\u001b[39m\u001b[38;5;241m.\u001b[39mauto_open:\n\u001b[1;32m--> 948\u001b[0m     \u001b[38;5;28;43mself\u001b[39;49m\u001b[38;5;241;43m.\u001b[39;49m\u001b[43mconnect\u001b[49m\u001b[43m(\u001b[49m\u001b[43m)\u001b[49m\n\u001b[0;32m    949\u001b[0m \u001b[38;5;28;01melse\u001b[39;00m:\n",
      "File \u001b[1;32mD:\\MITC17834B\\AppData\\Local\\miniconda3\\envs\\dl_env\\lib\\http\\client.py:1422\u001b[0m, in \u001b[0;36mHTTPSConnection.connect\u001b[1;34m(self)\u001b[0m\n\u001b[0;32m   1420\u001b[0m     server_hostname \u001b[38;5;241m=\u001b[39m \u001b[38;5;28mself\u001b[39m\u001b[38;5;241m.\u001b[39mhost\n\u001b[1;32m-> 1422\u001b[0m \u001b[38;5;28mself\u001b[39m\u001b[38;5;241m.\u001b[39msock \u001b[38;5;241m=\u001b[39m \u001b[38;5;28;43mself\u001b[39;49m\u001b[38;5;241;43m.\u001b[39;49m\u001b[43m_context\u001b[49m\u001b[38;5;241;43m.\u001b[39;49m\u001b[43mwrap_socket\u001b[49m\u001b[43m(\u001b[49m\u001b[38;5;28;43mself\u001b[39;49m\u001b[38;5;241;43m.\u001b[39;49m\u001b[43msock\u001b[49m\u001b[43m,\u001b[49m\n\u001b[0;32m   1423\u001b[0m \u001b[43m                                      \u001b[49m\u001b[43mserver_hostname\u001b[49m\u001b[38;5;241;43m=\u001b[39;49m\u001b[43mserver_hostname\u001b[49m\u001b[43m)\u001b[49m\n",
      "File \u001b[1;32mD:\\MITC17834B\\AppData\\Local\\miniconda3\\envs\\dl_env\\lib\\ssl.py:500\u001b[0m, in \u001b[0;36mSSLContext.wrap_socket\u001b[1;34m(self, sock, server_side, do_handshake_on_connect, suppress_ragged_eofs, server_hostname, session)\u001b[0m\n\u001b[0;32m    494\u001b[0m \u001b[38;5;28;01mdef\u001b[39;00m \u001b[38;5;21mwrap_socket\u001b[39m(\u001b[38;5;28mself\u001b[39m, sock, server_side\u001b[38;5;241m=\u001b[39m\u001b[38;5;28;01mFalse\u001b[39;00m,\n\u001b[0;32m    495\u001b[0m                 do_handshake_on_connect\u001b[38;5;241m=\u001b[39m\u001b[38;5;28;01mTrue\u001b[39;00m,\n\u001b[0;32m    496\u001b[0m                 suppress_ragged_eofs\u001b[38;5;241m=\u001b[39m\u001b[38;5;28;01mTrue\u001b[39;00m,\n\u001b[0;32m    497\u001b[0m                 server_hostname\u001b[38;5;241m=\u001b[39m\u001b[38;5;28;01mNone\u001b[39;00m, session\u001b[38;5;241m=\u001b[39m\u001b[38;5;28;01mNone\u001b[39;00m):\n\u001b[0;32m    498\u001b[0m     \u001b[38;5;66;03m# SSLSocket class handles server_hostname encoding before it calls\u001b[39;00m\n\u001b[0;32m    499\u001b[0m     \u001b[38;5;66;03m# ctx._wrap_socket()\u001b[39;00m\n\u001b[1;32m--> 500\u001b[0m     \u001b[38;5;28;01mreturn\u001b[39;00m \u001b[38;5;28;43mself\u001b[39;49m\u001b[38;5;241;43m.\u001b[39;49m\u001b[43msslsocket_class\u001b[49m\u001b[38;5;241;43m.\u001b[39;49m\u001b[43m_create\u001b[49m\u001b[43m(\u001b[49m\n\u001b[0;32m    501\u001b[0m \u001b[43m        \u001b[49m\u001b[43msock\u001b[49m\u001b[38;5;241;43m=\u001b[39;49m\u001b[43msock\u001b[49m\u001b[43m,\u001b[49m\n\u001b[0;32m    502\u001b[0m \u001b[43m        \u001b[49m\u001b[43mserver_side\u001b[49m\u001b[38;5;241;43m=\u001b[39;49m\u001b[43mserver_side\u001b[49m\u001b[43m,\u001b[49m\n\u001b[0;32m    503\u001b[0m \u001b[43m        \u001b[49m\u001b[43mdo_handshake_on_connect\u001b[49m\u001b[38;5;241;43m=\u001b[39;49m\u001b[43mdo_handshake_on_connect\u001b[49m\u001b[43m,\u001b[49m\n\u001b[0;32m    504\u001b[0m \u001b[43m        \u001b[49m\u001b[43msuppress_ragged_eofs\u001b[49m\u001b[38;5;241;43m=\u001b[39;49m\u001b[43msuppress_ragged_eofs\u001b[49m\u001b[43m,\u001b[49m\n\u001b[0;32m    505\u001b[0m \u001b[43m        \u001b[49m\u001b[43mserver_hostname\u001b[49m\u001b[38;5;241;43m=\u001b[39;49m\u001b[43mserver_hostname\u001b[49m\u001b[43m,\u001b[49m\n\u001b[0;32m    506\u001b[0m \u001b[43m        \u001b[49m\u001b[43mcontext\u001b[49m\u001b[38;5;241;43m=\u001b[39;49m\u001b[38;5;28;43mself\u001b[39;49m\u001b[43m,\u001b[49m\n\u001b[0;32m    507\u001b[0m \u001b[43m        \u001b[49m\u001b[43msession\u001b[49m\u001b[38;5;241;43m=\u001b[39;49m\u001b[43msession\u001b[49m\n\u001b[0;32m    508\u001b[0m \u001b[43m    \u001b[49m\u001b[43m)\u001b[49m\n",
      "File \u001b[1;32mD:\\MITC17834B\\AppData\\Local\\miniconda3\\envs\\dl_env\\lib\\ssl.py:1040\u001b[0m, in \u001b[0;36mSSLSocket._create\u001b[1;34m(cls, sock, server_side, do_handshake_on_connect, suppress_ragged_eofs, server_hostname, context, session)\u001b[0m\n\u001b[0;32m   1039\u001b[0m             \u001b[38;5;28;01mraise\u001b[39;00m \u001b[38;5;167;01mValueError\u001b[39;00m(\u001b[38;5;124m\"\u001b[39m\u001b[38;5;124mdo_handshake_on_connect should not be specified for non-blocking sockets\u001b[39m\u001b[38;5;124m\"\u001b[39m)\n\u001b[1;32m-> 1040\u001b[0m         \u001b[38;5;28;43mself\u001b[39;49m\u001b[38;5;241;43m.\u001b[39;49m\u001b[43mdo_handshake\u001b[49m\u001b[43m(\u001b[49m\u001b[43m)\u001b[49m\n\u001b[0;32m   1041\u001b[0m \u001b[38;5;28;01mexcept\u001b[39;00m (\u001b[38;5;167;01mOSError\u001b[39;00m, \u001b[38;5;167;01mValueError\u001b[39;00m):\n",
      "File \u001b[1;32mD:\\MITC17834B\\AppData\\Local\\miniconda3\\envs\\dl_env\\lib\\ssl.py:1309\u001b[0m, in \u001b[0;36mSSLSocket.do_handshake\u001b[1;34m(self, block)\u001b[0m\n\u001b[0;32m   1308\u001b[0m         \u001b[38;5;28mself\u001b[39m\u001b[38;5;241m.\u001b[39msettimeout(\u001b[38;5;28;01mNone\u001b[39;00m)\n\u001b[1;32m-> 1309\u001b[0m     \u001b[38;5;28;43mself\u001b[39;49m\u001b[38;5;241;43m.\u001b[39;49m\u001b[43m_sslobj\u001b[49m\u001b[38;5;241;43m.\u001b[39;49m\u001b[43mdo_handshake\u001b[49m\u001b[43m(\u001b[49m\u001b[43m)\u001b[49m\n\u001b[0;32m   1310\u001b[0m \u001b[38;5;28;01mfinally\u001b[39;00m:\n",
      "\u001b[1;31mConnectionResetError\u001b[0m: [WinError 10054] 既存の接続はリモート ホストに強制的に切断されました。",
      "\nDuring handling of the above exception, another exception occurred:\n",
      "\u001b[1;31mURLError\u001b[0m                                  Traceback (most recent call last)",
      "Cell \u001b[1;32mIn[254], line 2\u001b[0m\n\u001b[0;32m      1\u001b[0m \u001b[38;5;28;01mfrom\u001b[39;00m \u001b[38;5;21;01mtorchvision\u001b[39;00m\u001b[38;5;21;01m.\u001b[39;00m\u001b[38;5;21;01mmodels\u001b[39;00m \u001b[38;5;28;01mimport\u001b[39;00m MobileNetV2\n\u001b[1;32m----> 2\u001b[0m Model \u001b[38;5;241m=\u001b[39m \u001b[43mmodels\u001b[49m\u001b[38;5;241;43m.\u001b[39;49m\u001b[43mmobilenet_v2\u001b[49m\u001b[43m(\u001b[49m\u001b[43mpretrained\u001b[49m\u001b[38;5;241;43m=\u001b[39;49m\u001b[38;5;28;43;01mTrue\u001b[39;49;00m\u001b[43m)\u001b[49m\n\u001b[0;32m      3\u001b[0m Model\n",
      "File \u001b[1;32mD:\\MITC17834B\\AppData\\Local\\miniconda3\\envs\\dl_env\\lib\\site-packages\\torchvision\\models\\mobilenetv2.py:209\u001b[0m, in \u001b[0;36mmobilenet_v2\u001b[1;34m(pretrained, progress, **kwargs)\u001b[0m\n\u001b[0;32m    207\u001b[0m model \u001b[38;5;241m=\u001b[39m MobileNetV2(\u001b[38;5;241m*\u001b[39m\u001b[38;5;241m*\u001b[39mkwargs)\n\u001b[0;32m    208\u001b[0m \u001b[38;5;28;01mif\u001b[39;00m pretrained:\n\u001b[1;32m--> 209\u001b[0m     state_dict \u001b[38;5;241m=\u001b[39m \u001b[43mload_state_dict_from_url\u001b[49m\u001b[43m(\u001b[49m\u001b[43mmodel_urls\u001b[49m\u001b[43m[\u001b[49m\u001b[38;5;124;43m\"\u001b[39;49m\u001b[38;5;124;43mmobilenet_v2\u001b[39;49m\u001b[38;5;124;43m\"\u001b[39;49m\u001b[43m]\u001b[49m\u001b[43m,\u001b[49m\u001b[43m \u001b[49m\u001b[43mprogress\u001b[49m\u001b[38;5;241;43m=\u001b[39;49m\u001b[43mprogress\u001b[49m\u001b[43m)\u001b[49m\n\u001b[0;32m    210\u001b[0m     model\u001b[38;5;241m.\u001b[39mload_state_dict(state_dict)\n\u001b[0;32m    211\u001b[0m \u001b[38;5;28;01mreturn\u001b[39;00m model\n",
      "File \u001b[1;32mD:\\MITC17834B\\AppData\\Local\\miniconda3\\envs\\dl_env\\lib\\site-packages\\torch\\hub.py:591\u001b[0m, in \u001b[0;36mload_state_dict_from_url\u001b[1;34m(url, model_dir, map_location, progress, check_hash, file_name)\u001b[0m\n\u001b[0;32m    589\u001b[0m         r \u001b[38;5;241m=\u001b[39m HASH_REGEX\u001b[38;5;241m.\u001b[39msearch(filename)  \u001b[38;5;66;03m# r is Optional[Match[str]]\u001b[39;00m\n\u001b[0;32m    590\u001b[0m         hash_prefix \u001b[38;5;241m=\u001b[39m r\u001b[38;5;241m.\u001b[39mgroup(\u001b[38;5;241m1\u001b[39m) \u001b[38;5;28;01mif\u001b[39;00m r \u001b[38;5;28;01melse\u001b[39;00m \u001b[38;5;28;01mNone\u001b[39;00m\n\u001b[1;32m--> 591\u001b[0m     \u001b[43mdownload_url_to_file\u001b[49m\u001b[43m(\u001b[49m\u001b[43murl\u001b[49m\u001b[43m,\u001b[49m\u001b[43m \u001b[49m\u001b[43mcached_file\u001b[49m\u001b[43m,\u001b[49m\u001b[43m \u001b[49m\u001b[43mhash_prefix\u001b[49m\u001b[43m,\u001b[49m\u001b[43m \u001b[49m\u001b[43mprogress\u001b[49m\u001b[38;5;241;43m=\u001b[39;49m\u001b[43mprogress\u001b[49m\u001b[43m)\u001b[49m\n\u001b[0;32m    593\u001b[0m \u001b[38;5;28;01mif\u001b[39;00m _is_legacy_zip_format(cached_file):\n\u001b[0;32m    594\u001b[0m     \u001b[38;5;28;01mreturn\u001b[39;00m _legacy_zip_load(cached_file, model_dir, map_location)\n",
      "File \u001b[1;32mD:\\MITC17834B\\AppData\\Local\\miniconda3\\envs\\dl_env\\lib\\site-packages\\torch\\hub.py:457\u001b[0m, in \u001b[0;36mdownload_url_to_file\u001b[1;34m(url, dst, hash_prefix, progress)\u001b[0m\n\u001b[0;32m    455\u001b[0m file_size \u001b[38;5;241m=\u001b[39m \u001b[38;5;28;01mNone\u001b[39;00m\n\u001b[0;32m    456\u001b[0m req \u001b[38;5;241m=\u001b[39m Request(url, headers\u001b[38;5;241m=\u001b[39m{\u001b[38;5;124m\"\u001b[39m\u001b[38;5;124mUser-Agent\u001b[39m\u001b[38;5;124m\"\u001b[39m: \u001b[38;5;124m\"\u001b[39m\u001b[38;5;124mtorch.hub\u001b[39m\u001b[38;5;124m\"\u001b[39m})\n\u001b[1;32m--> 457\u001b[0m u \u001b[38;5;241m=\u001b[39m \u001b[43murlopen\u001b[49m\u001b[43m(\u001b[49m\u001b[43mreq\u001b[49m\u001b[43m)\u001b[49m\n\u001b[0;32m    458\u001b[0m meta \u001b[38;5;241m=\u001b[39m u\u001b[38;5;241m.\u001b[39minfo()\n\u001b[0;32m    459\u001b[0m \u001b[38;5;28;01mif\u001b[39;00m \u001b[38;5;28mhasattr\u001b[39m(meta, \u001b[38;5;124m'\u001b[39m\u001b[38;5;124mgetheaders\u001b[39m\u001b[38;5;124m'\u001b[39m):\n",
      "File \u001b[1;32mD:\\MITC17834B\\AppData\\Local\\miniconda3\\envs\\dl_env\\lib\\urllib\\request.py:214\u001b[0m, in \u001b[0;36murlopen\u001b[1;34m(url, data, timeout, cafile, capath, cadefault, context)\u001b[0m\n\u001b[0;32m    212\u001b[0m \u001b[38;5;28;01melse\u001b[39;00m:\n\u001b[0;32m    213\u001b[0m     opener \u001b[38;5;241m=\u001b[39m _opener\n\u001b[1;32m--> 214\u001b[0m \u001b[38;5;28;01mreturn\u001b[39;00m \u001b[43mopener\u001b[49m\u001b[38;5;241;43m.\u001b[39;49m\u001b[43mopen\u001b[49m\u001b[43m(\u001b[49m\u001b[43murl\u001b[49m\u001b[43m,\u001b[49m\u001b[43m \u001b[49m\u001b[43mdata\u001b[49m\u001b[43m,\u001b[49m\u001b[43m \u001b[49m\u001b[43mtimeout\u001b[49m\u001b[43m)\u001b[49m\n",
      "File \u001b[1;32mD:\\MITC17834B\\AppData\\Local\\miniconda3\\envs\\dl_env\\lib\\urllib\\request.py:517\u001b[0m, in \u001b[0;36mOpenerDirector.open\u001b[1;34m(self, fullurl, data, timeout)\u001b[0m\n\u001b[0;32m    514\u001b[0m     req \u001b[38;5;241m=\u001b[39m meth(req)\n\u001b[0;32m    516\u001b[0m sys\u001b[38;5;241m.\u001b[39maudit(\u001b[38;5;124m'\u001b[39m\u001b[38;5;124murllib.Request\u001b[39m\u001b[38;5;124m'\u001b[39m, req\u001b[38;5;241m.\u001b[39mfull_url, req\u001b[38;5;241m.\u001b[39mdata, req\u001b[38;5;241m.\u001b[39mheaders, req\u001b[38;5;241m.\u001b[39mget_method())\n\u001b[1;32m--> 517\u001b[0m response \u001b[38;5;241m=\u001b[39m \u001b[38;5;28;43mself\u001b[39;49m\u001b[38;5;241;43m.\u001b[39;49m\u001b[43m_open\u001b[49m\u001b[43m(\u001b[49m\u001b[43mreq\u001b[49m\u001b[43m,\u001b[49m\u001b[43m \u001b[49m\u001b[43mdata\u001b[49m\u001b[43m)\u001b[49m\n\u001b[0;32m    519\u001b[0m \u001b[38;5;66;03m# post-process response\u001b[39;00m\n\u001b[0;32m    520\u001b[0m meth_name \u001b[38;5;241m=\u001b[39m protocol\u001b[38;5;241m+\u001b[39m\u001b[38;5;124m\"\u001b[39m\u001b[38;5;124m_response\u001b[39m\u001b[38;5;124m\"\u001b[39m\n",
      "File \u001b[1;32mD:\\MITC17834B\\AppData\\Local\\miniconda3\\envs\\dl_env\\lib\\urllib\\request.py:534\u001b[0m, in \u001b[0;36mOpenerDirector._open\u001b[1;34m(self, req, data)\u001b[0m\n\u001b[0;32m    531\u001b[0m     \u001b[38;5;28;01mreturn\u001b[39;00m result\n\u001b[0;32m    533\u001b[0m protocol \u001b[38;5;241m=\u001b[39m req\u001b[38;5;241m.\u001b[39mtype\n\u001b[1;32m--> 534\u001b[0m result \u001b[38;5;241m=\u001b[39m \u001b[38;5;28;43mself\u001b[39;49m\u001b[38;5;241;43m.\u001b[39;49m\u001b[43m_call_chain\u001b[49m\u001b[43m(\u001b[49m\u001b[38;5;28;43mself\u001b[39;49m\u001b[38;5;241;43m.\u001b[39;49m\u001b[43mhandle_open\u001b[49m\u001b[43m,\u001b[49m\u001b[43m \u001b[49m\u001b[43mprotocol\u001b[49m\u001b[43m,\u001b[49m\u001b[43m \u001b[49m\u001b[43mprotocol\u001b[49m\u001b[43m \u001b[49m\u001b[38;5;241;43m+\u001b[39;49m\n\u001b[0;32m    535\u001b[0m \u001b[43m                          \u001b[49m\u001b[38;5;124;43m'\u001b[39;49m\u001b[38;5;124;43m_open\u001b[39;49m\u001b[38;5;124;43m'\u001b[39;49m\u001b[43m,\u001b[49m\u001b[43m \u001b[49m\u001b[43mreq\u001b[49m\u001b[43m)\u001b[49m\n\u001b[0;32m    536\u001b[0m \u001b[38;5;28;01mif\u001b[39;00m result:\n\u001b[0;32m    537\u001b[0m     \u001b[38;5;28;01mreturn\u001b[39;00m result\n",
      "File \u001b[1;32mD:\\MITC17834B\\AppData\\Local\\miniconda3\\envs\\dl_env\\lib\\urllib\\request.py:494\u001b[0m, in \u001b[0;36mOpenerDirector._call_chain\u001b[1;34m(self, chain, kind, meth_name, *args)\u001b[0m\n\u001b[0;32m    492\u001b[0m \u001b[38;5;28;01mfor\u001b[39;00m handler \u001b[38;5;129;01min\u001b[39;00m handlers:\n\u001b[0;32m    493\u001b[0m     func \u001b[38;5;241m=\u001b[39m \u001b[38;5;28mgetattr\u001b[39m(handler, meth_name)\n\u001b[1;32m--> 494\u001b[0m     result \u001b[38;5;241m=\u001b[39m \u001b[43mfunc\u001b[49m\u001b[43m(\u001b[49m\u001b[38;5;241;43m*\u001b[39;49m\u001b[43margs\u001b[49m\u001b[43m)\u001b[49m\n\u001b[0;32m    495\u001b[0m     \u001b[38;5;28;01mif\u001b[39;00m result \u001b[38;5;129;01mis\u001b[39;00m \u001b[38;5;129;01mnot\u001b[39;00m \u001b[38;5;28;01mNone\u001b[39;00m:\n\u001b[0;32m    496\u001b[0m         \u001b[38;5;28;01mreturn\u001b[39;00m result\n",
      "File \u001b[1;32mD:\\MITC17834B\\AppData\\Local\\miniconda3\\envs\\dl_env\\lib\\urllib\\request.py:1389\u001b[0m, in \u001b[0;36mHTTPSHandler.https_open\u001b[1;34m(self, req)\u001b[0m\n\u001b[0;32m   1388\u001b[0m \u001b[38;5;28;01mdef\u001b[39;00m \u001b[38;5;21mhttps_open\u001b[39m(\u001b[38;5;28mself\u001b[39m, req):\n\u001b[1;32m-> 1389\u001b[0m     \u001b[38;5;28;01mreturn\u001b[39;00m \u001b[38;5;28;43mself\u001b[39;49m\u001b[38;5;241;43m.\u001b[39;49m\u001b[43mdo_open\u001b[49m\u001b[43m(\u001b[49m\u001b[43mhttp\u001b[49m\u001b[38;5;241;43m.\u001b[39;49m\u001b[43mclient\u001b[49m\u001b[38;5;241;43m.\u001b[39;49m\u001b[43mHTTPSConnection\u001b[49m\u001b[43m,\u001b[49m\u001b[43m \u001b[49m\u001b[43mreq\u001b[49m\u001b[43m,\u001b[49m\n\u001b[0;32m   1390\u001b[0m \u001b[43m        \u001b[49m\u001b[43mcontext\u001b[49m\u001b[38;5;241;43m=\u001b[39;49m\u001b[38;5;28;43mself\u001b[39;49m\u001b[38;5;241;43m.\u001b[39;49m\u001b[43m_context\u001b[49m\u001b[43m,\u001b[49m\u001b[43m \u001b[49m\u001b[43mcheck_hostname\u001b[49m\u001b[38;5;241;43m=\u001b[39;49m\u001b[38;5;28;43mself\u001b[39;49m\u001b[38;5;241;43m.\u001b[39;49m\u001b[43m_check_hostname\u001b[49m\u001b[43m)\u001b[49m\n",
      "File \u001b[1;32mD:\\MITC17834B\\AppData\\Local\\miniconda3\\envs\\dl_env\\lib\\urllib\\request.py:1349\u001b[0m, in \u001b[0;36mAbstractHTTPHandler.do_open\u001b[1;34m(self, http_class, req, **http_conn_args)\u001b[0m\n\u001b[0;32m   1346\u001b[0m         h\u001b[38;5;241m.\u001b[39mrequest(req\u001b[38;5;241m.\u001b[39mget_method(), req\u001b[38;5;241m.\u001b[39mselector, req\u001b[38;5;241m.\u001b[39mdata, headers,\n\u001b[0;32m   1347\u001b[0m                   encode_chunked\u001b[38;5;241m=\u001b[39mreq\u001b[38;5;241m.\u001b[39mhas_header(\u001b[38;5;124m'\u001b[39m\u001b[38;5;124mTransfer-encoding\u001b[39m\u001b[38;5;124m'\u001b[39m))\n\u001b[0;32m   1348\u001b[0m     \u001b[38;5;28;01mexcept\u001b[39;00m \u001b[38;5;167;01mOSError\u001b[39;00m \u001b[38;5;28;01mas\u001b[39;00m err: \u001b[38;5;66;03m# timeout error\u001b[39;00m\n\u001b[1;32m-> 1349\u001b[0m         \u001b[38;5;28;01mraise\u001b[39;00m URLError(err)\n\u001b[0;32m   1350\u001b[0m     r \u001b[38;5;241m=\u001b[39m h\u001b[38;5;241m.\u001b[39mgetresponse()\n\u001b[0;32m   1351\u001b[0m \u001b[38;5;28;01mexcept\u001b[39;00m:\n",
      "\u001b[1;31mURLError\u001b[0m: <urlopen error [WinError 10054] 既存の接続はリモート ホストに強制的に切断されました。>"
     ]
    }
   ],
   "source": [
    "from torchvision.models import MobileNetV2\n",
    "Model = models.mobilenet_v2(pretrained=True)\n",
    "Model"
   ]
  },
  {
   "cell_type": "markdown",
   "id": "26282bc2-4b4e-423b-aeaa-e04b19d747e0",
   "metadata": {},
   "source": [
    "このローダでNetを組んでみる"
   ]
  },
  {
   "cell_type": "code",
   "execution_count": 389,
   "id": "6847ac5b-7d4d-4f5e-ba86-7ad657a08281",
   "metadata": {},
   "outputs": [],
   "source": [
    "class Net( nn.Module ):\n",
    "    def __init__(self):\n",
    "        super(Net, self).__init__()\n",
    "        self.conv1_1 = nn.Conv2d(in_channels=1, out_channels=32 , kernel_size = 3, padding=1 , stride=1)\n",
    "        self.conv1_2 = nn.Conv2d(in_channels=32, out_channels=64, kernel_size=3, padding=1)\n",
    "        self.pool1 = nn.MaxPool2d(kernel_size=2, stride=2)\n",
    "        self.conv2_1 = nn.Conv2d(in_channels=64, out_channels=128, kernel_size=3, padding=1)\n",
    "        self.conv2_2 = nn.Conv2d(in_channels=128, out_channels=256, kernel_size=3, padding=1)\n",
    "        self.pool2 = nn.MaxPool2d(kernel_size=2, stride=2)\n",
    "        ## ここで [32, 256, 4, 4]\n",
    "        self.fc1 = nn.Linear(in_features= (256*4*4) + 1, out_features=128)\n",
    "        self.fc2 = nn.Linear(in_features=128, out_features=1)\n",
    "    def forward(self, x_and_extend):\n",
    "        x =x_and_extend[0]\n",
    "        x2 = x_and_extend[1]\n",
    "        #print('in',x.shape)\n",
    "        x = F.relu(self.conv1_1(x))\n",
    "        #print('conv1_1',x.shape)\n",
    "        x = F.relu(self.conv1_2(x))\n",
    "        #print('conv1_2',x.shape)\n",
    "        x = self.pool1(x)\n",
    "        #print('pool1',x.shape , len(x.flatten()) )\n",
    "        \n",
    "        x = F.relu(self.conv2_1(x))\n",
    "        x = F.relu(self.conv2_2(x))\n",
    "        x = self.pool2(x)\n",
    "        #print('pool2',x.shape ,  len(x.flatten()))\n",
    "        \n",
    "        x = x.view(-1, self.num_flat_features(x))\n",
    "        print('view',x.shape , len(x.flatten()))\n",
    "        print(x)\n",
    "        print('x2',x2.shape )\n",
    "        x3 = x2.unsqueeze(dim=1)\n",
    "        print('x3',x3.shape )\n",
    "        x = torch.cat([x, x3], dim=1) \n",
    "        print(x.dtype , x3.dtype)\n",
    "        print('cat',x.shape , len(x.flatten()))\n",
    "        print(x)\n",
    "        x = self.fc1(x)\n",
    "        print('fc1',x.shape ,  len(x.flatten()))\n",
    "        x = self.fc2(x)\n",
    "        print('fc2',x.shape ,  len(x.flatten()))\n",
    "        \n",
    "        return x  \n",
    "    def num_flat_features(self, x):\n",
    "        size = x.size()[1:]  # all dimensions except the batch dimension\n",
    "        num_features = 1\n",
    "        for s in size:\n",
    "            num_features *= s\n",
    "        #print(num_features)\n",
    "        return num_features\n",
    "    pass"
   ]
  },
  {
   "cell_type": "code",
   "execution_count": 390,
   "id": "44b2fec6-e2ac-4ec8-bdab-a672850a3290",
   "metadata": {},
   "outputs": [
    {
     "name": "stdout",
     "output_type": "stream",
     "text": [
      "Net(\n",
      "  (conv1_1): Conv2d(1, 32, kernel_size=(3, 3), stride=(1, 1), padding=(1, 1))\n",
      "  (conv1_2): Conv2d(32, 64, kernel_size=(3, 3), stride=(1, 1), padding=(1, 1))\n",
      "  (pool1): MaxPool2d(kernel_size=2, stride=2, padding=0, dilation=1, ceil_mode=False)\n",
      "  (conv2_1): Conv2d(64, 128, kernel_size=(3, 3), stride=(1, 1), padding=(1, 1))\n",
      "  (conv2_2): Conv2d(128, 256, kernel_size=(3, 3), stride=(1, 1), padding=(1, 1))\n",
      "  (pool2): MaxPool2d(kernel_size=2, stride=2, padding=0, dilation=1, ceil_mode=False)\n",
      "  (fc1): Linear(in_features=4097, out_features=128, bias=True)\n",
      "  (fc2): Linear(in_features=128, out_features=1, bias=True)\n",
      ")\n"
     ]
    }
   ],
   "source": [
    "net = Net()\n",
    "print(net)"
   ]
  },
  {
   "cell_type": "code",
   "execution_count": 391,
   "id": "ef8a5b0a-d691-4c7e-ae84-e1b6b4a7d6d2",
   "metadata": {},
   "outputs": [],
   "source": [
    "## 損失関数\n",
    "criterion = nn.MSELoss()"
   ]
  },
  {
   "cell_type": "code",
   "execution_count": 392,
   "id": "b9b9b50a-43f0-4e30-b2b9-b04cbedf41bd",
   "metadata": {},
   "outputs": [],
   "source": [
    "## 最適化\n",
    "optimizer = optim.SGD(net.parameters(), lr=0.01)\n",
    "\n"
   ]
  },
  {
   "cell_type": "code",
   "execution_count": 397,
   "id": "b403817f-d295-4f00-ad87-1f506eb541b7",
   "metadata": {
    "scrolled": true
   },
   "outputs": [
    {
     "name": "stdout",
     "output_type": "stream",
     "text": [
      "cpu\n",
      "Epoch 1/30\n",
      "-------------\n",
      "view torch.Size([32, 4096]) 131072\n",
      "tensor([[0.0000, 0.0000, 0.0000,  ..., 0.0285, 0.0287, 0.0195],\n",
      "        [0.0035, 0.0000, 0.0000,  ..., 0.0611, 0.0578, 0.0603],\n",
      "        [0.0000, 0.0000, 0.0000,  ..., 0.0332, 0.0324, 0.0252],\n",
      "        ...,\n",
      "        [0.0000, 0.0000, 0.0000,  ..., 0.0319, 0.0315, 0.0234],\n",
      "        [0.0000, 0.0000, 0.0000,  ..., 0.0345, 0.0339, 0.0277],\n",
      "        [0.0003, 0.0000, 0.0000,  ..., 0.0552, 0.0520, 0.0531]],\n",
      "       grad_fn=<ViewBackward0>)\n",
      "x2 torch.Size([32])\n",
      "x3 torch.Size([32, 1])\n",
      "torch.float32 torch.float32\n",
      "cat torch.Size([32, 4097]) 131104\n",
      "tensor([[0.0000e+00, 0.0000e+00, 0.0000e+00,  ..., 2.8702e-02, 1.9480e-02,\n",
      "         6.4000e+01],\n",
      "        [3.4673e-03, 0.0000e+00, 0.0000e+00,  ..., 5.7821e-02, 6.0253e-02,\n",
      "         4.9000e+03],\n",
      "        [0.0000e+00, 0.0000e+00, 0.0000e+00,  ..., 3.2382e-02, 2.5158e-02,\n",
      "         3.6100e+02],\n",
      "        ...,\n",
      "        [0.0000e+00, 0.0000e+00, 0.0000e+00,  ..., 3.1469e-02, 2.3442e-02,\n",
      "         2.2500e+02],\n",
      "        [0.0000e+00, 0.0000e+00, 0.0000e+00,  ..., 3.3899e-02, 2.7733e-02,\n",
      "         6.2500e+02],\n",
      "        [2.6826e-04, 0.0000e+00, 0.0000e+00,  ..., 5.2046e-02, 5.3128e-02,\n",
      "         3.7200e+03]], grad_fn=<CatBackward0>)\n",
      "fc1 torch.Size([32, 128]) 4096\n",
      "fc2 torch.Size([32, 1]) 32\n",
      "view torch.Size([32, 4096]) 131072\n",
      "tensor([[0.0341, 0.0000, 0.0000,  ..., 0.0000, 0.0000, 0.0000],\n",
      "        [0.0267, 0.0000, 0.0000,  ..., 0.0000, 0.0000, 0.0000],\n",
      "        [0.0130, 0.0000, 0.0000,  ..., 0.0000, 0.0000, 0.0000],\n",
      "        ...,\n",
      "        [0.0404, 0.0000, 0.0000,  ..., 0.0000, 0.0000, 0.0000],\n",
      "        [0.0145, 0.0000, 0.0000,  ..., 0.0000, 0.0000, 0.0000],\n",
      "        [0.0000, 0.0000, 0.0000,  ..., 0.0000, 0.0000, 0.0000]],\n",
      "       grad_fn=<ViewBackward0>)\n",
      "x2 torch.Size([32])\n",
      "x3 torch.Size([32, 1])\n",
      "torch.float32 torch.float32\n",
      "cat torch.Size([32, 4097]) 131104\n",
      "tensor([[3.4081e-02, 0.0000e+00, 0.0000e+00,  ..., 0.0000e+00, 0.0000e+00,\n",
      "         6.5600e+03],\n",
      "        [2.6715e-02, 0.0000e+00, 0.0000e+00,  ..., 0.0000e+00, 0.0000e+00,\n",
      "         4.7600e+03],\n",
      "        [1.3047e-02, 0.0000e+00, 0.0000e+00,  ..., 0.0000e+00, 0.0000e+00,\n",
      "         1.9360e+03],\n",
      "        ...,\n",
      "        [4.0400e-02, 0.0000e+00, 0.0000e+00,  ..., 0.0000e+00, 0.0000e+00,\n",
      "         8.2800e+03],\n",
      "        [1.4517e-02, 0.0000e+00, 0.0000e+00,  ..., 0.0000e+00, 0.0000e+00,\n",
      "         2.2080e+03],\n",
      "        [0.0000e+00, 0.0000e+00, 0.0000e+00,  ..., 0.0000e+00, 0.0000e+00,\n",
      "         1.0000e+02]], grad_fn=<CatBackward0>)\n",
      "fc1 torch.Size([32, 128]) 4096\n",
      "fc2 torch.Size([32, 1]) 32\n",
      "view torch.Size([16, 4096]) 65536\n",
      "tensor([[0., 0., 0.,  ..., 0., 0., 0.],\n",
      "        [0., 0., 0.,  ..., 0., 0., 0.],\n",
      "        [0., 0., 0.,  ..., 0., 0., 0.],\n",
      "        ...,\n",
      "        [0., 0., 0.,  ..., 0., 0., 0.],\n",
      "        [0., 0., 0.,  ..., 0., 0., 0.],\n",
      "        [0., 0., 0.,  ..., 0., 0., 0.]], grad_fn=<ViewBackward0>)\n",
      "x2 torch.Size([16])\n",
      "x3 torch.Size([16, 1])\n",
      "torch.float32 torch.float32\n",
      "cat torch.Size([16, 4097]) 65552\n",
      "tensor([[   0.,    0.,    0.,  ...,    0.,    0., 2808.],\n",
      "        [   0.,    0.,    0.,  ...,    0.,    0., 9408.],\n",
      "        [   0.,    0.,    0.,  ...,    0.,    0.,  144.],\n",
      "        ...,\n",
      "        [   0.,    0.,    0.,  ...,    0.,    0., 8100.],\n",
      "        [   0.,    0.,    0.,  ...,    0.,    0., 2116.],\n",
      "        [   0.,    0.,    0.,  ...,    0.,    0.,   81.]],\n",
      "       grad_fn=<CatBackward0>)\n",
      "fc1 torch.Size([16, 128]) 2048\n",
      "fc2 torch.Size([16, 1]) 16\n",
      "Loss: nan Acc: 0.0125\n"
     ]
    }
   ],
   "source": [
    "##https://venoda.hatenablog.com/entry/2020/10/14/071440\n",
    "##https://aidiary.hatenablog.com/entry/20180221/1519223357\n",
    "\n",
    "num_epochs = 30\n",
    "device = torch.device(\"cuda:0\" if torch.cuda.is_available() else \"cpu\")\n",
    "print(device)\n",
    "net = net.to(device)\n",
    "net.train()\n",
    "for epoch in range(num_epochs):\n",
    "    print('Epoch {}/{}'.format(epoch+1, num_epochs))\n",
    "    print('-------------')\n",
    "    net.train()\n",
    "    # 損失和\n",
    "    epoch_loss = 0.0\n",
    "    # epochの正解数\n",
    "    epoch_corrects = 0\n",
    "    for inputs, labels ,extend in train_loader:\n",
    "        inputs = inputs.to(device)\n",
    "        labels = labels.to(device)\n",
    "        extend = extend.to(device,dtype=torch.float32)\n",
    "        # 勾配を初期化する\n",
    "        optimizer.zero_grad()\n",
    "        # 学習時のみ勾配を計算させる設定にする\n",
    "        with torch.set_grad_enabled(True):\n",
    "            outputs = net([inputs,extend])\n",
    "             # ラベルを予測\n",
    "            _, preds = torch.max(outputs, 1)\n",
    "            # 損失関数を使って損失を計算する\n",
    "            loss = criterion(outputs.to(torch.float64), labels)\n",
    "             # 誤差を逆伝搬する\n",
    "            loss.backward()\n",
    "            # パラメータを更新する\n",
    "            optimizer.step()\n",
    "            epoch_loss += loss.item() * inputs.size(0)\n",
    "            epoch_corrects += torch.sum(preds == labels.data)\n",
    "    # 1エポックでの損失を計算\n",
    "    epoch_loss = epoch_loss / len(train_loader.dataset)\n",
    "    # 1エポックでの正解率を計算\n",
    "    epoch_acc = epoch_corrects.double() / len(train_loader.dataset)\n",
    "    print('Loss: {:.4f} Acc: {:.4f}'.format(epoch_loss, epoch_acc))\n",
    "    break\n",
    "        "
   ]
  },
  {
   "cell_type": "code",
   "execution_count": 395,
   "id": "c23a5071-ec89-454c-985e-edaa69676f4a",
   "metadata": {},
   "outputs": [
    {
     "data": {
      "text/plain": [
       "torch.float64"
      ]
     },
     "execution_count": 395,
     "metadata": {},
     "output_type": "execute_result"
    }
   ],
   "source": [
    "extend.dtype"
   ]
  },
  {
   "cell_type": "code",
   "execution_count": 301,
   "id": "4de855d6-a443-488f-8716-9752667ccc81",
   "metadata": {},
   "outputs": [
    {
     "data": {
      "text/plain": [
       "torch.float64"
      ]
     },
     "execution_count": 301,
     "metadata": {},
     "output_type": "execute_result"
    }
   ],
   "source": [
    "labels.dtype"
   ]
  },
  {
   "cell_type": "code",
   "execution_count": 265,
   "id": "e4e7616c-1b06-4041-b317-0af491627cf0",
   "metadata": {},
   "outputs": [
    {
     "data": {
      "text/plain": [
       "int"
      ]
     },
     "execution_count": 265,
     "metadata": {},
     "output_type": "execute_result"
    }
   ],
   "source": [
    "type(labels.shape[0])"
   ]
  },
  {
   "cell_type": "code",
   "execution_count": 396,
   "id": "5bd26292-cb58-4682-82fb-ccabbbf6ffa3",
   "metadata": {},
   "outputs": [
    {
     "data": {
      "text/plain": [
       "tensor([3.6100e+02, 6.8880e+03, 9.6000e+03, 4.3560e+03, 5.2900e+02, 6.2500e+02,\n",
       "        6.0840e+03, 3.6000e+01, 7.2240e+03, 8.8320e+03, 3.8440e+03, 2.5600e+02,\n",
       "        5.7760e+03, 1.9360e+03, 0.0000e+00, 8.1000e+03, 9.0240e+03, 5.7600e+02,\n",
       "        1.0000e+00, 7.9200e+03, 1.3690e+03, 7.8400e+02, 2.5000e+01, 1.2100e+02,\n",
       "        3.0240e+03, 2.7040e+03, 5.9280e+03, 1.2960e+03, 8.4100e+02, 6.5600e+03,\n",
       "        1.7640e+03, 9.2160e+03], dtype=torch.float64)"
      ]
     },
     "execution_count": 396,
     "metadata": {},
     "output_type": "execute_result"
    }
   ],
   "source": [
    "extend"
   ]
  },
  {
   "cell_type": "code",
   "execution_count": null,
   "id": "16a21301-4aae-4b4f-9832-c35988c1fe6c",
   "metadata": {},
   "outputs": [],
   "source": []
  }
 ],
 "metadata": {
  "kernelspec": {
   "display_name": "Python 3 (ipykernel)",
   "language": "python",
   "name": "python3"
  },
  "language_info": {
   "codemirror_mode": {
    "name": "ipython",
    "version": 3
   },
   "file_extension": ".py",
   "mimetype": "text/x-python",
   "name": "python",
   "nbconvert_exporter": "python",
   "pygments_lexer": "ipython3",
   "version": "3.9.5"
  }
 },
 "nbformat": 4,
 "nbformat_minor": 5
}
