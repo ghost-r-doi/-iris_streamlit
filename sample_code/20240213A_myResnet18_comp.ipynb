{
 "cells": [
  {
   "cell_type": "markdown",
   "id": "3c4b3af0-8796-4f91-a3b8-a189ed4b5b47",
   "metadata": {},
   "source": [
    "# 自前のネットワークを組んで学習させてみる"
   ]
  },
  {
   "cell_type": "code",
   "execution_count": 76,
   "id": "7703dc5b-ee9d-4aaa-add2-f96d5029ac18",
   "metadata": {},
   "outputs": [],
   "source": [
    "import pandas as pd\n",
    "import numpy as np\n",
    "import os\n",
    "import random\n",
    "from datetime import datetime\n",
    "import pickle\n",
    "from PIL import Image\n",
    "import matplotlib.pyplot as plt\n",
    "from sklearn.preprocessing import StandardScaler\n",
    "plt.rcParams['font.family'] = 'Meiryo'\n",
    "\n",
    "from torch.utils.data import DataLoader, Dataset\n",
    "import torch\n",
    "from torchvision import transforms\n",
    "import torchvision\n",
    "from torch import optim"
   ]
  },
  {
   "cell_type": "code",
   "execution_count": 77,
   "id": "41647b1b-afa7-4fd6-ae50-20a1694f1918",
   "metadata": {},
   "outputs": [],
   "source": [
    "train_fn = r'./dataset_cur_train.csv'\n",
    "test_fn = r'./dataset_cur_test.csv'"
   ]
  },
  {
   "cell_type": "code",
   "execution_count": 78,
   "id": "55fd0446-9e09-443b-9a85-463eec4bdbd2",
   "metadata": {},
   "outputs": [],
   "source": [
    "new_dir_path_recursive = './myResnet18/'\n",
    "os.makedirs(new_dir_path_recursive, exist_ok=True)"
   ]
  },
  {
   "cell_type": "code",
   "execution_count": 79,
   "id": "f5294d05-3e0d-461d-83fc-16ebda6d1449",
   "metadata": {},
   "outputs": [
    {
     "data": {
      "text/plain": [
       "redpoint_-3            int64\n",
       "redpoint_-2            int64\n",
       "redpoint_-1            int64\n",
       "redpoint_0             int64\n",
       "redpoint_1             int64\n",
       "redpoint_2             int64\n",
       "redpoint_3             int64\n",
       "pred                   int64\n",
       "ends                   int64\n",
       "red                  float64\n",
       "yellow               float64\n",
       "red_diff             float32\n",
       "remain_ends          float32\n",
       "last_stone_is_red    float32\n",
       "red_postion          float32\n",
       "filepath              object\n",
       "page                   int64\n",
       "T                     object\n",
       "dtype: object"
      ]
     },
     "metadata": {},
     "output_type": "display_data"
    },
    {
     "data": {
      "text/html": [
       "<div>\n",
       "<style scoped>\n",
       "    .dataframe tbody tr th:only-of-type {\n",
       "        vertical-align: middle;\n",
       "    }\n",
       "\n",
       "    .dataframe tbody tr th {\n",
       "        vertical-align: top;\n",
       "    }\n",
       "\n",
       "    .dataframe thead th {\n",
       "        text-align: right;\n",
       "    }\n",
       "</style>\n",
       "<table border=\"1\" class=\"dataframe\">\n",
       "  <thead>\n",
       "    <tr style=\"text-align: right;\">\n",
       "      <th></th>\n",
       "      <th>redpoint_-3</th>\n",
       "      <th>redpoint_-2</th>\n",
       "      <th>redpoint_-1</th>\n",
       "      <th>redpoint_0</th>\n",
       "      <th>redpoint_1</th>\n",
       "      <th>redpoint_2</th>\n",
       "      <th>redpoint_3</th>\n",
       "      <th>pred</th>\n",
       "      <th>ends</th>\n",
       "      <th>red</th>\n",
       "      <th>yellow</th>\n",
       "      <th>red_diff</th>\n",
       "      <th>remain_ends</th>\n",
       "      <th>last_stone_is_red</th>\n",
       "      <th>red_postion</th>\n",
       "      <th>filepath</th>\n",
       "      <th>page</th>\n",
       "      <th>T</th>\n",
       "    </tr>\n",
       "  </thead>\n",
       "  <tbody>\n",
       "    <tr>\n",
       "      <th>0</th>\n",
       "      <td>1</td>\n",
       "      <td>0</td>\n",
       "      <td>0</td>\n",
       "      <td>0</td>\n",
       "      <td>0</td>\n",
       "      <td>0</td>\n",
       "      <td>0</td>\n",
       "      <td>-3</td>\n",
       "      <td>4</td>\n",
       "      <td>0.0</td>\n",
       "      <td>3.0</td>\n",
       "      <td>-3.0</td>\n",
       "      <td>5.0</td>\n",
       "      <td>0.0</td>\n",
       "      <td>-3.0</td>\n",
       "      <td>./dataset_o\\ECC2023_ResultsBook_Women_A-Divisi...</td>\n",
       "      <td>462</td>\n",
       "      <td>ECC2023_ResultsBook_Women_A-Division</td>\n",
       "    </tr>\n",
       "    <tr>\n",
       "      <th>1</th>\n",
       "      <td>0</td>\n",
       "      <td>0</td>\n",
       "      <td>0</td>\n",
       "      <td>0</td>\n",
       "      <td>1</td>\n",
       "      <td>0</td>\n",
       "      <td>0</td>\n",
       "      <td>1</td>\n",
       "      <td>7</td>\n",
       "      <td>1.0</td>\n",
       "      <td>0.0</td>\n",
       "      <td>1.0</td>\n",
       "      <td>2.0</td>\n",
       "      <td>1.0</td>\n",
       "      <td>3.0</td>\n",
       "      <td>./dataset_o\\CWC2018-19_Leg3_ResultsBook\\geme31...</td>\n",
       "      <td>318</td>\n",
       "      <td>CWC2018-19_Leg3_ResultsBook</td>\n",
       "    </tr>\n",
       "    <tr>\n",
       "      <th>2</th>\n",
       "      <td>0</td>\n",
       "      <td>0</td>\n",
       "      <td>0</td>\n",
       "      <td>0</td>\n",
       "      <td>1</td>\n",
       "      <td>0</td>\n",
       "      <td>0</td>\n",
       "      <td>1</td>\n",
       "      <td>4</td>\n",
       "      <td>1.0</td>\n",
       "      <td>0.0</td>\n",
       "      <td>1.0</td>\n",
       "      <td>5.0</td>\n",
       "      <td>1.0</td>\n",
       "      <td>0.0</td>\n",
       "      <td>./dataset_o\\WWCC2022_ResultsBook\\geme600end4.png</td>\n",
       "      <td>600</td>\n",
       "      <td>WWCC2022_ResultsBook</td>\n",
       "    </tr>\n",
       "  </tbody>\n",
       "</table>\n",
       "</div>"
      ],
      "text/plain": [
       "   redpoint_-3  redpoint_-2  redpoint_-1  redpoint_0  redpoint_1  redpoint_2  \\\n",
       "0            1            0            0           0           0           0   \n",
       "1            0            0            0           0           1           0   \n",
       "2            0            0            0           0           1           0   \n",
       "\n",
       "   redpoint_3  pred  ends  red  yellow  red_diff  remain_ends  \\\n",
       "0           0    -3     4  0.0     3.0      -3.0          5.0   \n",
       "1           0     1     7  1.0     0.0       1.0          2.0   \n",
       "2           0     1     4  1.0     0.0       1.0          5.0   \n",
       "\n",
       "   last_stone_is_red  red_postion  \\\n",
       "0                0.0         -3.0   \n",
       "1                1.0          3.0   \n",
       "2                1.0          0.0   \n",
       "\n",
       "                                            filepath  page  \\\n",
       "0  ./dataset_o\\ECC2023_ResultsBook_Women_A-Divisi...   462   \n",
       "1  ./dataset_o\\CWC2018-19_Leg3_ResultsBook\\geme31...   318   \n",
       "2   ./dataset_o\\WWCC2022_ResultsBook\\geme600end4.png   600   \n",
       "\n",
       "                                      T  \n",
       "0  ECC2023_ResultsBook_Women_A-Division  \n",
       "1           CWC2018-19_Leg3_ResultsBook  \n",
       "2                  WWCC2022_ResultsBook  "
      ]
     },
     "metadata": {},
     "output_type": "display_data"
    }
   ],
   "source": [
    "df_train = pd.read_csv(train_fn,index_col=0)\n",
    "df_train['red_diff'] = df_train['red_diff'].astype(np.float32)\n",
    "df_train['remain_ends'] = df_train['remain_ends'].astype(np.float32)\n",
    "df_train['last_stone_is_red'] = df_train['last_stone_is_red'].astype(np.float32)\n",
    "df_train['red_postion'] = df_train['red_postion'].astype(np.float32)\n",
    "display(df_train.dtypes)\n",
    "display(df_train.head(3))"
   ]
  },
  {
   "cell_type": "markdown",
   "id": "2416d239-816d-4246-98c9-68aa35baafb0",
   "metadata": {},
   "source": [
    "## red_diff が目的、fn,remain_ends,last_stone_is_red,red_postion が説明変数\n",
    "説明変数を標準化する"
   ]
  },
  {
   "cell_type": "code",
   "execution_count": 5,
   "id": "ba7ce319-2e82-424f-94ff-2a6171635c65",
   "metadata": {},
   "outputs": [
    {
     "data": {
      "text/plain": [
       "array([[-1.5558919 ,  0.9972611 ,  1.2323233 ],\n",
       "       [ 1.5270197 ,  0.9972611 , -0.01566701],\n",
       "       [-1.5558919 , -1.0027465 ,  1.2323233 ]], dtype=float32)"
      ]
     },
     "metadata": {},
     "output_type": "display_data"
    },
    {
     "name": "stdout",
     "output_type": "stream",
     "text": [
      "['remain_ends', 'last_stone_is_red', 'red_postion']\n"
     ]
    },
    {
     "data": {
      "text/plain": [
       "3"
      ]
     },
     "metadata": {},
     "output_type": "display_data"
    },
    {
     "data": {
      "text/plain": [
       "array([4.0374607 , 0.50137133, 0.03766138])"
      ]
     },
     "metadata": {},
     "output_type": "display_data"
    },
    {
     "data": {
      "text/plain": [
       "array([6.73376293, 0.24999812, 5.7785669 ])"
      ]
     },
     "metadata": {},
     "output_type": "display_data"
    },
    {
     "data": {
      "text/html": [
       "<div>\n",
       "<style scoped>\n",
       "    .dataframe tbody tr th:only-of-type {\n",
       "        vertical-align: middle;\n",
       "    }\n",
       "\n",
       "    .dataframe tbody tr th {\n",
       "        vertical-align: top;\n",
       "    }\n",
       "\n",
       "    .dataframe thead th {\n",
       "        text-align: right;\n",
       "    }\n",
       "</style>\n",
       "<table border=\"1\" class=\"dataframe\">\n",
       "  <thead>\n",
       "    <tr style=\"text-align: right;\">\n",
       "      <th></th>\n",
       "      <th>red_diff</th>\n",
       "      <th>remain_ends</th>\n",
       "      <th>last_stone_is_red</th>\n",
       "      <th>red_postion</th>\n",
       "      <th>filepath</th>\n",
       "    </tr>\n",
       "  </thead>\n",
       "  <tbody>\n",
       "    <tr>\n",
       "      <th>8</th>\n",
       "      <td>1.0</td>\n",
       "      <td>-1.555892</td>\n",
       "      <td>0.997261</td>\n",
       "      <td>1.232323</td>\n",
       "      <td>./dataset_o\\ECC2023_ResultsBook_Women_A-Divisi...</td>\n",
       "    </tr>\n",
       "    <tr>\n",
       "      <th>0</th>\n",
       "      <td>2.0</td>\n",
       "      <td>1.527020</td>\n",
       "      <td>0.997261</td>\n",
       "      <td>-0.015667</td>\n",
       "      <td>./dataset_o\\ECC2021_ResultsBook_Men_A-Division...</td>\n",
       "    </tr>\n",
       "    <tr>\n",
       "      <th>8</th>\n",
       "      <td>-2.0</td>\n",
       "      <td>-1.555892</td>\n",
       "      <td>-1.002746</td>\n",
       "      <td>1.232323</td>\n",
       "      <td>./dataset_o\\ECC2019_ResultsBook_Women_A-Divisi...</td>\n",
       "    </tr>\n",
       "    <tr>\n",
       "      <th>7</th>\n",
       "      <td>1.0</td>\n",
       "      <td>-1.170528</td>\n",
       "      <td>0.997261</td>\n",
       "      <td>-0.431664</td>\n",
       "      <td>./dataset_o\\OWG2018_ResultsBook\\geme835end8.png</td>\n",
       "    </tr>\n",
       "    <tr>\n",
       "      <th>8</th>\n",
       "      <td>-3.0</td>\n",
       "      <td>-1.555892</td>\n",
       "      <td>-1.002746</td>\n",
       "      <td>0.400330</td>\n",
       "      <td>./dataset_o\\WWCC2018_ResultsBook\\geme338end9.png</td>\n",
       "    </tr>\n",
       "  </tbody>\n",
       "</table>\n",
       "</div>"
      ],
      "text/plain": [
       "   red_diff  remain_ends  last_stone_is_red  red_postion  \\\n",
       "8       1.0    -1.555892           0.997261     1.232323   \n",
       "0       2.0     1.527020           0.997261    -0.015667   \n",
       "8      -2.0    -1.555892          -1.002746     1.232323   \n",
       "7       1.0    -1.170528           0.997261    -0.431664   \n",
       "8      -3.0    -1.555892          -1.002746     0.400330   \n",
       "\n",
       "                                            filepath  \n",
       "8  ./dataset_o\\ECC2023_ResultsBook_Women_A-Divisi...  \n",
       "0  ./dataset_o\\ECC2021_ResultsBook_Men_A-Division...  \n",
       "8  ./dataset_o\\ECC2019_ResultsBook_Women_A-Divisi...  \n",
       "7    ./dataset_o\\OWG2018_ResultsBook\\geme835end8.png  \n",
       "8   ./dataset_o\\WWCC2018_ResultsBook\\geme338end9.png  "
      ]
     },
     "execution_count": 5,
     "metadata": {},
     "output_type": "execute_result"
    }
   ],
   "source": [
    "# 標準化\n",
    "stdsc = StandardScaler()\n",
    "##学習時の標準化したパラメータは、評価、本番時におなじ重みで標準化する処理が必要\n",
    "x_train_df = df_train.copy().drop(['filepath','red_diff'],axis=1)\n",
    "x_train_std = stdsc.fit_transform(x_train_df)\n",
    "display( x_train_std[:3] )\n",
    "## DataFrameの値を入れ替え\n",
    "qcl = df_train.columns.to_list()\n",
    "qcl.remove('filepath')\n",
    "qcl.remove('red_diff')\n",
    "print(qcl)\n",
    "df_train[qcl] = x_train_std\n",
    "pickle.dump(stdsc, open(new_dir_path_recursive+\"stdsc_02240209.pkl\", \"wb\"))\n",
    "display(stdsc.n_features_in_, stdsc.mean_ , stdsc.var_) \n",
    "df_train.head(5)"
   ]
  },
  {
   "cell_type": "markdown",
   "id": "232f4a74-d1e7-4304-a0f7-933485b4a9ba",
   "metadata": {},
   "source": [
    "### RESNET18\n",
    "https://pytorch.org/vision/main/models/generated/torchvision.models.resnet18.html  \n",
    "crop = 224\n",
    "mean=[0.485, 0.456, 0.406] , std=[0.229, 0.224, 0.225]"
   ]
  },
  {
   "cell_type": "code",
   "execution_count": 6,
   "id": "fc251581-3052-406f-94bf-c781ea7943a6",
   "metadata": {},
   "outputs": [],
   "source": [
    "def torch_fix_seed(seed=42):\n",
    "    # Python random\n",
    "    random.seed(seed)\n",
    "    # Numpy\n",
    "    np.random.seed(seed)\n",
    "    # Pytorch\n",
    "    torch.manual_seed(seed)\n",
    "    torch.cuda.manual_seed(seed)\n",
    "    ##torch.backends.cudnn.deterministic = True\n",
    "    ##torch.use_deterministic_algorithms = True\n",
    "\n",
    "torch_fix_seed()\n"
   ]
  },
  {
   "cell_type": "code",
   "execution_count": 7,
   "id": "3d98501e-1d3d-4b23-bb83-646cf5a3f981",
   "metadata": {},
   "outputs": [
    {
     "data": {
      "text/plain": [
       "[300, 540]"
      ]
     },
     "metadata": {},
     "output_type": "display_data"
    },
    {
     "data": {
      "text/plain": [
       "120.0"
      ]
     },
     "metadata": {},
     "output_type": "display_data"
    }
   ],
   "source": [
    "## 画像変換の定義\n",
    "w,h = Image.open(df_train['filepath'].values[0]).size\n",
    "## 正方形にするための差分\n",
    "pad = (h-w)/2\n",
    "display([w,h],pad)\n",
    "target_size = 224\n",
    "## train用\n",
    "transform_train = transforms.Compose([\n",
    "    transforms.Pad(( 240 // 2, 0), fill=0, padding_mode='constant'),  # 左右に余白を追加\n",
    "    transforms.Resize(target_size),\n",
    "    transforms.CenterCrop(target_size),\n",
    "    transforms.RandomHorizontalFlip(0.33),\n",
    "    transforms.ToTensor(),\n",
    "    transforms.Normalize(mean=[0.485, 0.456, 0.406], std=[0.229, 0.224, 0.225])\n",
    "])\n",
    "# valid/test用\n",
    "transform_test = transforms.Compose([\n",
    "    transforms.Pad(( 240 // 2, 0), fill=0, padding_mode='constant'),  # 左右に余白を追加\n",
    "    transforms.Resize(target_size),\n",
    "    transforms.CenterCrop(target_size),\n",
    "    transforms.RandomHorizontalFlip(0.33),\n",
    "    transforms.ToTensor(),\n",
    "    transforms.Normalize(mean=[0.485, 0.456, 0.406], std=[0.229, 0.224, 0.225])\n",
    "])"
   ]
  },
  {
   "cell_type": "code",
   "execution_count": 75,
   "id": "22f5154d-84a6-42eb-b638-dbab73d94516",
   "metadata": {},
   "outputs": [
    {
     "data": {
      "text/plain": [
       "-5.0      39\n",
       "-4.0     182\n",
       "-3.0     613\n",
       "-2.0    2032\n",
       "-1.0    3619\n",
       " 0.0    1807\n",
       " 1.0    3721\n",
       " 2.0    2115\n",
       " 3.0     608\n",
       " 4.0     166\n",
       " 5.0      47\n",
       "dtype: int64"
      ]
     },
     "execution_count": 75,
     "metadata": {},
     "output_type": "execute_result"
    }
   ],
   "source": [
    "class_data = pd.get_dummies(df_train['red_diff'])\n",
    "class_data.sum() , "
   ]
  },
  {
   "cell_type": "markdown",
   "id": "cd9f773c-6504-40e9-a103-bd8b100ab1a2",
   "metadata": {},
   "source": [
    "# 自前のデータセット定義"
   ]
  },
  {
   "cell_type": "code",
   "execution_count": 8,
   "id": "f04521e7-c7bd-4a5d-9a0c-71a00502dff0",
   "metadata": {},
   "outputs": [],
   "source": [
    "class ImgValueDataset(Dataset):\n",
    "    def __init__(self, df, classcol , fncol , transform):\n",
    "        \n",
    "        ##self.label_list  = df[classcol].to_list()\n",
    "        class_data = pd.get_dummies(df[classcol]).values\n",
    "        self.label_list  = class_data.astype(float)\n",
    "\n",
    "        self.val_list  = df[['remain_ends','last_stone_is_red','red_postion']].astype(np.float16).values\n",
    "        \n",
    "        self.img_pathlist  = df[fncol].to_list()\n",
    "        cols = df.columns.to_list()\n",
    "        cols.remove(fncol)\n",
    "        cols.remove(classcol)\n",
    "        self.x_values = df[cols].values\n",
    "        self.transform = transform\n",
    "\n",
    "    def __len__(self):  \n",
    "        return len( self.img_pathlist )\n",
    "    \n",
    "    def __getitem__(self, index):\n",
    "        # 画像をPILとして読み込む\n",
    "        #print(index,self.img_pathlist[index])\n",
    "        image = Image.open(self.img_pathlist[index])\n",
    "        \n",
    "        label = self.label_list[index]\n",
    "\n",
    "        extend = self.val_list[index]                         \n",
    "        if self.transform is not None:\n",
    "            ##print('use transform')\n",
    "            image = self.transform(image)\n",
    "        ## 次元を足してやってっそこに追加データをぶっこむ\n",
    "        extend_tensor = np.full((224,224),255)\n",
    "        extend_tensor[1][0] = extend[0]\n",
    "        extend_tensor[1][1] = extend[1]\n",
    "        extend_tensor[1][2] = extend[2]\n",
    "        #print(extend_tensor)\n",
    "        extend_tensor = torch.Tensor(extend_tensor)\n",
    "        extend_tensor = extend_tensor.unsqueeze(0)\n",
    "        out = torch.cat([image, extend_tensor], dim=0)\n",
    "                             \n",
    "        return out, label \n",
    "    pass"
   ]
  },
  {
   "cell_type": "code",
   "execution_count": 9,
   "id": "c1a795a1-a4b0-4f93-bb8d-9544cce15f0b",
   "metadata": {},
   "outputs": [
    {
     "data": {
      "text/plain": [
       "11959"
      ]
     },
     "execution_count": 9,
     "metadata": {},
     "output_type": "execute_result"
    }
   ],
   "source": [
    "from sklearn.model_selection import train_test_split\n",
    "train_df, test_df = train_test_split(df_train, test_size=0.2, stratify=df_train['red_diff'])\n",
    "train_dataset = ImgValueDataset( train_df ,classcol='red_diff' , fncol='filepath',transform=transform_train)\n",
    "test_dataset = ImgValueDataset( test_df ,classcol='red_diff' , fncol='filepath' ,transform=transform_test)\n",
    "len(train_df)"
   ]
  },
  {
   "cell_type": "code",
   "execution_count": 10,
   "id": "4a9aa0e0-f19c-4983-846a-4fb6955f5645",
   "metadata": {},
   "outputs": [],
   "source": [
    "batch_size = 4\n",
    "train_loader = DataLoader(train_dataset, batch_size=batch_size, shuffle=True, num_workers=0)\n"
   ]
  },
  {
   "cell_type": "code",
   "execution_count": 11,
   "id": "0f12baa4-eaf9-43e9-aed0-30be6dabc706",
   "metadata": {},
   "outputs": [
    {
     "data": {
      "text/plain": [
       "2990"
      ]
     },
     "execution_count": 11,
     "metadata": {},
     "output_type": "execute_result"
    }
   ],
   "source": [
    "train_loader.__len__()"
   ]
  },
  {
   "cell_type": "code",
   "execution_count": 12,
   "id": "b80edabd-3b50-49e8-aec9-88cb63cfa1b6",
   "metadata": {},
   "outputs": [
    {
     "data": {
      "text/plain": [
       "(torch.Size([4, 4, 224, 224]),\n",
       " tensor([[0., 0., 1., 0., 0., 0., 0., 0., 0., 0., 0.],\n",
       "         [0., 0., 0., 0., 0., 0., 0., 1., 0., 0., 0.],\n",
       "         [0., 0., 0., 0., 0., 0., 0., 1., 0., 0., 0.],\n",
       "         [0., 0., 0., 0., 1., 0., 0., 0., 0., 0., 0.]], dtype=torch.float64))"
      ]
     },
     "execution_count": 12,
     "metadata": {},
     "output_type": "execute_result"
    }
   ],
   "source": [
    "inputs, labels = next(iter(train_loader))\n",
    "inputs.shape , labels"
   ]
  },
  {
   "cell_type": "code",
   "execution_count": 13,
   "id": "29ca2083-5c34-403f-9d51-ec37ea1750f4",
   "metadata": {},
   "outputs": [
    {
     "data": {
      "text/plain": [
       "torch.Size([3, 4, 224, 224])"
      ]
     },
     "execution_count": 13,
     "metadata": {},
     "output_type": "execute_result"
    }
   ],
   "source": [
    "image = inputs[:3]\n",
    "image.shape"
   ]
  },
  {
   "cell_type": "code",
   "execution_count": 14,
   "id": "10aa115c-2356-43c7-a7b5-58c3fe577e11",
   "metadata": {},
   "outputs": [
    {
     "data": {
      "text/plain": [
       "tensor([[255., 255., 255.,  ..., 255., 255., 255.],\n",
       "        [  0.,   0.,   0.,  ..., 255., 255., 255.],\n",
       "        [255., 255., 255.,  ..., 255., 255., 255.],\n",
       "        ...,\n",
       "        [255., 255., 255.,  ..., 255., 255., 255.],\n",
       "        [255., 255., 255.,  ..., 255., 255., 255.],\n",
       "        [255., 255., 255.,  ..., 255., 255., 255.]])"
      ]
     },
     "execution_count": 14,
     "metadata": {},
     "output_type": "execute_result"
    }
   ],
   "source": [
    "inputs[2,3,:,:]"
   ]
  },
  {
   "cell_type": "code",
   "execution_count": 15,
   "id": "239d9d73-c67f-469a-aca2-649351d9deb7",
   "metadata": {},
   "outputs": [
    {
     "name": "stdout",
     "output_type": "stream",
     "text": [
      "torch.Size([1, 4, 224, 224]) tensor([[ 0., -1.,  0.]])\n"
     ]
    }
   ],
   "source": [
    "values = inputs[3:]\n",
    "print(values.shape , values[:,3,1,0:3])"
   ]
  },
  {
   "cell_type": "code",
   "execution_count": 16,
   "id": "d0d21d0a-ca15-4f11-81b1-6603377007d5",
   "metadata": {},
   "outputs": [
    {
     "data": {
      "text/plain": [
       "(array([ 1.,  2., -1., -2.,  0.,  3., -3.,  5., -4.,  4., -5.],\n",
       "       dtype=float32),\n",
       " 11)"
      ]
     },
     "execution_count": 16,
     "metadata": {},
     "output_type": "execute_result"
    }
   ],
   "source": [
    "class_list = train_df['red_diff'].unique()\n",
    "class_list , len(class_list)"
   ]
  },
  {
   "cell_type": "code",
   "execution_count": 17,
   "id": "d03684ed-0a69-4157-a7d4-ceb1bd546cc2",
   "metadata": {},
   "outputs": [
    {
     "data": {
      "text/plain": [
       "tensor([[ 0., -1.,  0.],\n",
       "        [ 1.,  0.,  0.],\n",
       "        [ 0.,  0.,  0.],\n",
       "        [ 0., -1.,  0.]])"
      ]
     },
     "execution_count": 17,
     "metadata": {},
     "output_type": "execute_result"
    }
   ],
   "source": [
    "#inputs[:,3,1,0:3]\n",
    "\n",
    "p = torchvision.transforms.functional.to_pil_image(t)"
   ]
  },
  {
   "cell_type": "markdown",
   "id": "c14f0cda-b0ce-4e75-a54d-7cbc9ac14da9",
   "metadata": {},
   "source": [
    "# ネットを組む  \n",
    "https://qiita.com/poorko/items/c151ff4a827f114fe954"
   ]
  },
  {
   "cell_type": "code",
   "execution_count": 18,
   "id": "f1b9b5f2-4064-4e3d-861a-bc23310ac89c",
   "metadata": {},
   "outputs": [],
   "source": [
    "import torch\n",
    "import torch.nn as nn\n",
    "import torch.nn.functional as F\n",
    "import torchvision.models as models\n",
    "import glob"
   ]
  },
  {
   "cell_type": "code",
   "execution_count": 22,
   "id": "88c5f4e2-33ea-43a0-950a-5be685aa4465",
   "metadata": {},
   "outputs": [
    {
     "data": {
      "text/plain": [
       "[]"
      ]
     },
     "execution_count": 22,
     "metadata": {},
     "output_type": "execute_result"
    }
   ],
   "source": [
    "g"
   ]
  },
  {
   "cell_type": "code",
   "execution_count": 23,
   "id": "c24fd3c2-85ef-4dc3-a15a-02ce1b0d1624",
   "metadata": {},
   "outputs": [
    {
     "name": "stdout",
     "output_type": "stream",
     "text": [
      "./myResnet18\\resnet18-f37072fd.pth\n",
      "<class 'torchvision.models.resnet.ResNet'> tensor([-0.0026,  0.0030,  0.0007, -0.0269,  0.0064,  0.0133, -0.0112,  0.0206,\n",
      "        -0.0036, -0.0123], grad_fn=<SliceBackward0>)\n"
     ]
    }
   ],
   "source": [
    "model_ft = models.resnet18(pretrained=False)\n",
    "g = glob.glob(new_dir_path_recursive + 'resnet18*.pth')\n",
    "fn = g[0]\n",
    "print(fn)\n",
    "model_ft.load_state_dict(torch.load(g[0]))\n",
    "print(type(model_ft),model_ft.fc.bias[:10] )"
   ]
  },
  {
   "cell_type": "code",
   "execution_count": 24,
   "id": "07f4df3f-61b7-48e9-824f-3fe814bfa658",
   "metadata": {},
   "outputs": [
    {
     "name": "stdout",
     "output_type": "stream",
     "text": [
      "<class 'torchvision.models.resnet.ResNet'> tensor([-0.0026,  0.0030,  0.0007, -0.0269,  0.0064,  0.0133, -0.0112,  0.0206,\n",
      "        -0.0036, -0.0123], grad_fn=<SliceBackward0>)\n",
      "すべてのネットの重みをロック [ True]\n"
     ]
    }
   ],
   "source": [
    "from torchvision.models.resnet import ResNet,Bottleneck,BasicBlock\n",
    "net = ResNet(block=BasicBlock,layers=[2, 2, 2, 2],num_classes=1000)\n",
    "net.load_state_dict(torch.load(g[0]))\n",
    "print(type(model_ft),model_ft.fc.bias[:10] )\n",
    "\n",
    "for i, param in enumerate(net.parameters()):\n",
    "        param.requires_grad = True #False\n",
    "x = [ param.requires_grad for param in net.parameters()]\n",
    "print('すべてのネットの重みをロック',np.unique(x))"
   ]
  },
  {
   "cell_type": "code",
   "execution_count": 25,
   "id": "1fdeb7e6-f063-42ea-8361-8f79f299957d",
   "metadata": {},
   "outputs": [],
   "source": [
    "class _myResnet18(models.resnet.ResNet):\n",
    "    def __init__(self, block,layers,num_classes):\n",
    "        super().__init__(block,layers,num_classes)\n",
    "        print(_myResnet18)\n",
    "    pass"
   ]
  },
  {
   "cell_type": "code",
   "execution_count": 26,
   "id": "f60c28b0-cb80-43d3-9e4d-e950843e0024",
   "metadata": {},
   "outputs": [
    {
     "name": "stdout",
     "output_type": "stream",
     "text": [
      "<class '__main__._myResnet18'>\n",
      "<class 'torchvision.models.resnet.ResNet'> tensor([-0.0026,  0.0030,  0.0007, -0.0269,  0.0064,  0.0133, -0.0112,  0.0206,\n",
      "        -0.0036, -0.0123], grad_fn=<SliceBackward0>)\n"
     ]
    }
   ],
   "source": [
    "from torchvision.models.resnet import ResNet,Bottleneck,BasicBlock\n",
    "net = _myResnet18(block=BasicBlock,layers=[2, 2, 2, 2],num_classes=1000)\n",
    "net.load_state_dict(torch.load(g[0]))\n",
    "print(type(model_ft),model_ft.fc.bias[:10] )"
   ]
  },
  {
   "cell_type": "code",
   "execution_count": 27,
   "id": "27da4588-b7ef-42ff-a8c2-0951db5e44d4",
   "metadata": {},
   "outputs": [],
   "source": [
    "# CNNモデルの定義\n",
    "class myResnet18(models.resnet.ResNet):\n",
    "    def __init__(self, block,layers,num_classes):\n",
    "        super().__init__(block,layers,num_classes)\n",
    "        pass\n",
    "\n",
    "    def forward(self, xpacked:torch.Tensor) -> torch.Tensor:\n",
    "        input = xpacked\n",
    "        #print('input:',input.shape)\n",
    "        x = input[:,:3]\n",
    "        \n",
    "        x = self.conv1(x)\n",
    "        x = self.bn1(x)\n",
    "        x = self.relu(x)\n",
    "        x = self.maxpool(x)\n",
    "\n",
    "        x = self.layer1(x)\n",
    "        x = self.layer2(x)\n",
    "        x = self.layer3(x)\n",
    "        x = self.layer4(x)\n",
    "\n",
    "        x = self.avgpool(x)\n",
    "        x = torch.flatten(x, 1)\n",
    "        ###########################################\n",
    "        params = input[:,3,1,0:3]\n",
    "        output = torch.cat([x,params],1)\n",
    "        \n",
    "        ###########################################\n",
    "        output = self.fc(output)\n",
    "\n",
    "        return output"
   ]
  },
  {
   "cell_type": "code",
   "execution_count": 28,
   "id": "44185bb6-5b7a-41fc-bb5b-37e21e21a5b0",
   "metadata": {
    "scrolled": true
   },
   "outputs": [
    {
     "name": "stdout",
     "output_type": "stream",
     "text": [
      "<class 'torchvision.models.resnet.ResNet'> tensor([-0.0026,  0.0030,  0.0007, -0.0269,  0.0064,  0.0133, -0.0112,  0.0206,\n",
      "        -0.0036, -0.0123], grad_fn=<SliceBackward0>)\n",
      "すべてのネットの重みをロック [False]\n",
      "最後の一つを切り替えたので混在するのが正しい: [False  True]\n"
     ]
    }
   ],
   "source": [
    "net = myResnet18(block=BasicBlock,layers=[2, 2, 2, 2],num_classes=1000)\n",
    "net.load_state_dict(torch.load(g[0]))\n",
    "print(type(model_ft),model_ft.fc.bias[:10] )\n",
    "\n",
    "## 重みロック\n",
    "for param in net.parameters():\n",
    "    param.requires_grad = False\n",
    "x = [ param.requires_grad for param in net.parameters()]\n",
    "print('すべてのネットの重みをロック',np.unique(x))\n",
    "## 最終段を11にする\n",
    "num_ftrs = net.fc.in_features\n",
    "net.fc = nn.Linear(num_ftrs+3, 11)\n",
    "##display(net)\n",
    "x = [ param.requires_grad for param in net.parameters()]\n",
    "print('最後の一つを切り替えたので混在するのが正しい:',np.unique(x)) ## "
   ]
  },
  {
   "cell_type": "code",
   "execution_count": 29,
   "id": "56df7713-f444-4187-afcb-ca5b5001f9f7",
   "metadata": {},
   "outputs": [],
   "source": [
    "## 関数化して\n",
    "def createMyNet(num_class):\n",
    "    net = myResnet18(block=BasicBlock,layers=[2, 2, 2, 2],num_classes=1000)\n",
    "    net.load_state_dict(torch.load(g[0]))\n",
    "    \n",
    "    ## 重みロック\n",
    "    for param in net.parameters():\n",
    "        param.requires_grad = False\n",
    "    ## 最終段を11にする\n",
    "    num_ftrs = net.fc.in_features\n",
    "    net.fc = nn.Linear(num_ftrs+3, num_class)\n",
    "    return net"
   ]
  },
  {
   "cell_type": "markdown",
   "id": "7ec0cdb6-eb60-4e7f-affa-9543292a91f7",
   "metadata": {},
   "source": [
    "https://qiita.com/ku_a_i/items/ba33c9ce3449da23b503"
   ]
  },
  {
   "cell_type": "code",
   "execution_count": 30,
   "id": "176fad73-44a8-4be0-adec-1a7b5b9f13e6",
   "metadata": {},
   "outputs": [],
   "source": [
    "class EarlyStopping:\n",
    "    \"\"\"earlystoppingクラス\"\"\"\n",
    "\n",
    "    def __init__(self, patience=5, verbose=False, path='checkpoint_model.pth'):\n",
    "        \"\"\"引数：最小値の非更新数カウンタ、表示設定、モデル格納path\"\"\"\n",
    "\n",
    "        self.patience = patience    #設定ストップカウンタ\n",
    "        self.verbose = verbose      #表示の有無\n",
    "        self.counter = 0            #現在のカウンタ値\n",
    "        self.best_score = None      #ベストスコア\n",
    "        self.early_stop = False     #ストップフラグ\n",
    "        self.val_loss_min = np.Inf   #前回のベストスコア記憶用\n",
    "        self.path = path             #ベストモデル格納path\n",
    "\n",
    "    def __call__(self, val_loss, model):\n",
    "        \"\"\"\n",
    "        特殊(call)メソッド\n",
    "        実際に学習ループ内で最小lossを更新したか否かを計算させる部分\n",
    "        \"\"\"\n",
    "        score = -val_loss\n",
    "\n",
    "        if self.best_score is None:  #1Epoch目の処理\n",
    "            self.best_score = score   #1Epoch目はそのままベストスコアとして記録する\n",
    "            self.checkpoint(val_loss, model)  #記録後にモデルを保存してスコア表示する\n",
    "        elif score < self.best_score:  # ベストスコアを更新できなかった場合\n",
    "            self.counter += 1   #ストップカウンタを+1\n",
    "            if self.verbose:  #表示を有効にした場合は経過を表示\n",
    "                print(f'EarlyStopping counter: {self.counter} out of {self.patience}')  #現在のカウンタを表示する \n",
    "            if self.counter >= self.patience:  #設定カウントを上回ったらストップフラグをTrueに変更\n",
    "                self.early_stop = True\n",
    "        else:  #ベストスコアを更新した場合\n",
    "            self.best_score = score  #ベストスコアを上書き\n",
    "            self.checkpoint(val_loss, model)  #モデルを保存してスコア表示\n",
    "            self.counter = 0  #ストップカウンタリセット\n",
    "\n",
    "    def checkpoint(self, val_loss, model):\n",
    "        '''ベストスコア更新時に実行されるチェックポイント関数'''\n",
    "        if self.verbose:  #表示を有効にした場合は、前回のベストスコアからどれだけ更新したか？を表示\n",
    "            print(f'Validation loss decreased ({self.val_loss_min:.6f} --> {val_loss:.6f}).  Saving model ...')\n",
    "        torch.save(model.state_dict(), self.path)  #ベストモデルを指定したpathに保存\n",
    "        self.val_loss_min = val_loss  #その時のlossを記録する"
   ]
  },
  {
   "cell_type": "markdown",
   "id": "a382c74a-027d-41b9-a696-ae720728ab62",
   "metadata": {},
   "source": [
    "## 訓練（ネットワークが通るか確認）  \n",
    "https://atmarkit.itmedia.co.jp/ait/articles/2006/12/news021.html"
   ]
  },
  {
   "cell_type": "code",
   "execution_count": 31,
   "id": "f7972682-c9f2-40d5-ace5-b65335e99cbf",
   "metadata": {},
   "outputs": [],
   "source": [
    "def plot_graph(values1, values2, rng, label1, label2):\n",
    "    plt.plot(range(rng), values1, label=label1)\n",
    "    plt.plot(range(rng), values2, label=label2)\n",
    "    plt.legend()\n",
    "    plt.grid()\n",
    "    plt.show()"
   ]
  },
  {
   "cell_type": "code",
   "execution_count": 32,
   "id": "992b7ddd-0733-45d8-a7de-8dfaae7afde7",
   "metadata": {},
   "outputs": [],
   "source": [
    "def train(net, dataloader, criterion, optimizer,device):\n",
    "    net.train()\n",
    "\n",
    "    total_loss = 0.0\n",
    "    total_correct = 0\n",
    "    for inputs, labels in dataloader:\n",
    "        inputs = inputs.to(device)\n",
    "        labels = labels.to(device)\n",
    "        #print('入力:',inputs.shape , labels.shape,labels.dtype)\n",
    "        \n",
    "        optimizer.zero_grad()\n",
    "        outputs = net(inputs)\n",
    "        #print('評価:',outputs.shape , labels.shape,labels.dtype)\n",
    "        loss = criterion(outputs, labels)\n",
    "        loss.backward()\n",
    "        optimizer.step()\n",
    "\n",
    "        total_loss += loss.item()\n",
    "        _, predicted = torch.max(outputs, 1)\n",
    "        _, ons_labels = torch.max(labels, 1)\n",
    "        total_correct += (predicted == ons_labels).sum().item()\n",
    "\n",
    "    avg_loss = total_loss / len(dataloader.dataset)\n",
    "    accuracy = total_correct / len(dataloader.dataset)\n",
    "\n",
    "    return avg_loss, accuracy\n",
    "\n",
    "def validate(net, dataloader, criterion,device):\n",
    "    net.eval()\n",
    "\n",
    "    with torch.no_grad():\n",
    "        total_loss = 0.0\n",
    "        total_correct = 0\n",
    "        for inputs, labels in dataloader:\n",
    "            inputs = inputs.to(device)\n",
    "            labels = labels.to(device)\n",
    "\n",
    "            outputs = net(inputs)\n",
    "            loss = criterion(outputs, labels)\n",
    "\n",
    "            total_loss += loss.item()\n",
    "            _, predicted = torch.max(outputs, 1)\n",
    "            _, ons_labels = torch.max(labels, 1)\n",
    "            total_correct += (predicted == ons_labels).sum().item()\n",
    "\n",
    "    avg_loss = total_loss / len(dataloader.dataset)\n",
    "    avg_accuracy = total_correct / len(dataloader.dataset)\n",
    "\n",
    "    return avg_loss, avg_accuracy "
   ]
  },
  {
   "cell_type": "code",
   "execution_count": 33,
   "id": "1bda984b-5b9b-4047-947d-0fdeab431862",
   "metadata": {},
   "outputs": [],
   "source": [
    "def do_train_and_validate(net, trainset, criterion, optimizer,scheduler, epochs,device):\n",
    "    best_accuracy = 0.0\n",
    "    trainloader, validloader = trainset\n",
    "    curEarlyStopping = EarlyStopping(patience=10, verbose=True,path=new_dir_path_recursive+'checkpoint_model.pth')\n",
    "\n",
    "\n",
    "    history = {}\n",
    "    history['train_loss_values'] = []\n",
    "    history['train_accuracy_values'] = []\n",
    "    history['valid_loss_values'] = []\n",
    "    history['valid_accuracy_values'] = []\n",
    "\n",
    "    for epoch in range(1, epochs + 1):\n",
    "        current_time = datetime.now()\n",
    "        formatted_time = current_time.strftime(\"%Y-%m-%d %H:%M:%S\")\n",
    "        print(f'epoch: {epoch:3} <{formatted_time}>')\n",
    "\n",
    "        t_loss, t_accu = train(net, trainloader, criterion, optimizer,device)\n",
    "        v_loss, v_accu = validate(net, validloader, criterion,device)\n",
    "\n",
    "        print(f'train_loss: {t_loss:.6f}, train_accuracy: {t_accu:3.4%},',\n",
    "              f'valid_loss: {v_loss:.6f}, valid_accuracy: {v_accu:3.4%}')\n",
    "\n",
    "        history['train_loss_values'].append(t_loss)\n",
    "        history['train_accuracy_values'].append(t_accu)\n",
    "        history['valid_loss_values'].append(v_loss)\n",
    "        history['valid_accuracy_values'].append(v_accu)\n",
    "        pd.DataFrame(history).to_csv(new_dir_path_recursive+'mynet_spec.csv')\n",
    "        if best_accuracy < v_accu:\n",
    "            best_accuracy = v_accu\n",
    "            model_scripted = torch.jit.script(net)\n",
    "            model_scripted.save(new_dir_path_recursive+f'model_scripted_{epoch}.smodel.pth')\n",
    "        # 学習率の動的変更\n",
    "        scheduler.step(v_loss)\n",
    "        #★毎エポックearlystoppingの判定をさせる★\n",
    "        curEarlyStopping( v_loss , net) #callメソッド呼び出し\n",
    "        if curEarlyStopping.early_stop: #ストップフラグがTrueの場合、breakでforループを抜ける\n",
    "            print(\"Early Stopping!\")\n",
    "            return history\n",
    "    return history"
   ]
  },
  {
   "cell_type": "code",
   "execution_count": 33,
   "id": "a1ffae3a-8405-4241-af03-baac72b2b633",
   "metadata": {},
   "outputs": [
    {
     "name": "stdout",
     "output_type": "stream",
     "text": [
      "cuda\n",
      "epoch:   1 <2024-02-14 04:20:11>\n",
      "train_loss: 0.115556, train_accuracy: 28.6562%, valid_loss: 0.113025, valid_accuracy: 30.8027%\n",
      "Validation loss decreased (inf --> 0.113025).  Saving model ...\n",
      "epoch:   2 <2024-02-14 04:23:37>\n",
      "train_loss: 0.111063, train_accuracy: 32.5027%, valid_loss: 0.110451, valid_accuracy: 32.8428%\n",
      "Validation loss decreased (0.113025 --> 0.110451).  Saving model ...\n",
      "epoch:   3 <2024-02-14 04:26:57>\n",
      "train_loss: 0.109414, train_accuracy: 33.6817%, valid_loss: 0.109088, valid_accuracy: 34.5485%\n",
      "Validation loss decreased (0.110451 --> 0.109088).  Saving model ...\n",
      "epoch:   4 <2024-02-14 04:30:16>\n",
      "train_loss: 0.108445, train_accuracy: 34.2754%, valid_loss: 0.108427, valid_accuracy: 34.2809%\n",
      "Validation loss decreased (0.109088 --> 0.108427).  Saving model ...\n",
      "epoch:   5 <2024-02-14 04:33:37>\n",
      "train_loss: 0.107201, train_accuracy: 35.6635%, valid_loss: 0.107910, valid_accuracy: 34.9498%\n",
      "Validation loss decreased (0.108427 --> 0.107910).  Saving model ...\n",
      "epoch:   6 <2024-02-14 04:37:00>\n",
      "train_loss: 0.106536, train_accuracy: 35.8140%, valid_loss: 0.106930, valid_accuracy: 34.8829%\n",
      "Validation loss decreased (0.107910 --> 0.106930).  Saving model ...\n",
      "epoch:   7 <2024-02-14 04:40:05>\n",
      "train_loss: 0.105668, train_accuracy: 36.1151%, valid_loss: 0.106735, valid_accuracy: 34.1806%\n",
      "Validation loss decreased (0.106930 --> 0.106735).  Saving model ...\n",
      "epoch:   8 <2024-02-14 04:43:16>\n",
      "train_loss: 0.105052, train_accuracy: 36.8844%, valid_loss: 0.105470, valid_accuracy: 35.9532%\n",
      "Validation loss decreased (0.106735 --> 0.105470).  Saving model ...\n",
      "epoch:   9 <2024-02-14 04:46:37>\n",
      "train_loss: 0.104381, train_accuracy: 37.4781%, valid_loss: 0.105580, valid_accuracy: 36.3880%\n",
      "EarlyStopping counter: 1 out of 10\n",
      "epoch:  10 <2024-02-14 04:49:58>\n",
      "train_loss: 0.104047, train_accuracy: 37.0683%, valid_loss: 0.104689, valid_accuracy: 36.8227%\n",
      "Validation loss decreased (0.105470 --> 0.104689).  Saving model ...\n",
      "epoch:  11 <2024-02-14 04:53:20>\n",
      "train_loss: 0.103427, train_accuracy: 37.3693%, valid_loss: 0.104155, valid_accuracy: 35.7860%\n",
      "Validation loss decreased (0.104689 --> 0.104155).  Saving model ...\n",
      "epoch:  12 <2024-02-14 04:56:41>\n",
      "train_loss: 0.102956, train_accuracy: 37.8209%, valid_loss: 0.104219, valid_accuracy: 36.4883%\n",
      "EarlyStopping counter: 1 out of 10\n",
      "epoch:  13 <2024-02-14 05:00:03>\n",
      "train_loss: 0.102470, train_accuracy: 38.1804%, valid_loss: 0.103892, valid_accuracy: 36.9565%\n",
      "Validation loss decreased (0.104155 --> 0.103892).  Saving model ...\n",
      "epoch:  14 <2024-02-14 05:03:24>\n",
      "train_loss: 0.102214, train_accuracy: 38.0550%, valid_loss: 0.103283, valid_accuracy: 36.7559%\n",
      "Validation loss decreased (0.103892 --> 0.103283).  Saving model ...\n",
      "epoch:  15 <2024-02-14 05:06:43>\n",
      "train_loss: 0.101940, train_accuracy: 38.1470%, valid_loss: 0.102922, valid_accuracy: 37.5585%\n",
      "Validation loss decreased (0.103283 --> 0.102922).  Saving model ...\n",
      "epoch:  16 <2024-02-14 05:10:05>\n",
      "train_loss: 0.101290, train_accuracy: 38.7574%, valid_loss: 0.102458, valid_accuracy: 38.3946%\n",
      "Validation loss decreased (0.102922 --> 0.102458).  Saving model ...\n",
      "epoch:  17 <2024-02-14 05:13:25>\n",
      "train_loss: 0.101001, train_accuracy: 38.8243%, valid_loss: 0.102873, valid_accuracy: 38.8629%\n",
      "EarlyStopping counter: 1 out of 10\n",
      "epoch:  18 <2024-02-14 05:16:41>\n",
      "train_loss: 0.100770, train_accuracy: 38.8243%, valid_loss: 0.102279, valid_accuracy: 38.4950%\n",
      "Validation loss decreased (0.102458 --> 0.102279).  Saving model ...\n",
      "epoch:  19 <2024-02-14 05:19:50>\n",
      "train_loss: 0.100682, train_accuracy: 38.8243%, valid_loss: 0.102326, valid_accuracy: 37.3579%\n",
      "EarlyStopping counter: 1 out of 10\n",
      "epoch:  20 <2024-02-14 05:22:52>\n",
      "train_loss: 0.100167, train_accuracy: 38.8912%, valid_loss: 0.101779, valid_accuracy: 38.4281%\n",
      "Validation loss decreased (0.102279 --> 0.101779).  Saving model ...\n",
      "epoch:  21 <2024-02-14 05:26:13>\n",
      "train_loss: 0.099954, train_accuracy: 38.9497%, valid_loss: 0.101631, valid_accuracy: 37.7926%\n",
      "Validation loss decreased (0.101779 --> 0.101631).  Saving model ...\n",
      "epoch:  22 <2024-02-14 05:29:32>\n",
      "train_loss: 0.099611, train_accuracy: 39.6772%, valid_loss: 0.101666, valid_accuracy: 38.1605%\n",
      "EarlyStopping counter: 1 out of 10\n",
      "epoch:  23 <2024-02-14 05:32:54>\n",
      "train_loss: 0.099380, train_accuracy: 39.6354%, valid_loss: 0.101779, valid_accuracy: 40.0000%\n",
      "EarlyStopping counter: 2 out of 10\n",
      "epoch:  24 <2024-02-14 05:36:15>\n",
      "train_loss: 0.099398, train_accuracy: 39.4849%, valid_loss: 0.100707, valid_accuracy: 38.9967%\n",
      "Validation loss decreased (0.101631 --> 0.100707).  Saving model ...\n",
      "epoch:  25 <2024-02-14 05:39:35>\n",
      "train_loss: 0.098962, train_accuracy: 39.8277%, valid_loss: 0.101297, valid_accuracy: 37.0569%\n",
      "EarlyStopping counter: 1 out of 10\n",
      "epoch:  26 <2024-02-14 05:42:55>\n",
      "train_loss: 0.098771, train_accuracy: 40.1288%, valid_loss: 0.101394, valid_accuracy: 37.8930%\n",
      "EarlyStopping counter: 2 out of 10\n",
      "epoch:  27 <2024-02-14 05:46:13>\n",
      "train_loss: 0.098445, train_accuracy: 39.8863%, valid_loss: 0.101165, valid_accuracy: 38.5284%\n",
      "EarlyStopping counter: 3 out of 10\n",
      "epoch:  28 <2024-02-14 05:49:34>\n",
      "train_loss: 0.098670, train_accuracy: 39.8779%, valid_loss: 0.100496, valid_accuracy: 37.8930%\n",
      "Validation loss decreased (0.100707 --> 0.100496).  Saving model ...\n",
      "epoch:  29 <2024-02-14 05:52:55>\n",
      "train_loss: 0.098223, train_accuracy: 39.7190%, valid_loss: 0.100078, valid_accuracy: 38.1940%\n",
      "Validation loss decreased (0.100496 --> 0.100078).  Saving model ...\n",
      "epoch:  30 <2024-02-14 05:56:17>\n",
      "train_loss: 0.098084, train_accuracy: 40.1622%, valid_loss: 0.100115, valid_accuracy: 38.8963%\n",
      "EarlyStopping counter: 1 out of 10\n",
      "epoch:  31 <2024-02-14 05:59:34>\n",
      "train_loss: 0.097839, train_accuracy: 40.1789%, valid_loss: 0.100628, valid_accuracy: 38.2274%\n",
      "EarlyStopping counter: 2 out of 10\n",
      "epoch:  32 <2024-02-14 06:02:39>\n",
      "train_loss: 0.097535, train_accuracy: 40.7308%, valid_loss: 0.099985, valid_accuracy: 38.6288%\n",
      "Validation loss decreased (0.100078 --> 0.099985).  Saving model ...\n",
      "epoch:  33 <2024-02-14 06:05:53>\n",
      "train_loss: 0.097730, train_accuracy: 39.9281%, valid_loss: 0.099928, valid_accuracy: 37.7258%\n",
      "Validation loss decreased (0.099985 --> 0.099928).  Saving model ...\n",
      "epoch:  34 <2024-02-14 06:09:15>\n",
      "train_loss: 0.097358, train_accuracy: 40.8395%, valid_loss: 0.099816, valid_accuracy: 38.8629%\n",
      "Validation loss decreased (0.099928 --> 0.099816).  Saving model ...\n",
      "epoch:  35 <2024-02-14 06:12:36>\n",
      "train_loss: 0.097251, train_accuracy: 40.6807%, valid_loss: 0.099740, valid_accuracy: 38.9632%\n",
      "Validation loss decreased (0.099816 --> 0.099740).  Saving model ...\n",
      "epoch:  36 <2024-02-14 06:16:00>\n",
      "train_loss: 0.097088, train_accuracy: 40.5803%, valid_loss: 0.099895, valid_accuracy: 38.3612%\n",
      "EarlyStopping counter: 1 out of 10\n",
      "epoch:  37 <2024-02-14 06:19:24>\n",
      "train_loss: 0.096988, train_accuracy: 40.9733%, valid_loss: 0.099246, valid_accuracy: 39.1304%\n",
      "Validation loss decreased (0.099740 --> 0.099246).  Saving model ...\n",
      "epoch:  38 <2024-02-14 06:22:46>\n",
      "train_loss: 0.096958, train_accuracy: 40.7894%, valid_loss: 0.099905, valid_accuracy: 39.3645%\n",
      "EarlyStopping counter: 1 out of 10\n",
      "epoch:  39 <2024-02-14 06:26:12>\n",
      "train_loss: 0.096772, train_accuracy: 41.0151%, valid_loss: 0.099220, valid_accuracy: 39.0635%\n",
      "Validation loss decreased (0.099246 --> 0.099220).  Saving model ...\n",
      "epoch:  40 <2024-02-14 06:29:36>\n",
      "train_loss: 0.096894, train_accuracy: 40.6807%, valid_loss: 0.099136, valid_accuracy: 39.4649%\n",
      "Validation loss decreased (0.099220 --> 0.099136).  Saving model ...\n",
      "epoch:  41 <2024-02-14 06:33:00>\n",
      "train_loss: 0.096784, train_accuracy: 41.2827%, valid_loss: 0.098851, valid_accuracy: 39.0301%\n",
      "Validation loss decreased (0.099136 --> 0.098851).  Saving model ...\n",
      "epoch:  42 <2024-02-14 06:36:23>\n",
      "train_loss: 0.096417, train_accuracy: 41.0820%, valid_loss: 0.099223, valid_accuracy: 39.1639%\n",
      "EarlyStopping counter: 1 out of 10\n",
      "epoch:  43 <2024-02-14 06:39:47>\n",
      "train_loss: 0.096091, train_accuracy: 41.3329%, valid_loss: 0.098879, valid_accuracy: 39.3645%\n",
      "EarlyStopping counter: 2 out of 10\n",
      "epoch:  44 <2024-02-14 06:43:01>\n",
      "train_loss: 0.096275, train_accuracy: 41.2744%, valid_loss: 0.099147, valid_accuracy: 39.7993%\n",
      "EarlyStopping counter: 3 out of 10\n",
      "epoch:  45 <2024-02-14 06:46:02>\n",
      "train_loss: 0.096272, train_accuracy: 41.2744%, valid_loss: 0.098902, valid_accuracy: 38.6622%\n",
      "EarlyStopping counter: 4 out of 10\n",
      "epoch:  46 <2024-02-14 06:49:25>\n",
      "train_loss: 0.096121, train_accuracy: 41.0988%, valid_loss: 0.098849, valid_accuracy: 38.5619%\n",
      "Validation loss decreased (0.098851 --> 0.098849).  Saving model ...\n",
      "epoch:  47 <2024-02-14 06:52:46>\n",
      "train_loss: 0.095921, train_accuracy: 41.7761%, valid_loss: 0.099263, valid_accuracy: 40.1003%\n",
      "Epoch 00047: reducing learning rate of group 0 to 1.0000e-05.\n",
      "EarlyStopping counter: 1 out of 10\n",
      "epoch:  48 <2024-02-14 06:56:07>\n",
      "train_loss: 0.095369, train_accuracy: 41.8262%, valid_loss: 0.098504, valid_accuracy: 39.0970%\n",
      "Validation loss decreased (0.098849 --> 0.098504).  Saving model ...\n",
      "epoch:  49 <2024-02-14 06:59:28>\n",
      "train_loss: 0.095334, train_accuracy: 41.6674%, valid_loss: 0.098685, valid_accuracy: 39.1973%\n",
      "EarlyStopping counter: 1 out of 10\n",
      "epoch:  50 <2024-02-14 07:02:49>\n",
      "train_loss: 0.095243, train_accuracy: 41.9851%, valid_loss: 0.098508, valid_accuracy: 39.3645%\n",
      "EarlyStopping counter: 2 out of 10\n",
      "epoch:  51 <2024-02-14 07:06:12>\n",
      "train_loss: 0.095415, train_accuracy: 41.2660%, valid_loss: 0.098136, valid_accuracy: 39.7993%\n",
      "Validation loss decreased (0.098504 --> 0.098136).  Saving model ...\n",
      "epoch:  52 <2024-02-14 07:09:34>\n",
      "train_loss: 0.095291, train_accuracy: 42.0186%, valid_loss: 0.098243, valid_accuracy: 39.1304%\n",
      "EarlyStopping counter: 1 out of 10\n",
      "epoch:  53 <2024-02-14 07:12:54>\n",
      "train_loss: 0.095283, train_accuracy: 41.8764%, valid_loss: 0.098193, valid_accuracy: 38.9632%\n",
      "EarlyStopping counter: 2 out of 10\n",
      "epoch:  54 <2024-02-14 07:16:15>\n",
      "train_loss: 0.095532, train_accuracy: 40.9232%, valid_loss: 0.098405, valid_accuracy: 39.1639%\n",
      "EarlyStopping counter: 3 out of 10\n",
      "epoch:  55 <2024-02-14 07:19:37>\n",
      "train_loss: 0.095162, train_accuracy: 41.7175%, valid_loss: 0.098246, valid_accuracy: 39.9331%\n",
      "EarlyStopping counter: 4 out of 10\n",
      "epoch:  56 <2024-02-14 07:22:59>\n",
      "train_loss: 0.095452, train_accuracy: 41.4249%, valid_loss: 0.098527, valid_accuracy: 39.7659%\n",
      "EarlyStopping counter: 5 out of 10\n",
      "epoch:  57 <2024-02-14 07:26:05>\n",
      "train_loss: 0.095326, train_accuracy: 41.5001%, valid_loss: 0.098625, valid_accuracy: 39.0635%\n",
      "Epoch 00057: reducing learning rate of group 0 to 1.0000e-06.\n",
      "EarlyStopping counter: 6 out of 10\n",
      "epoch:  58 <2024-02-14 07:29:23>\n",
      "train_loss: 0.095295, train_accuracy: 41.9099%, valid_loss: 0.098378, valid_accuracy: 39.0635%\n",
      "EarlyStopping counter: 7 out of 10\n",
      "epoch:  59 <2024-02-14 07:32:45>\n",
      "train_loss: 0.095199, train_accuracy: 41.6423%, valid_loss: 0.098476, valid_accuracy: 40.2676%\n",
      "EarlyStopping counter: 8 out of 10\n",
      "epoch:  60 <2024-02-14 07:36:08>\n",
      "train_loss: 0.095168, train_accuracy: 41.2827%, valid_loss: 0.098645, valid_accuracy: 39.7993%\n",
      "EarlyStopping counter: 9 out of 10\n",
      "epoch:  61 <2024-02-14 07:39:34>\n",
      "train_loss: 0.095196, train_accuracy: 41.5252%, valid_loss: 0.098331, valid_accuracy: 39.9666%\n",
      "EarlyStopping counter: 10 out of 10\n",
      "Early Stopping!\n"
     ]
    }
   ],
   "source": [
    "\n",
    "train_dataset = ImgValueDataset( train_df ,classcol='red_diff' , fncol='filepath',transform=transform_train)\n",
    "test_dataset = ImgValueDataset( test_df ,classcol='red_diff' , fncol='filepath' ,transform=transform_test)\n",
    "\n",
    "batch_size = 16\n",
    "train_loader = DataLoader(train_dataset, batch_size=batch_size, shuffle=True, num_workers=0,drop_last = True)\n",
    "test_loader = DataLoader(test_dataset, batch_size=batch_size, shuffle=False, num_workers=0)\n",
    "\n",
    "device = torch.device(\"cuda\" if torch.cuda.is_available() else \"cpu\")\n",
    "print(device)\n",
    "\n",
    "net = createMyNet(11).to(device)\n",
    "criterion = torch.nn.CrossEntropyLoss()\n",
    "optimizer = optim.Adam(net.parameters(), lr=0.0001)\n",
    "scheduler = optim.lr_scheduler.ReduceLROnPlateau(optimizer, patience=5, verbose=True)\n",
    "\n",
    "EPOCHS = 300\n",
    "trainset = [train_loader,test_loader]\n",
    "\n",
    "history = do_train_and_validate(net, trainset, criterion, optimizer, scheduler,EPOCHS,device)\n"
   ]
  },
  {
   "cell_type": "code",
   "execution_count": 34,
   "id": "64b0dd1f-1662-4a29-b47b-615d3cf5223b",
   "metadata": {},
   "outputs": [
    {
     "data": {
      "text/plain": [
       "300"
      ]
     },
     "execution_count": 34,
     "metadata": {},
     "output_type": "execute_result"
    }
   ],
   "source": [
    "EPOCHS"
   ]
  },
  {
   "cell_type": "code",
   "execution_count": 35,
   "id": "c70005ff-3f5c-4062-a0ca-f193722dd117",
   "metadata": {},
   "outputs": [
    {
     "data": {
      "image/png": "[encoded data removed]",
      "text/plain": [
       "<Figure size 640x480 with 1 Axes>"
      ]
     },
     "metadata": {},
     "output_type": "display_data"
    }
   ],
   "source": [
    "t_losses = history['train_loss_values']\n",
    "t_accus = history['train_accuracy_values']\n",
    "v_losses = history['valid_loss_values']\n",
    "v_accus = history['valid_accuracy_values']\n",
    "\n",
    "plot_graph(t_losses, v_losses, len(t_losses), 'loss(train)', 'loss(validate)')"
   ]
  },
  {
   "cell_type": "code",
   "execution_count": 36,
   "id": "a0472e50-93a4-48f5-be84-3c8c38ed54c4",
   "metadata": {},
   "outputs": [
    {
     "data": {
      "image/png": "[encoded data removed]",
      "text/plain": [
       "<Figure size 640x480 with 1 Axes>"
      ]
     },
     "metadata": {},
     "output_type": "display_data"
    }
   ],
   "source": [
    "plot_graph(t_accus, v_accus, len(t_accus), 'accuracy(train)', 'accuracy(validate)')"
   ]
  },
  {
   "cell_type": "code",
   "execution_count": null,
   "id": "f8ef34ff-271c-40b8-86c8-584babfeca97",
   "metadata": {},
   "outputs": [],
   "source": []
  },
  {
   "cell_type": "markdown",
   "id": "9b7ff060-9a66-475e-b945-232d7afd9700",
   "metadata": {},
   "source": [
    "## 取り置きのテスト画像群"
   ]
  },
  {
   "cell_type": "code",
   "execution_count": 34,
   "id": "3024cdab-7bc8-4c08-a737-90d25fcdfc25",
   "metadata": {},
   "outputs": [
    {
     "data": {
      "text/plain": [
       "'./dataset_cur_test.csv'"
      ]
     },
     "execution_count": 34,
     "metadata": {},
     "output_type": "execute_result"
    }
   ],
   "source": [
    "test_fn = r'./dataset_cur_test.csv'\n",
    "test_fn"
   ]
  },
  {
   "cell_type": "code",
   "execution_count": 35,
   "id": "b6b04518-7ea4-418d-8034-ce04bd42988e",
   "metadata": {},
   "outputs": [
    {
     "data": {
      "text/plain": [
       "red_diff             float32\n",
       "remain_ends          float32\n",
       "last_stone_is_red    float32\n",
       "red_postion          float32\n",
       "filepath              object\n",
       "dtype: object"
      ]
     },
     "metadata": {},
     "output_type": "display_data"
    },
    {
     "data": {
      "text/html": [
       "<div>\n",
       "<style scoped>\n",
       "    .dataframe tbody tr th:only-of-type {\n",
       "        vertical-align: middle;\n",
       "    }\n",
       "\n",
       "    .dataframe tbody tr th {\n",
       "        vertical-align: top;\n",
       "    }\n",
       "\n",
       "    .dataframe thead th {\n",
       "        text-align: right;\n",
       "    }\n",
       "</style>\n",
       "<table border=\"1\" class=\"dataframe\">\n",
       "  <thead>\n",
       "    <tr style=\"text-align: right;\">\n",
       "      <th></th>\n",
       "      <th>red_diff</th>\n",
       "      <th>remain_ends</th>\n",
       "      <th>last_stone_is_red</th>\n",
       "      <th>red_postion</th>\n",
       "      <th>filepath</th>\n",
       "    </tr>\n",
       "  </thead>\n",
       "  <tbody>\n",
       "    <tr>\n",
       "      <th>0</th>\n",
       "      <td>-1.0</td>\n",
       "      <td>7.0</td>\n",
       "      <td>0.0</td>\n",
       "      <td>1.0</td>\n",
       "      <td>./dataset_o\\WWCC2019_ResultsBook\\geme428end2.png</td>\n",
       "    </tr>\n",
       "    <tr>\n",
       "      <th>1</th>\n",
       "      <td>-2.0</td>\n",
       "      <td>1.0</td>\n",
       "      <td>0.0</td>\n",
       "      <td>2.0</td>\n",
       "      <td>./dataset_o\\WWCC2019_ResultsBook\\geme531end8.png</td>\n",
       "    </tr>\n",
       "    <tr>\n",
       "      <th>2</th>\n",
       "      <td>2.0</td>\n",
       "      <td>7.0</td>\n",
       "      <td>1.0</td>\n",
       "      <td>0.0</td>\n",
       "      <td>./dataset_o\\ECC2019_ResultsBook_Women_A-Divisi...</td>\n",
       "    </tr>\n",
       "  </tbody>\n",
       "</table>\n",
       "</div>"
      ],
      "text/plain": [
       "   red_diff  remain_ends  last_stone_is_red  red_postion  \\\n",
       "0      -1.0          7.0                0.0          1.0   \n",
       "1      -2.0          1.0                0.0          2.0   \n",
       "2       2.0          7.0                1.0          0.0   \n",
       "\n",
       "                                            filepath  \n",
       "0   ./dataset_o\\WWCC2019_ResultsBook\\geme428end2.png  \n",
       "1   ./dataset_o\\WWCC2019_ResultsBook\\geme531end8.png  \n",
       "2  ./dataset_o\\ECC2019_ResultsBook_Women_A-Divisi...  "
      ]
     },
     "metadata": {},
     "output_type": "display_data"
    }
   ],
   "source": [
    "df_test = pd.read_csv(test_fn,index_col=0)\n",
    "df_test = df_test.reset_index(drop=True)\n",
    "df_test['red_diff'] = df_test['red_diff'].astype(np.float32)\n",
    "df_test['remain_ends'] = df_test['remain_ends'].astype(np.float32)\n",
    "df_test['last_stone_is_red'] = df_test['last_stone_is_red'].astype(np.float32)\n",
    "df_test['red_postion'] = df_test['red_postion'].astype(np.float32)\n",
    "display(df_test.dtypes)\n",
    "display(df_test.head(3))"
   ]
  },
  {
   "cell_type": "code",
   "execution_count": 36,
   "id": "d1b5fa45-0b80-406f-af62-7ea7c0722a6e",
   "metadata": {},
   "outputs": [
    {
     "name": "stdout",
     "output_type": "stream",
     "text": [
      "['remain_ends', 'last_stone_is_red', 'red_postion']\n"
     ]
    }
   ],
   "source": [
    "# 標準化\n",
    "_stdsc = StandardScaler()\n",
    "##学習時の標準化したパラメータは、評価、本番時におなじ重みで標準化する処理が必要\n",
    "x_test_df = df_test.copy().drop(['filepath','red_diff'],axis=1)\n",
    "sc = pickle.load(open(new_dir_path_recursive+'stdsc_02240209.pkl', \"rb\"))\n",
    "x_test_std = sc.transform(x_test_df)\n",
    "\n",
    "## DataFrameの値を入れ替え\n",
    "qcl = df_test.columns.to_list()\n",
    "qcl.remove('filepath')\n",
    "qcl.remove('red_diff')\n",
    "print(qcl)\n",
    "df_test[qcl] = x_test_std\n",
    "#df_test.head(3)"
   ]
  },
  {
   "cell_type": "code",
   "execution_count": 37,
   "id": "52ac6cb1-332f-4de3-867e-e55994e545bb",
   "metadata": {},
   "outputs": [],
   "source": [
    "q_test = ImgValueDataset( df_test ,classcol='red_diff' , fncol='filepath' ,transform=transform_test)"
   ]
  },
  {
   "cell_type": "code",
   "execution_count": 38,
   "id": "0c903c83-0e72-4f73-9737-b73fd91c2942",
   "metadata": {},
   "outputs": [
    {
     "data": {
      "text/plain": [
       "'./myResnet18/checkpoint_model.pth'"
      ]
     },
     "execution_count": 38,
     "metadata": {},
     "output_type": "execute_result"
    }
   ],
   "source": [
    "## ベストモデル\n",
    "import glob\n",
    "##'model_scripted_{epoch}.smodel.pth'\n",
    "##g = glob.glob(new_dir_path_recursive+'model_scripted_*.smodel.pt')\n",
    "##g.sort()\n",
    "##fn = g[-1]\n",
    "fn = new_dir_path_recursive + 'checkpoint_model.pth'\n",
    "fn"
   ]
  },
  {
   "cell_type": "code",
   "execution_count": 39,
   "id": "01bf74aa-ff4d-4650-b22b-9b5415879a13",
   "metadata": {},
   "outputs": [
    {
     "name": "stdout",
     "output_type": "stream",
     "text": [
      "./myResnet18/checkpoint_model.pth\n",
      "<class 'collections.OrderedDict'>\n"
     ]
    },
    {
     "data": {
      "text/plain": [
       "<All keys matched successfully>"
      ]
     },
     "execution_count": 39,
     "metadata": {},
     "output_type": "execute_result"
    }
   ],
   "source": [
    "print(fn)\n",
    "model_from_script = torch.load(fn, map_location=\"cuda\")\n",
    "print(type(model_from_script))\n",
    "net2 = net = myResnet18(block=BasicBlock,layers=[2, 2, 2, 2],num_classes=1000)\n",
    "## 最終段を11にする\n",
    "num_class =11\n",
    "num_ftrs = net2.fc.in_features\n",
    "net2.fc = nn.Linear(num_ftrs+3, num_class)\n",
    "net2.load_state_dict(torch.load(fn))"
   ]
  },
  {
   "cell_type": "code",
   "execution_count": 40,
   "id": "5408b208-6a5f-40cb-a973-0d6d4f0af6fe",
   "metadata": {},
   "outputs": [],
   "source": [
    "q_loader = DataLoader(q_test, batch_size=batch_size, shuffle=False, num_workers=0)\n",
    "device = torch.device(\"cuda:0\" if torch.cuda.is_available() else \"cpu\")\n",
    "gpu_model = net2.to(device)\n",
    "y_list = [] \n",
    "t_list = []\n",
    "with torch.no_grad():\n",
    "    accs = [] # 各バッチごとの結果格納用\n",
    "    for batch in q_loader:\n",
    "        x, t = batch\n",
    "        x = x.to(device)\n",
    "        t = t.to(device)\n",
    "        y = gpu_model(x)\n",
    "        \n",
    "        y_label = torch.argmax(y, dim=1)\n",
    "        t_label = torch.argmax(t, dim=1)\n",
    "        acc = torch.sum(y_label == t_label) * 1.0 / len(t)\n",
    "        accs.append(acc)\n",
    "        y_list.extend(y_label.to(\"cpu\").numpy())\n",
    "        t_list.extend(t_label.to(\"cpu\").numpy())\n",
    "    "
   ]
  },
  {
   "cell_type": "code",
   "execution_count": 41,
   "id": "d08465bd-8486-4ca3-ab7f-fdc346c893b0",
   "metadata": {},
   "outputs": [
    {
     "data": {
      "text/plain": [
       "0.3864182692307692"
      ]
     },
     "execution_count": 41,
     "metadata": {},
     "output_type": "execute_result"
    }
   ],
   "source": [
    "np.mean( list(map( lambda r:r.item() ,accs )) )"
   ]
  },
  {
   "cell_type": "code",
   "execution_count": 65,
   "id": "e7fa9424-73fb-4431-8328-09daa77fa1d1",
   "metadata": {},
   "outputs": [],
   "source": [
    "from sklearn.metrics import confusion_matrix\n",
    "l = df_test['red_diff'].unique()\n",
    "sorted(l)\n",
    "name = sorted(l)\n",
    "val_mat = confusion_matrix(y_list, t_list, labels=name)"
   ]
  },
  {
   "cell_type": "code",
   "execution_count": 66,
   "id": "14539854-d0eb-44d7-9e66-af2e7b4c3cec",
   "metadata": {},
   "outputs": [
    {
     "data": {
      "text/html": [
       "<div>\n",
       "<style scoped>\n",
       "    .dataframe tbody tr th:only-of-type {\n",
       "        vertical-align: middle;\n",
       "    }\n",
       "\n",
       "    .dataframe tbody tr th {\n",
       "        vertical-align: top;\n",
       "    }\n",
       "\n",
       "    .dataframe thead th {\n",
       "        text-align: right;\n",
       "    }\n",
       "</style>\n",
       "<table border=\"1\" class=\"dataframe\">\n",
       "  <thead>\n",
       "    <tr style=\"text-align: right;\">\n",
       "      <th></th>\n",
       "      <th>-5.0</th>\n",
       "      <th>-4.0</th>\n",
       "      <th>-3.0</th>\n",
       "      <th>-2.0</th>\n",
       "      <th>-1.0</th>\n",
       "      <th>0.0</th>\n",
       "      <th>1.0</th>\n",
       "      <th>2.0</th>\n",
       "      <th>3.0</th>\n",
       "      <th>4.0</th>\n",
       "      <th>5.0</th>\n",
       "    </tr>\n",
       "  </thead>\n",
       "  <tbody>\n",
       "    <tr>\n",
       "      <th>-5.0</th>\n",
       "      <td>0</td>\n",
       "      <td>0</td>\n",
       "      <td>0</td>\n",
       "      <td>0</td>\n",
       "      <td>0</td>\n",
       "      <td>0</td>\n",
       "      <td>0</td>\n",
       "      <td>0</td>\n",
       "      <td>0</td>\n",
       "      <td>0</td>\n",
       "      <td>0</td>\n",
       "    </tr>\n",
       "    <tr>\n",
       "      <th>-4.0</th>\n",
       "      <td>0</td>\n",
       "      <td>0</td>\n",
       "      <td>0</td>\n",
       "      <td>0</td>\n",
       "      <td>0</td>\n",
       "      <td>0</td>\n",
       "      <td>0</td>\n",
       "      <td>0</td>\n",
       "      <td>0</td>\n",
       "      <td>0</td>\n",
       "      <td>0</td>\n",
       "    </tr>\n",
       "    <tr>\n",
       "      <th>-3.0</th>\n",
       "      <td>0</td>\n",
       "      <td>0</td>\n",
       "      <td>0</td>\n",
       "      <td>0</td>\n",
       "      <td>0</td>\n",
       "      <td>0</td>\n",
       "      <td>0</td>\n",
       "      <td>0</td>\n",
       "      <td>0</td>\n",
       "      <td>0</td>\n",
       "      <td>0</td>\n",
       "    </tr>\n",
       "    <tr>\n",
       "      <th>-2.0</th>\n",
       "      <td>0</td>\n",
       "      <td>0</td>\n",
       "      <td>0</td>\n",
       "      <td>0</td>\n",
       "      <td>0</td>\n",
       "      <td>0</td>\n",
       "      <td>0</td>\n",
       "      <td>0</td>\n",
       "      <td>0</td>\n",
       "      <td>0</td>\n",
       "      <td>0</td>\n",
       "    </tr>\n",
       "    <tr>\n",
       "      <th>-1.0</th>\n",
       "      <td>0</td>\n",
       "      <td>0</td>\n",
       "      <td>0</td>\n",
       "      <td>0</td>\n",
       "      <td>0</td>\n",
       "      <td>0</td>\n",
       "      <td>0</td>\n",
       "      <td>0</td>\n",
       "      <td>0</td>\n",
       "      <td>0</td>\n",
       "      <td>0</td>\n",
       "    </tr>\n",
       "    <tr>\n",
       "      <th>0.0</th>\n",
       "      <td>0</td>\n",
       "      <td>0</td>\n",
       "      <td>0</td>\n",
       "      <td>0</td>\n",
       "      <td>0</td>\n",
       "      <td>0</td>\n",
       "      <td>0</td>\n",
       "      <td>0</td>\n",
       "      <td>0</td>\n",
       "      <td>0</td>\n",
       "      <td>0</td>\n",
       "    </tr>\n",
       "    <tr>\n",
       "      <th>1.0</th>\n",
       "      <td>0</td>\n",
       "      <td>0</td>\n",
       "      <td>0</td>\n",
       "      <td>0</td>\n",
       "      <td>0</td>\n",
       "      <td>0</td>\n",
       "      <td>0</td>\n",
       "      <td>0</td>\n",
       "      <td>0</td>\n",
       "      <td>0</td>\n",
       "      <td>0</td>\n",
       "    </tr>\n",
       "    <tr>\n",
       "      <th>2.0</th>\n",
       "      <td>0</td>\n",
       "      <td>0</td>\n",
       "      <td>0</td>\n",
       "      <td>0</td>\n",
       "      <td>0</td>\n",
       "      <td>0</td>\n",
       "      <td>0</td>\n",
       "      <td>0</td>\n",
       "      <td>0</td>\n",
       "      <td>0</td>\n",
       "      <td>0</td>\n",
       "    </tr>\n",
       "    <tr>\n",
       "      <th>3.0</th>\n",
       "      <td>0</td>\n",
       "      <td>0</td>\n",
       "      <td>0</td>\n",
       "      <td>0</td>\n",
       "      <td>0</td>\n",
       "      <td>3</td>\n",
       "      <td>4</td>\n",
       "      <td>17</td>\n",
       "      <td>43</td>\n",
       "      <td>31</td>\n",
       "      <td>3</td>\n",
       "    </tr>\n",
       "    <tr>\n",
       "      <th>4.0</th>\n",
       "      <td>0</td>\n",
       "      <td>0</td>\n",
       "      <td>0</td>\n",
       "      <td>0</td>\n",
       "      <td>0</td>\n",
       "      <td>1</td>\n",
       "      <td>10</td>\n",
       "      <td>34</td>\n",
       "      <td>113</td>\n",
       "      <td>226</td>\n",
       "      <td>55</td>\n",
       "    </tr>\n",
       "    <tr>\n",
       "      <th>5.0</th>\n",
       "      <td>0</td>\n",
       "      <td>0</td>\n",
       "      <td>0</td>\n",
       "      <td>0</td>\n",
       "      <td>0</td>\n",
       "      <td>0</td>\n",
       "      <td>1</td>\n",
       "      <td>6</td>\n",
       "      <td>25</td>\n",
       "      <td>39</td>\n",
       "      <td>92</td>\n",
       "    </tr>\n",
       "  </tbody>\n",
       "</table>\n",
       "</div>"
      ],
      "text/plain": [
       "      -5.0  -4.0  -3.0  -2.0  -1.0   0.0   1.0   2.0   3.0   4.0   5.0\n",
       "-5.0     0     0     0     0     0     0     0     0     0     0     0\n",
       "-4.0     0     0     0     0     0     0     0     0     0     0     0\n",
       "-3.0     0     0     0     0     0     0     0     0     0     0     0\n",
       "-2.0     0     0     0     0     0     0     0     0     0     0     0\n",
       "-1.0     0     0     0     0     0     0     0     0     0     0     0\n",
       " 0.0     0     0     0     0     0     0     0     0     0     0     0\n",
       " 1.0     0     0     0     0     0     0     0     0     0     0     0\n",
       " 2.0     0     0     0     0     0     0     0     0     0     0     0\n",
       " 3.0     0     0     0     0     0     3     4    17    43    31     3\n",
       " 4.0     0     0     0     0     0     1    10    34   113   226    55\n",
       " 5.0     0     0     0     0     0     0     1     6    25    39    92"
      ]
     },
     "execution_count": 66,
     "metadata": {},
     "output_type": "execute_result"
    }
   ],
   "source": [
    "pd.DataFrame(val_mat,index=name,columns=name)"
   ]
  },
  {
   "cell_type": "code",
   "execution_count": 62,
   "id": "8382f0a6-d0a6-4277-99f6-145b75e403df",
   "metadata": {},
   "outputs": [
    {
     "name": "stdout",
     "output_type": "stream",
     "text": [
      "0.38531005418422637\n"
     ]
    }
   ],
   "source": [
    "from sklearn.metrics import accuracy_score\n",
    "acc_score = accuracy_score(y_list, t_list)\n",
    "print(acc_score)"
   ]
  },
  {
   "cell_type": "code",
   "execution_count": 63,
   "id": "7854a1a9-b4e4-4fe3-92b9-c2cefde8a830",
   "metadata": {},
   "outputs": [
    {
     "name": "stdout",
     "output_type": "stream",
     "text": [
      "[0.         0.         0.         0.38392857 0.36928105 0.40528634\n",
      " 0.38850174 0.41791045 0.         0.         0.        ]\n"
     ]
    },
    {
     "name": "stderr",
     "output_type": "stream",
     "text": [
      "C:\\Users\\ghost\\miniconda3\\envs\\dl_env\\lib\\site-packages\\sklearn\\metrics\\_classification.py:1471: UndefinedMetricWarning: Recall is ill-defined and being set to 0.0 in labels with no true samples. Use `zero_division` parameter to control this behavior.\n",
      "  _warn_prf(average, modifier, msg_start, len(result))\n"
     ]
    }
   ],
   "source": [
    "from sklearn.metrics import recall_score\n",
    "rec_score = recall_score(y_list, t_list, average=None)\n",
    "print(rec_score)"
   ]
  },
  {
   "cell_type": "code",
   "execution_count": 64,
   "id": "0becc64a-f405-48a9-9b79-c6c10ff1dba8",
   "metadata": {},
   "outputs": [
    {
     "data": {
      "text/plain": [
       "array([-1., -2.,  2.,  1., -3.,  0., -4., -5.,  3.,  4.,  5.],\n",
       "      dtype=float32)"
      ]
     },
     "execution_count": 64,
     "metadata": {},
     "output_type": "execute_result"
    }
   ],
   "source": [
    "name"
   ]
  },
  {
   "cell_type": "code",
   "execution_count": null,
   "id": "5020444e-2c32-49c1-ad66-ef1f25ec37c0",
   "metadata": {},
   "outputs": [],
   "source": []
  }
 ],
 "metadata": {
  "kernelspec": {
   "display_name": "Python 3 (ipykernel)",
   "language": "python",
   "name": "python3"
  },
  "language_info": {
   "codemirror_mode": {
    "name": "ipython",
    "version": 3
   },
   "file_extension": ".py",
   "mimetype": "text/x-python",
   "name": "python",
   "nbconvert_exporter": "python",
   "pygments_lexer": "ipython3",
   "version": "3.9.18"
  }
 },
 "nbformat": 4,
 "nbformat_minor": 5
}
