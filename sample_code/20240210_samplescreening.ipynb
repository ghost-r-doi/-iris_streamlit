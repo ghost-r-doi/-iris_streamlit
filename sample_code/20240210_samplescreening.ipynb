{
 "cells": [
  {
   "cell_type": "markdown",
   "id": "9c96b46d-5437-422b-a0e7-88025aae5809",
   "metadata": {},
   "source": [
    "# 練習環境  \n",
    "- 限定されたサンプルを扱うなので、全サンプルから使えるサンプルだけのdatasetを作成する\n",
    "- TrainのDatasetの各ＲＧＢチャンネルの平均と分散をとっておく"
   ]
  },
  {
   "cell_type": "code",
   "execution_count": 1,
   "id": "53291524-78c5-4b9e-9a4d-a764b46193d7",
   "metadata": {},
   "outputs": [],
   "source": [
    "import pandas as pd\n",
    "import numpy as np\n",
    "import os\n",
    "from PIL import Image\n",
    "import matplotlib.pyplot as plt\n",
    "plt.rcParams['font.family'] = 'Meiryo'"
   ]
  },
  {
   "cell_type": "markdown",
   "id": "96c9f358-8e02-403e-a215-6a9cc478cc26",
   "metadata": {},
   "source": [
    "### 画素の分布を確認"
   ]
  },
  {
   "cell_type": "code",
   "execution_count": 4,
   "id": "f1d77421-273a-4ebd-8a69-13d92d746504",
   "metadata": {},
   "outputs": [],
   "source": [
    "train_fn = r'dataset_cur_train.csv'\n",
    "valid_fn = r'dataset_cur_test.csv'"
   ]
  },
  {
   "cell_type": "code",
   "execution_count": 5,
   "id": "52e50be4-9bf6-40d7-b376-d8d13a1e1963",
   "metadata": {},
   "outputs": [
    {
     "data": {
      "text/plain": [
       "(14949, 5)"
      ]
     },
     "metadata": {},
     "output_type": "display_data"
    },
    {
     "data": {
      "text/html": [
       "<div>\n",
       "<style scoped>\n",
       "    .dataframe tbody tr th:only-of-type {\n",
       "        vertical-align: middle;\n",
       "    }\n",
       "\n",
       "    .dataframe tbody tr th {\n",
       "        vertical-align: top;\n",
       "    }\n",
       "\n",
       "    .dataframe thead th {\n",
       "        text-align: right;\n",
       "    }\n",
       "</style>\n",
       "<table border=\"1\" class=\"dataframe\">\n",
       "  <thead>\n",
       "    <tr style=\"text-align: right;\">\n",
       "      <th></th>\n",
       "      <th>red_diff</th>\n",
       "      <th>remain_ends</th>\n",
       "      <th>last_stone_is_red</th>\n",
       "      <th>red_postion</th>\n",
       "      <th>filepath</th>\n",
       "    </tr>\n",
       "  </thead>\n",
       "  <tbody>\n",
       "    <tr>\n",
       "      <th>8</th>\n",
       "      <td>1.0</td>\n",
       "      <td>0</td>\n",
       "      <td>True</td>\n",
       "      <td>3.0</td>\n",
       "      <td>./dataset_o\\ECC2023_ResultsBook_Women_A-Divisi...</td>\n",
       "    </tr>\n",
       "    <tr>\n",
       "      <th>0</th>\n",
       "      <td>2.0</td>\n",
       "      <td>8</td>\n",
       "      <td>True</td>\n",
       "      <td>0.0</td>\n",
       "      <td>./dataset_o\\ECC2021_ResultsBook_Men_A-Division...</td>\n",
       "    </tr>\n",
       "    <tr>\n",
       "      <th>8</th>\n",
       "      <td>-2.0</td>\n",
       "      <td>0</td>\n",
       "      <td>False</td>\n",
       "      <td>3.0</td>\n",
       "      <td>./dataset_o\\ECC2019_ResultsBook_Women_A-Divisi...</td>\n",
       "    </tr>\n",
       "  </tbody>\n",
       "</table>\n",
       "</div>"
      ],
      "text/plain": [
       "   red_diff  remain_ends  last_stone_is_red  red_postion  \\\n",
       "8       1.0            0               True          3.0   \n",
       "0       2.0            8               True          0.0   \n",
       "8      -2.0            0              False          3.0   \n",
       "\n",
       "                                            filepath  \n",
       "8  ./dataset_o\\ECC2023_ResultsBook_Women_A-Divisi...  \n",
       "0  ./dataset_o\\ECC2021_ResultsBook_Men_A-Division...  \n",
       "8  ./dataset_o\\ECC2019_ResultsBook_Women_A-Divisi...  "
      ]
     },
     "metadata": {},
     "output_type": "display_data"
    }
   ],
   "source": [
    "df = pd.read_csv(train_fn,index_col=0)\n",
    "display(df.shape , df.head(3))"
   ]
  },
  {
   "cell_type": "code",
   "execution_count": 10,
   "id": "48bf0bcb-6c68-4331-82a4-a14d9d659b6b",
   "metadata": {},
   "outputs": [
    {
     "data": {
      "text/plain": [
       "array(['./dataset_o\\\\WMCC2023_ResultsBook\\\\geme503end4.png',\n",
       "       './dataset_o\\\\ECC2019_ResultsBook_Men_A-Division\\\\geme313end8.png',\n",
       "       './dataset_o\\\\CWC2018-19_Leg2_ResultsBook\\\\geme206end6.png',\n",
       "       './dataset_o\\\\WMCC2023_ResultsBook\\\\geme452end7.png',\n",
       "       './dataset_o\\\\WWCC2022_ResultsBook\\\\geme201end8.png',\n",
       "       './dataset_o\\\\WWCC2022_ResultsBook\\\\geme418end1.png',\n",
       "       './dataset_o\\\\WMCC2023_ResultsBook\\\\geme566end5.png',\n",
       "       './dataset_o\\\\WWCC2022_ResultsBook\\\\geme330end9.png',\n",
       "       './dataset_o\\\\OWG2018_ResultsBook\\\\geme780end5.png',\n",
       "       './dataset_o\\\\WWCC2023_ResultsBook\\\\geme535end6.png',\n",
       "       './dataset_o\\\\WWCC2018_ResultsBook\\\\geme842end6.png',\n",
       "       './dataset_o\\\\OWG2022_ResultsBook\\\\geme983end3.png',\n",
       "       './dataset_o\\\\WWCC2023_ResultsBook\\\\geme787end3.png',\n",
       "       './dataset_o\\\\CWC2018-19_Leg3_ResultsBook\\\\geme343end2.png',\n",
       "       './dataset_o\\\\ECC2019_ResultsBook_Men_A-Division\\\\geme365end8.png',\n",
       "       './dataset_o\\\\WWCC2018_ResultsBook\\\\geme360end7.png',\n",
       "       './dataset_o\\\\ECC2022_ResultsBook_Women_A-Division\\\\geme321end1.png',\n",
       "       './dataset_o\\\\ECC2023_ResultsBook_Men_A-Division\\\\geme193end2.png',\n",
       "       './dataset_o\\\\ECC2021_ResultsBook_Men_A-Division\\\\geme132end2.png',\n",
       "       './dataset_o\\\\ECC2022_ResultsBook_Women_A-Division\\\\geme462end2.png',\n",
       "       './dataset_o\\\\WWCC2023_ResultsBook\\\\geme149end2.png',\n",
       "       './dataset_o\\\\WMCC2018_ResultsBook\\\\geme638end6.png',\n",
       "       './dataset_o\\\\WWCC2019_ResultsBook\\\\geme711end1.png',\n",
       "       './dataset_o\\\\PCCC2023_ResultsBook_Men_A-Division\\\\geme152end8.png',\n",
       "       './dataset_o\\\\CWC2018-19_Leg3_ResultsBook\\\\geme42end1.png',\n",
       "       './dataset_o\\\\WMCC2023_ResultsBook\\\\geme755end3.png',\n",
       "       './dataset_o\\\\WWCC2018_ResultsBook\\\\geme507end7.png',\n",
       "       './dataset_o\\\\WWCC2018_ResultsBook\\\\geme771end5.png',\n",
       "       './dataset_o\\\\ECC2019_ResultsBook_Women_A-Division\\\\geme213end6.png',\n",
       "       './dataset_o\\\\WMCC2023_ResultsBook\\\\geme187end9.png',\n",
       "       './dataset_o\\\\WWCC2023_ResultsBook\\\\geme496end3.png',\n",
       "       './dataset_o\\\\ECC2023_ResultsBook_Women_A-Division\\\\geme443end8.png',\n",
       "       './dataset_o\\\\WWCC2018_ResultsBook\\\\geme338end4.png',\n",
       "       './dataset_o\\\\ECC2023_ResultsBook_Women_A-Division\\\\geme83end3.png',\n",
       "       './dataset_o\\\\WMCC2021_ResultsBook\\\\geme347end1.png',\n",
       "       './dataset_o\\\\WMCC2023_ResultsBook\\\\geme462end5.png',\n",
       "       './dataset_o\\\\PACC2018_ResultsBook_Men\\\\geme368end3.png',\n",
       "       './dataset_o\\\\WMCC2019_ResultsBook\\\\geme861end2.png',\n",
       "       './dataset_o\\\\ECC2017_ResultsBook_Women_A-Division\\\\geme456end2.png',\n",
       "       './dataset_o\\\\ECC2019_ResultsBook_Men_A-Division\\\\geme207end8.png',\n",
       "       './dataset_o\\\\ECC2022_ResultsBook_Men_A-Division\\\\geme484end3.png',\n",
       "       './dataset_o\\\\CWC2018-19_Leg1_ResultsBook\\\\geme356end1.png',\n",
       "       './dataset_o\\\\OWG2018_ResultsBook\\\\geme1102end8.png',\n",
       "       './dataset_o\\\\PCCC2023_ResultsBook_Men_A-Division\\\\geme268end2.png',\n",
       "       './dataset_o\\\\OWG2022_ResultsBook\\\\geme576end3.png',\n",
       "       './dataset_o\\\\PACC2018_ResultsBook_Men\\\\geme276end3.png',\n",
       "       './dataset_o\\\\WMCC2019_ResultsBook\\\\geme788end4.png',\n",
       "       './dataset_o\\\\PCCC2023_ResultsBook_Men_A-Division\\\\geme21end7.png',\n",
       "       './dataset_o\\\\ECC2022_ResultsBook_Men_A-Division\\\\geme330end9.png',\n",
       "       './dataset_o\\\\WMCC2018_ResultsBook\\\\geme627end1.png',\n",
       "       './dataset_o\\\\OWG2018_ResultsBook\\\\geme727end9.png',\n",
       "       './dataset_o\\\\ECC2017_ResultsBook_Men_A-Division\\\\geme489end4.png',\n",
       "       './dataset_o\\\\PCCC2022_ResultsBook_Men_A-Division\\\\geme242end2.png',\n",
       "       './dataset_o\\\\WWCC2018_ResultsBook\\\\geme39end3.png',\n",
       "       './dataset_o\\\\CWC2018-19_Leg2_ResultsBook\\\\geme206end4.png',\n",
       "       './dataset_o\\\\WMCC2021_ResultsBook\\\\geme359end2.png',\n",
       "       './dataset_o\\\\WMCC2021_ResultsBook\\\\geme336end2.png',\n",
       "       './dataset_o\\\\OWG2022_ResultsBook\\\\geme983end4.png',\n",
       "       './dataset_o\\\\WMCC2018_ResultsBook\\\\geme853end11.png',\n",
       "       './dataset_o\\\\WWCC2023_ResultsBook\\\\geme126end4.png',\n",
       "       './dataset_o\\\\ECC2021_ResultsBook_Men_A-Division\\\\geme205end3.png',\n",
       "       './dataset_o\\\\ECC2022_ResultsBook_Women_A-Division\\\\geme441end1.png',\n",
       "       './dataset_o\\\\ECC2019_ResultsBook_Women_A-Division\\\\geme296end4.png',\n",
       "       './dataset_o\\\\PACC2018_ResultsBook_Men\\\\geme115end4.png',\n",
       "       './dataset_o\\\\WMCC2022_ResultsBook\\\\geme389end7.png',\n",
       "       './dataset_o\\\\WMCC2023_ResultsBook\\\\geme793end4.png',\n",
       "       './dataset_o\\\\WMCC2019_ResultsBook\\\\geme654end2.png',\n",
       "       './dataset_o\\\\ECC2018_ResultsBook_Women_A-Division\\\\geme86end6.png',\n",
       "       './dataset_o\\\\OWG2018_ResultsBook\\\\geme501end8.png',\n",
       "       './dataset_o\\\\ECC2017_ResultsBook_Women_A-Division\\\\geme237end4.png',\n",
       "       './dataset_o\\\\WWCC2023_ResultsBook\\\\geme368end9.png',\n",
       "       './dataset_o\\\\WMCC2021_ResultsBook\\\\geme713end3.png',\n",
       "       './dataset_o\\\\ECC2021_ResultsBook_Men_A-Division\\\\geme34end8.png',\n",
       "       './dataset_o\\\\WWCC2019_ResultsBook\\\\geme159end6.png',\n",
       "       './dataset_o\\\\OWG2018_ResultsBook\\\\geme1181end4.png',\n",
       "       './dataset_o\\\\WMCC2018_ResultsBook\\\\geme239end8.png',\n",
       "       './dataset_o\\\\ECC2023_ResultsBook_Women_A-Division\\\\geme366end8.png',\n",
       "       './dataset_o\\\\ECC2022_ResultsBook_Women_A-Division\\\\geme37end8.png',\n",
       "       './dataset_o\\\\ECC2023_ResultsBook_Men_A-Division\\\\geme363end6.png',\n",
       "       './dataset_o\\\\OWG2022_ResultsBook\\\\geme660end1.png',\n",
       "       './dataset_o\\\\PACC2019_ResultsBook_Women\\\\geme52end2.png',\n",
       "       './dataset_o\\\\OWG2018_ResultsBook\\\\geme928end7.png',\n",
       "       './dataset_o\\\\WWCC2022_ResultsBook\\\\geme442end7.png',\n",
       "       './dataset_o\\\\ECC2022_ResultsBook_Women_A-Division\\\\geme271end1.png',\n",
       "       './dataset_o\\\\ECC2022_ResultsBook_Men_A-Division\\\\geme362end4.png',\n",
       "       './dataset_o\\\\ECC2022_ResultsBook_Women_A-Division\\\\geme47end8.png',\n",
       "       './dataset_o\\\\WMCC2022_ResultsBook\\\\geme400end4.png',\n",
       "       './dataset_o\\\\ECC2018_ResultsBook_Men_A-Division\\\\geme139end5.png',\n",
       "       './dataset_o\\\\OWG2022_ResultsBook\\\\geme42end3.png',\n",
       "       './dataset_o\\\\ECC2018_ResultsBook_Women_A-Division\\\\geme158end4.png',\n",
       "       './dataset_o\\\\OWG2018_ResultsBook\\\\geme271end2.png',\n",
       "       './dataset_o\\\\ECC2023_ResultsBook_Women_A-Division\\\\geme250end8.png',\n",
       "       './dataset_o\\\\WMCC2019_ResultsBook\\\\geme624end1.png',\n",
       "       './dataset_o\\\\OWG2018_ResultsBook\\\\geme780end8.png',\n",
       "       './dataset_o\\\\OWG2018_ResultsBook\\\\geme368end6.png',\n",
       "       './dataset_o\\\\WWCC2023_ResultsBook\\\\geme904end10.png',\n",
       "       './dataset_o\\\\OWG2018_ResultsBook\\\\geme1159end7.png',\n",
       "       './dataset_o\\\\WMCC2019_ResultsBook\\\\geme851end8.png',\n",
       "       './dataset_o\\\\WMCC2018_ResultsBook\\\\geme534end4.png',\n",
       "       './dataset_o\\\\WWCC2018_ResultsBook\\\\geme39end9.png',\n",
       "       './dataset_o\\\\PCCC2023_ResultsBook_Women_A-Division\\\\geme240end1.png',\n",
       "       './dataset_o\\\\OWG2018_ResultsBook\\\\geme143end8.png',\n",
       "       './dataset_o\\\\ECC2019_ResultsBook_Men_A-Division\\\\geme73end8.png',\n",
       "       './dataset_o\\\\ECC2017_ResultsBook_Women_A-Division\\\\geme363end7.png',\n",
       "       './dataset_o\\\\WMCC2023_ResultsBook\\\\geme684end9.png',\n",
       "       './dataset_o\\\\ECC2021_ResultsBook_Women_A-Division\\\\geme447end5.png',\n",
       "       './dataset_o\\\\PCCC2023_ResultsBook_Men_A-Division\\\\geme189end9.png',\n",
       "       './dataset_o\\\\WWCC2019_ResultsBook\\\\geme831end4.png',\n",
       "       './dataset_o\\\\WWCC2019_ResultsBook\\\\geme883end9.png',\n",
       "       './dataset_o\\\\WWCC2018_ResultsBook\\\\geme810end8.png',\n",
       "       './dataset_o\\\\WMCC2023_ResultsBook\\\\geme129end1.png',\n",
       "       './dataset_o\\\\WWCC2022_ResultsBook\\\\geme260end10.png',\n",
       "       './dataset_o\\\\PACC2018_ResultsBook_Men\\\\geme173end2.png',\n",
       "       './dataset_o\\\\WWCC2022_ResultsBook\\\\geme105end6.png',\n",
       "       './dataset_o\\\\WMCC2022_ResultsBook\\\\geme200end5.png',\n",
       "       './dataset_o\\\\WMCC2022_ResultsBook\\\\geme169end5.png',\n",
       "       './dataset_o\\\\PCCC2022_ResultsBook_Men_A-Division\\\\geme277end7.png',\n",
       "       './dataset_o\\\\OWG2022_ResultsBook\\\\geme942end5.png',\n",
       "       './dataset_o\\\\WWCC2023_ResultsBook\\\\geme630end10.png',\n",
       "       './dataset_o\\\\WMCC2023_ResultsBook\\\\geme641end10.png',\n",
       "       './dataset_o\\\\ECC2022_ResultsBook_Women_A-Division\\\\geme349end6.png',\n",
       "       './dataset_o\\\\OWG2018_ResultsBook\\\\geme271end7.png',\n",
       "       './dataset_o\\\\WWCC2019_ResultsBook\\\\geme428end1.png',\n",
       "       './dataset_o\\\\ECC2023_ResultsBook_Women_A-Division\\\\geme72end7.png',\n",
       "       './dataset_o\\\\WWCC2023_ResultsBook\\\\geme466end9.png',\n",
       "       './dataset_o\\\\ECC2019_ResultsBook_Men_A-Division\\\\geme116end9.png',\n",
       "       './dataset_o\\\\ECC2021_ResultsBook_Women_A-Division\\\\geme371end2.png',\n",
       "       './dataset_o\\\\WMCC2021_ResultsBook\\\\geme59end4.png',\n",
       "       './dataset_o\\\\WWCC2018_ResultsBook\\\\geme383end6.png',\n",
       "       './dataset_o\\\\WMCC2018_ResultsBook\\\\geme136end6.png',\n",
       "       './dataset_o\\\\WWCC2023_ResultsBook\\\\geme524end9.png',\n",
       "       './dataset_o\\\\ECC2019_ResultsBook_Women_A-Division\\\\geme473end2.png',\n",
       "       './dataset_o\\\\WWCC2022_ResultsBook\\\\geme160end3.png',\n",
       "       './dataset_o\\\\OWG2018_ResultsBook\\\\geme215end9.png',\n",
       "       './dataset_o\\\\ECC2019_ResultsBook_Men_A-Division\\\\geme508end2.png',\n",
       "       './dataset_o\\\\WMCC2023_ResultsBook\\\\geme771end8.png',\n",
       "       './dataset_o\\\\OWG2018_ResultsBook\\\\geme154end8.png',\n",
       "       './dataset_o\\\\WMCC2018_ResultsBook\\\\geme804end1.png',\n",
       "       './dataset_o\\\\WMCC2018_ResultsBook\\\\geme490end1.png',\n",
       "       './dataset_o\\\\WWCC2022_ResultsBook\\\\geme105end3.png',\n",
       "       './dataset_o\\\\WWCC2023_ResultsBook\\\\geme863end8.png',\n",
       "       './dataset_o\\\\WWCC2019_ResultsBook\\\\geme498end6.png',\n",
       "       './dataset_o\\\\WWCC2023_ResultsBook\\\\geme701end4.png',\n",
       "       './dataset_o\\\\ECC2019_ResultsBook_Women_A-Division\\\\geme440end6.png',\n",
       "       './dataset_o\\\\CWC2018-19_Leg3_ResultsBook\\\\geme232end1.png',\n",
       "       './dataset_o\\\\WMCC2022_ResultsBook\\\\geme520end5.png',\n",
       "       './dataset_o\\\\ECC2017_ResultsBook_Men_A-Division\\\\geme434end6.png',\n",
       "       './dataset_o\\\\PCCC2023_ResultsBook_Women_A-Division\\\\geme21end1.png',\n",
       "       './dataset_o\\\\ECC2018_ResultsBook_Men_A-Division\\\\geme464end6.png',\n",
       "       './dataset_o\\\\WWCC2019_ResultsBook\\\\geme39end6.png',\n",
       "       './dataset_o\\\\ECC2022_ResultsBook_Women_A-Division\\\\geme281end7.png',\n",
       "       './dataset_o\\\\ECC2017_ResultsBook_Women_A-Division\\\\geme122end6.png',\n",
       "       './dataset_o\\\\ECC2018_ResultsBook_Women_A-Division\\\\geme446end9.png',\n",
       "       './dataset_o\\\\ECC2019_ResultsBook_Women_A-Division\\\\geme234end3.png',\n",
       "       './dataset_o\\\\OWG2022_ResultsBook\\\\geme931end1.png',\n",
       "       './dataset_o\\\\WMCC2021_ResultsBook\\\\geme165end4.png',\n",
       "       './dataset_o\\\\OWG2018_ResultsBook\\\\geme949end8.png',\n",
       "       './dataset_o\\\\ECC2022_ResultsBook_Women_A-Division\\\\geme483end7.png',\n",
       "       './dataset_o\\\\CWC2018-19_Leg1_ResultsBook\\\\geme126end3.png',\n",
       "       './dataset_o\\\\ECC2021_ResultsBook_Women_A-Division\\\\geme188end9.png',\n",
       "       './dataset_o\\\\CWC2018-19_Leg1_ResultsBook\\\\geme365end6.png',\n",
       "       './dataset_o\\\\ECC2018_ResultsBook_Women_A-Division\\\\geme446end5.png',\n",
       "       './dataset_o\\\\WWCC2019_ResultsBook\\\\geme678end9.png',\n",
       "       './dataset_o\\\\WMCC2021_ResultsBook\\\\geme71end7.png',\n",
       "       './dataset_o\\\\WMCC2019_ResultsBook\\\\geme822end1.png',\n",
       "       './dataset_o\\\\ECC2017_ResultsBook_Men_A-Division\\\\geme402end6.png',\n",
       "       './dataset_o\\\\WMCC2021_ResultsBook\\\\geme490end9.png',\n",
       "       './dataset_o\\\\OWG2018_ResultsBook\\\\geme823end11.png',\n",
       "       './dataset_o\\\\CWC2018-19_Leg1_ResultsBook\\\\geme85end7.png',\n",
       "       './dataset_o\\\\WMCC2021_ResultsBook\\\\geme848end7.png',\n",
       "       './dataset_o\\\\WMCC2021_ResultsBook\\\\geme901end8.png',\n",
       "       './dataset_o\\\\ECC2019_ResultsBook_Men_A-Division\\\\geme141end5.png',\n",
       "       './dataset_o\\\\ECC2021_ResultsBook_Women_A-Division\\\\geme447end4.png',\n",
       "       './dataset_o\\\\WMCC2021_ResultsBook\\\\geme910end2.png',\n",
       "       './dataset_o\\\\OWG2022_ResultsBook\\\\geme620end4.png',\n",
       "       './dataset_o\\\\ECC2019_ResultsBook_Men_A-Division\\\\geme466end5.png',\n",
       "       './dataset_o\\\\WWCC2023_ResultsBook\\\\geme455end5.png',\n",
       "       './dataset_o\\\\WWCC2022_ResultsBook\\\\geme677end11.png',\n",
       "       './dataset_o\\\\WMCC2021_ResultsBook\\\\geme293end4.png',\n",
       "       './dataset_o\\\\ECC2018_ResultsBook_Men_A-Division\\\\geme354end3.png',\n",
       "       './dataset_o\\\\WWCC2019_ResultsBook\\\\geme138end3.png',\n",
       "       './dataset_o\\\\ECC2022_ResultsBook_Women_A-Division\\\\geme140end1.png',\n",
       "       './dataset_o\\\\WWCC2023_ResultsBook\\\\geme477end5.png',\n",
       "       './dataset_o\\\\ECC2022_ResultsBook_Women_A-Division\\\\geme24end5.png',\n",
       "       './dataset_o\\\\WWCC2018_ResultsBook\\\\geme548end3.png',\n",
       "       './dataset_o\\\\WWCC2019_ResultsBook\\\\geme860end4.png',\n",
       "       './dataset_o\\\\ECC2018_ResultsBook_Men_A-Division\\\\geme148end9.png',\n",
       "       './dataset_o\\\\PCCC2022_ResultsBook_Men_A-Division\\\\geme213end6.png',\n",
       "       './dataset_o\\\\WWCC2022_ResultsBook\\\\geme817end8.png',\n",
       "       './dataset_o\\\\ECC2017_ResultsBook_Women_A-Division\\\\geme329end3.png',\n",
       "       './dataset_o\\\\ECC2023_ResultsBook_Women_A-Division\\\\geme304end4.png',\n",
       "       './dataset_o\\\\ECC2017_ResultsBook_Men_A-Division\\\\geme480end5.png',\n",
       "       './dataset_o\\\\ECC2023_ResultsBook_Women_A-Division\\\\geme462end6.png',\n",
       "       './dataset_o\\\\WWCC2022_ResultsBook\\\\geme791end4.png',\n",
       "       './dataset_o\\\\WMCC2018_ResultsBook\\\\geme470end2.png',\n",
       "       './dataset_o\\\\WMCC2019_ResultsBook\\\\geme500end8.png',\n",
       "       './dataset_o\\\\WWCC2022_ResultsBook\\\\geme171end2.png',\n",
       "       './dataset_o\\\\ECC2022_ResultsBook_Men_A-Division\\\\geme351end3.png',\n",
       "       './dataset_o\\\\ECC2023_ResultsBook_Men_A-Division\\\\geme363end4.png',\n",
       "       './dataset_o\\\\OWG2022_ResultsBook\\\\geme919end1.png',\n",
       "       './dataset_o\\\\WWCC2022_ResultsBook\\\\geme282end3.png',\n",
       "       './dataset_o\\\\WMCC2021_ResultsBook\\\\geme1037end8.png',\n",
       "       './dataset_o\\\\PCCC2022_ResultsBook_Men_A-Division\\\\geme71end6.png',\n",
       "       './dataset_o\\\\ECC2023_ResultsBook_Women_A-Division\\\\geme494end7.png',\n",
       "       './dataset_o\\\\WMCC2021_ResultsBook\\\\geme211end7.png',\n",
       "       './dataset_o\\\\WWCC2023_ResultsBook\\\\geme325end5.png',\n",
       "       './dataset_o\\\\ECC2019_ResultsBook_Men_A-Division\\\\geme6end3.png',\n",
       "       './dataset_o\\\\WWCC2019_ResultsBook\\\\geme498end8.png',\n",
       "       './dataset_o\\\\WWCC2018_ResultsBook\\\\geme263end2.png',\n",
       "       './dataset_o\\\\ECC2018_ResultsBook_Women_A-Division\\\\geme150end1.png',\n",
       "       './dataset_o\\\\PACC2018_ResultsBook_Men\\\\geme395end1.png',\n",
       "       './dataset_o\\\\ECC2022_ResultsBook_Women_A-Division\\\\geme329end1.png',\n",
       "       './dataset_o\\\\OWG2022_ResultsBook\\\\geme875end4.png',\n",
       "       './dataset_o\\\\ECC2019_ResultsBook_Women_A-Division\\\\geme159end4.png',\n",
       "       './dataset_o\\\\OWG2022_ResultsBook\\\\geme54end8.png',\n",
       "       './dataset_o\\\\WMCC2018_ResultsBook\\\\geme500end8.png',\n",
       "       './dataset_o\\\\WMCC2021_ResultsBook\\\\geme393end1.png',\n",
       "       './dataset_o\\\\ECC2023_ResultsBook_Women_A-Division\\\\geme272end5.png',\n",
       "       './dataset_o\\\\WMCC2019_ResultsBook\\\\geme463end7.png',\n",
       "       './dataset_o\\\\PACC2018_ResultsBook_Men\\\\geme22end1.png',\n",
       "       './dataset_o\\\\OWG2018_ResultsBook\\\\geme201end5.png',\n",
       "       './dataset_o\\\\CWC2018-19_Leg3_ResultsBook\\\\geme293end2.png',\n",
       "       './dataset_o\\\\PACC2018_ResultsBook_Men\\\\geme256end5.png',\n",
       "       './dataset_o\\\\ECC2022_ResultsBook_Women_A-Division\\\\geme47end4.png',\n",
       "       './dataset_o\\\\OWG2018_ResultsBook\\\\geme402end8.png',\n",
       "       './dataset_o\\\\OWG2022_ResultsBook\\\\geme193end9.png',\n",
       "       './dataset_o\\\\WWCC2023_ResultsBook\\\\geme630end5.png',\n",
       "       './dataset_o\\\\WMCC2019_ResultsBook\\\\geme491end3.png',\n",
       "       './dataset_o\\\\WWCC2019_ResultsBook\\\\geme573end2.png',\n",
       "       './dataset_o\\\\WWCC2023_ResultsBook\\\\geme260end9.png',\n",
       "       './dataset_o\\\\PACC2018_ResultsBook_Men\\\\geme94end9.png',\n",
       "       './dataset_o\\\\CWC2018-19_Leg3_ResultsBook\\\\geme186end1.png',\n",
       "       './dataset_o\\\\CWC2018-19_Leg3_ResultsBook\\\\geme50end3.png',\n",
       "       './dataset_o\\\\WMCC2023_ResultsBook\\\\geme178end3.png',\n",
       "       './dataset_o\\\\OWG2022_ResultsBook\\\\geme942end10.png',\n",
       "       './dataset_o\\\\WWCC2022_ResultsBook\\\\geme580end2.png',\n",
       "       './dataset_o\\\\CWC2018-19_Leg3_ResultsBook\\\\geme351end4.png',\n",
       "       './dataset_o\\\\CWC2018-19_Leg3_ResultsBook\\\\geme475end2.png',\n",
       "       './dataset_o\\\\WMCC2018_ResultsBook\\\\geme116end4.png',\n",
       "       './dataset_o\\\\WWCC2023_ResultsBook\\\\geme345end1.png',\n",
       "       './dataset_o\\\\ECC2019_ResultsBook_Women_A-Division\\\\geme245end5.png',\n",
       "       './dataset_o\\\\ECC2021_ResultsBook_Men_A-Division\\\\geme250end6.png',\n",
       "       './dataset_o\\\\WWCC2023_ResultsBook\\\\geme421end7.png',\n",
       "       './dataset_o\\\\CWC2018-19_Leg2_ResultsBook\\\\geme56end6.png',\n",
       "       './dataset_o\\\\WWCC2023_ResultsBook\\\\geme904end8.png',\n",
       "       './dataset_o\\\\OWG2018_ResultsBook\\\\geme201end3.png',\n",
       "       './dataset_o\\\\WMCC2018_ResultsBook\\\\geme228end5.png',\n",
       "       './dataset_o\\\\WWCC2018_ResultsBook\\\\geme394end5.png',\n",
       "       './dataset_o\\\\ECC2019_ResultsBook_Men_A-Division\\\\geme162end3.png',\n",
       "       './dataset_o\\\\ECC2017_ResultsBook_Men_A-Division\\\\geme305end8.png',\n",
       "       './dataset_o\\\\PACC2018_ResultsBook_Men\\\\geme357end4.png',\n",
       "       './dataset_o\\\\WWCC2018_ResultsBook\\\\geme473end7.png',\n",
       "       './dataset_o\\\\ECC2021_ResultsBook_Men_A-Division\\\\geme501end4.png',\n",
       "       './dataset_o\\\\ECC2023_ResultsBook_Women_A-Division\\\\geme443end7.png',\n",
       "       './dataset_o\\\\OWG2022_ResultsBook\\\\geme703end7.png',\n",
       "       './dataset_o\\\\WWCC2018_ResultsBook\\\\geme51end1.png',\n",
       "       './dataset_o\\\\PACC2018_ResultsBook_Women\\\\geme266end3.png',\n",
       "       './dataset_o\\\\ECC2019_ResultsBook_Men_A-Division\\\\geme172end2.png',\n",
       "       './dataset_o\\\\ECC2021_ResultsBook_Men_A-Division\\\\geme402end4.png',\n",
       "       './dataset_o\\\\OWG2018_ResultsBook\\\\geme53end11.png',\n",
       "       './dataset_o\\\\OQE2021_ResultsBook_Men\\\\geme80end3.png',\n",
       "       './dataset_o\\\\WMCC2022_ResultsBook\\\\geme271end4.png',\n",
       "       './dataset_o\\\\ECC2023_ResultsBook_Women_A-Division\\\\geme83end1.png',\n",
       "       './dataset_o\\\\ECC2022_ResultsBook_Men_A-Division\\\\geme496end7.png',\n",
       "       './dataset_o\\\\PACC2018_ResultsBook_Women\\\\geme125end10.png',\n",
       "       './dataset_o\\\\WWCC2019_ResultsBook\\\\geme469end2.png',\n",
       "       './dataset_o\\\\ECC2023_ResultsBook_Women_A-Division\\\\geme72end9.png',\n",
       "       './dataset_o\\\\WWCC2018_ResultsBook\\\\geme710end4.png',\n",
       "       './dataset_o\\\\CWC2018-19_Leg2_ResultsBook\\\\geme124end1.png',\n",
       "       './dataset_o\\\\ECC2017_ResultsBook_Women_A-Division\\\\geme184end7.png',\n",
       "       './dataset_o\\\\WWCC2019_ResultsBook\\\\geme507end11.png',\n",
       "       './dataset_o\\\\OWG2018_ResultsBook\\\\geme414end9.png',\n",
       "       './dataset_o\\\\WMCC2021_ResultsBook\\\\geme628end11.png',\n",
       "       './dataset_o\\\\PACC2018_ResultsBook_Men\\\\geme205end3.png',\n",
       "       './dataset_o\\\\ECC2019_ResultsBook_Women_A-Division\\\\geme85end8.png',\n",
       "       './dataset_o\\\\ECC2022_ResultsBook_Men_A-Division\\\\geme23end7.png',\n",
       "       './dataset_o\\\\WMCC2021_ResultsBook\\\\geme755end6.png',\n",
       "       './dataset_o\\\\WMCC2021_ResultsBook\\\\geme743end6.png',\n",
       "       './dataset_o\\\\WMCC2021_ResultsBook\\\\geme241end2.png',\n",
       "       './dataset_o\\\\PACC2018_ResultsBook_Women\\\\geme183end8.png',\n",
       "       './dataset_o\\\\ECC2021_ResultsBook_Women_A-Division\\\\geme188end3.png',\n",
       "       './dataset_o\\\\ECC2019_ResultsBook_Men_A-Division\\\\geme141end7.png',\n",
       "       './dataset_o\\\\ECC2019_ResultsBook_Men_A-Division\\\\geme489end3.png',\n",
       "       './dataset_o\\\\PCCC2023_ResultsBook_Women_A-Division\\\\geme21end7.png',\n",
       "       './dataset_o\\\\PACC2018_ResultsBook_Men\\\\geme158end2.png',\n",
       "       './dataset_o\\\\ECC2019_ResultsBook_Women_A-Division\\\\geme256end5.png',\n",
       "       './dataset_o\\\\OWG2018_ResultsBook\\\\geme37end7.png',\n",
       "       './dataset_o\\\\OWG2018_ResultsBook\\\\geme849end8.png',\n",
       "       './dataset_o\\\\CWC2018-19_Leg3_ResultsBook\\\\geme377end5.png',\n",
       "       './dataset_o\\\\OWG2022_ResultsBook\\\\geme385end2.png',\n",
       "       './dataset_o\\\\PCCC2023_ResultsBook_Women_A-Division\\\\geme75end5.png',\n",
       "       './dataset_o\\\\OWG2022_ResultsBook\\\\geme743end10.png',\n",
       "       './dataset_o\\\\ECC2021_ResultsBook_Women_A-Division\\\\geme328end2.png',\n",
       "       './dataset_o\\\\WWCC2023_ResultsBook\\\\geme653end7.png',\n",
       "       './dataset_o\\\\ECC2018_ResultsBook_Men_A-Division\\\\geme374end1.png',\n",
       "       './dataset_o\\\\ECC2018_ResultsBook_Men_A-Division\\\\geme343end2.png',\n",
       "       './dataset_o\\\\WMCC2018_ResultsBook\\\\geme34end8.png',\n",
       "       './dataset_o\\\\OQE2021_ResultsBook_Men\\\\geme17end8.png',\n",
       "       './dataset_o\\\\ECC2021_ResultsBook_Women_A-Division\\\\geme114end6.png',\n",
       "       './dataset_o\\\\PCCC2023_ResultsBook_Women_A-Division\\\\geme229end3.png',\n",
       "       './dataset_o\\\\WWCC2023_ResultsBook\\\\geme485end5.png',\n",
       "       './dataset_o\\\\WWCC2018_ResultsBook\\\\geme624end1.png',\n",
       "       './dataset_o\\\\ECC2022_ResultsBook_Women_A-Division\\\\geme233end4.png',\n",
       "       './dataset_o\\\\WWCC2022_ResultsBook\\\\geme235end3.png',\n",
       "       './dataset_o\\\\WMCC2018_ResultsBook\\\\geme523end8.png',\n",
       "       './dataset_o\\\\ECC2019_ResultsBook_Women_A-Division\\\\geme277end5.png',\n",
       "       './dataset_o\\\\ECC2021_ResultsBook_Men_A-Division\\\\geme100end4.png',\n",
       "       './dataset_o\\\\WMCC2023_ResultsBook\\\\geme588end5.png',\n",
       "       './dataset_o\\\\ECC2023_ResultsBook_Women_A-Division\\\\geme231end2.png',\n",
       "       './dataset_o\\\\WMCC2018_ResultsBook\\\\geme7end2.png',\n",
       "       './dataset_o\\\\ECC2023_ResultsBook_Men_A-Division\\\\geme50end7.png',\n",
       "       './dataset_o\\\\ECC2017_ResultsBook_Women_A-Division\\\\geme348end3.png',\n",
       "       './dataset_o\\\\ECC2022_ResultsBook_Men_A-Division\\\\geme330end5.png',\n",
       "       './dataset_o\\\\PACC2019_ResultsBook_Men\\\\geme118end1.png',\n",
       "       './dataset_o\\\\PACC2018_ResultsBook_Men\\\\geme247end6.png',\n",
       "       './dataset_o\\\\ECC2017_ResultsBook_Women_A-Division\\\\geme318end2.png',\n",
       "       './dataset_o\\\\WWCC2022_ResultsBook\\\\geme224end8.png',\n",
       "       './dataset_o\\\\ECC2019_ResultsBook_Men_A-Division\\\\geme445end7.png',\n",
       "       './dataset_o\\\\WWCC2023_ResultsBook\\\\geme455end2.png',\n",
       "       './dataset_o\\\\ECC2019_ResultsBook_Men_A-Division\\\\geme84end7.png',\n",
       "       './dataset_o\\\\WMCC2019_ResultsBook\\\\geme480end9.png',\n",
       "       './dataset_o\\\\OQE2021_ResultsBook_Men\\\\geme92end2.png',\n",
       "       './dataset_o\\\\ECC2023_ResultsBook_Women_A-Division\\\\geme135end6.png',\n",
       "       './dataset_o\\\\OQE2021_ResultsBook_Men\\\\geme42end4.png',\n",
       "       './dataset_o\\\\OWG2018_ResultsBook\\\\geme301end5.png',\n",
       "       './dataset_o\\\\WMCC2019_ResultsBook\\\\geme613end3.png',\n",
       "       './dataset_o\\\\WWCC2019_ResultsBook\\\\geme660end1.png',\n",
       "       './dataset_o\\\\WWCC2018_ResultsBook\\\\geme722end7.png',\n",
       "       './dataset_o\\\\ECC2018_ResultsBook_Women_A-Division\\\\geme228end7.png',\n",
       "       './dataset_o\\\\PACC2018_ResultsBook_Men\\\\geme306end8.png',\n",
       "       './dataset_o\\\\WWCC2023_ResultsBook\\\\geme283end2.png',\n",
       "       './dataset_o\\\\OWG2018_ResultsBook\\\\geme104end3.png',\n",
       "       './dataset_o\\\\ECC2017_ResultsBook_Men_A-Division\\\\geme316end10.png',\n",
       "       './dataset_o\\\\WMCC2018_ResultsBook\\\\geme34end7.png',\n",
       "       './dataset_o\\\\WWCC2019_ResultsBook\\\\geme786end5.png',\n",
       "       './dataset_o\\\\WWCC2018_ResultsBook\\\\geme733end3.png',\n",
       "       './dataset_o\\\\WMCC2023_ResultsBook\\\\geme503end1.png',\n",
       "       './dataset_o\\\\ECC2017_ResultsBook_Women_A-Division\\\\geme306end9.png',\n",
       "       './dataset_o\\\\CWC2018-19_Leg1_ResultsBook\\\\geme349end4.png',\n",
       "       './dataset_o\\\\WMCC2022_ResultsBook\\\\geme588end9.png',\n",
       "       './dataset_o\\\\WWCC2018_ResultsBook\\\\geme240end3.png',\n",
       "       './dataset_o\\\\CWC2018-19_Leg1_ResultsBook\\\\geme287end1.png',\n",
       "       './dataset_o\\\\ECC2022_ResultsBook_Women_A-Division\\\\geme241end8.png',\n",
       "       './dataset_o\\\\WMCC2022_ResultsBook\\\\geme491end4.png',\n",
       "       './dataset_o\\\\ECC2021_ResultsBook_Men_A-Division\\\\geme205end5.png',\n",
       "       './dataset_o\\\\ECC2018_ResultsBook_Men_A-Division\\\\geme37end7.png',\n",
       "       './dataset_o\\\\ECC2022_ResultsBook_Men_A-Division\\\\geme460end11.png',\n",
       "       './dataset_o\\\\ECC2021_ResultsBook_Women_A-Division\\\\geme88end1.png',\n",
       "       './dataset_o\\\\WMCC2022_ResultsBook\\\\geme569end5.png',\n",
       "       './dataset_o\\\\WMCC2019_ResultsBook\\\\geme23end8.png',\n",
       "       './dataset_o\\\\ECC2021_ResultsBook_Men_A-Division\\\\geme259end7.png',\n",
       "       './dataset_o\\\\WWCC2023_ResultsBook\\\\geme191end4.png',\n",
       "       './dataset_o\\\\ECC2023_ResultsBook_Men_A-Division\\\\geme174end3.png',\n",
       "       './dataset_o\\\\WMCC2018_ResultsBook\\\\geme116end2.png',\n",
       "       './dataset_o\\\\WMCC2023_ResultsBook\\\\geme728end5.png',\n",
       "       './dataset_o\\\\ECC2018_ResultsBook_Women_A-Division\\\\geme247end3.png',\n",
       "       './dataset_o\\\\WMCC2018_ResultsBook\\\\geme719end7.png',\n",
       "       './dataset_o\\\\OWG2018_ResultsBook\\\\geme870end5.png',\n",
       "       './dataset_o\\\\ECC2021_ResultsBook_Men_A-Division\\\\geme501end9.png',\n",
       "       './dataset_o\\\\PCCC2023_ResultsBook_Men_A-Division\\\\geme35end5.png',\n",
       "       './dataset_o\\\\WWCC2023_ResultsBook\\\\geme303end5.png',\n",
       "       './dataset_o\\\\WWCC2023_ResultsBook\\\\geme283end9.png',\n",
       "       './dataset_o\\\\WMCC2018_ResultsBook\\\\geme560end5.png',\n",
       "       './dataset_o\\\\ECC2023_ResultsBook_Women_A-Division\\\\geme443end9.png',\n",
       "       './dataset_o\\\\WMCC2023_ResultsBook\\\\geme793end3.png',\n",
       "       './dataset_o\\\\ECC2019_ResultsBook_Women_A-Division\\\\geme130end9.png',\n",
       "       './dataset_o\\\\WWCC2019_ResultsBook\\\\geme51end5.png',\n",
       "       './dataset_o\\\\WMCC2022_ResultsBook\\\\geme120end6.png',\n",
       "       './dataset_o\\\\WWCC2018_ResultsBook\\\\geme240end7.png',\n",
       "       './dataset_o\\\\CWC2018-19_Leg3_ResultsBook\\\\geme257end6.png',\n",
       "       './dataset_o\\\\ECC2018_ResultsBook_Men_A-Division\\\\geme518end7.png',\n",
       "       './dataset_o\\\\OWG2022_ResultsBook\\\\geme1079end2.png',\n",
       "       './dataset_o\\\\WMCC2018_ResultsBook\\\\geme552end1.png',\n",
       "       './dataset_o\\\\WMCC2019_ResultsBook\\\\geme220end7.png',\n",
       "       './dataset_o\\\\WWCC2018_ResultsBook\\\\geme592end5.png',\n",
       "       './dataset_o\\\\PCCC2023_ResultsBook_Women_A-Division\\\\geme240end4.png',\n",
       "       './dataset_o\\\\PCCC2023_ResultsBook_Women_A-Division\\\\geme173end2.png',\n",
       "       './dataset_o\\\\CWC2018-19_Leg1_ResultsBook\\\\geme303end3.png',\n",
       "       './dataset_o\\\\OWG2022_ResultsBook\\\\geme703end10.png',\n",
       "       './dataset_o\\\\ECC2022_ResultsBook_Men_A-Division\\\\geme179end5.png',\n",
       "       './dataset_o\\\\ECC2018_ResultsBook_Women_A-Division\\\\geme388end10.png',\n",
       "       './dataset_o\\\\WWCC2018_ResultsBook\\\\geme559end3.png',\n",
       "       './dataset_o\\\\WWCC2019_ResultsBook\\\\geme476end7.png',\n",
       "       './dataset_o\\\\ECC2019_ResultsBook_Men_A-Division\\\\geme105end5.png',\n",
       "       './dataset_o\\\\ECC2021_ResultsBook_Women_A-Division\\\\geme427end6.png',\n",
       "       './dataset_o\\\\ECC2022_ResultsBook_Men_A-Division\\\\geme411end4.png',\n",
       "       './dataset_o\\\\WMCC2019_ResultsBook\\\\geme810end2.png',\n",
       "       './dataset_o\\\\OWG2022_ResultsBook\\\\geme983end6.png',\n",
       "       './dataset_o\\\\WMCC2019_ResultsBook\\\\geme843end6.png',\n",
       "       './dataset_o\\\\OWG2018_ResultsBook\\\\geme1077end8.png',\n",
       "       './dataset_o\\\\WMCC2023_ResultsBook\\\\geme503end8.png',\n",
       "       './dataset_o\\\\ECC2021_ResultsBook_Men_A-Division\\\\geme443end6.png',\n",
       "       './dataset_o\\\\ECC2018_ResultsBook_Men_A-Division\\\\geme518end9.png',\n",
       "       './dataset_o\\\\CWC2018-19_Leg3_ResultsBook\\\\geme69end4.png',\n",
       "       './dataset_o\\\\WMCC2021_ResultsBook\\\\geme521end3.png',\n",
       "       './dataset_o\\\\CWC2018-19_Leg3_ResultsBook\\\\geme204end4.png',\n",
       "       './dataset_o\\\\WMCC2022_ResultsBook\\\\geme491end6.png',\n",
       "       './dataset_o\\\\WWCC2022_ResultsBook\\\\geme260end1.png',\n",
       "       './dataset_o\\\\OWG2018_ResultsBook\\\\geme390end3.png',\n",
       "       './dataset_o\\\\ECC2023_ResultsBook_Men_A-Division\\\\geme404end3.png',\n",
       "       './dataset_o\\\\PACC2017_ResultsBook_Men\\\\geme91end9.png',\n",
       "       './dataset_o\\\\PACC2019_ResultsBook_Men\\\\geme6end5.png',\n",
       "       './dataset_o\\\\CWC2018-19_Leg1_ResultsBook\\\\geme278end7.png',\n",
       "       './dataset_o\\\\CWC2018-19_Leg2_ResultsBook\\\\geme215end4.png',\n",
       "       './dataset_o\\\\CWC2018-19_Leg3_ResultsBook\\\\geme5end4.png',\n",
       "       './dataset_o\\\\ECC2017_ResultsBook_Men_A-Division\\\\geme197end10.png',\n",
       "       './dataset_o\\\\OWG2022_ResultsBook\\\\geme540end6.png',\n",
       "       './dataset_o\\\\PACC2018_ResultsBook_Women\\\\geme72end7.png',\n",
       "       './dataset_o\\\\WMCC2019_ResultsBook\\\\geme117end3.png',\n",
       "       './dataset_o\\\\WWCC2023_ResultsBook\\\\geme105end3.png',\n",
       "       './dataset_o\\\\WWCC2022_ResultsBook\\\\geme677end9.png',\n",
       "       './dataset_o\\\\WWCC2019_ResultsBook\\\\geme302end8.png',\n",
       "       './dataset_o\\\\WMCC2023_ResultsBook\\\\geme601end2.png',\n",
       "       './dataset_o\\\\WMCC2019_ResultsBook\\\\geme500end2.png',\n",
       "       './dataset_o\\\\ECC2021_ResultsBook_Women_A-Division\\\\geme394end7.png',\n",
       "       './dataset_o\\\\WMCC2019_ResultsBook\\\\geme231end9.png',\n",
       "       './dataset_o\\\\WWCC2023_ResultsBook\\\\geme137end1.png',\n",
       "       './dataset_o\\\\OWG2022_ResultsBook\\\\geme843end8.png',\n",
       "       './dataset_o\\\\ECC2022_ResultsBook_Men_A-Division\\\\geme391end8.png',\n",
       "       './dataset_o\\\\WMCC2021_ResultsBook\\\\geme973end4.png',\n",
       "       './dataset_o\\\\ECC2018_ResultsBook_Men_A-Division\\\\geme363end7.png',\n",
       "       './dataset_o\\\\WMCC2022_ResultsBook\\\\geme231end1.png',\n",
       "       './dataset_o\\\\WWCC2022_ResultsBook\\\\geme430end8.png',\n",
       "       './dataset_o\\\\WMCC2018_ResultsBook\\\\geme333end2.png',\n",
       "       './dataset_o\\\\WWCC2022_ResultsBook\\\\geme497end5.png',\n",
       "       './dataset_o\\\\WWCC2022_ResultsBook\\\\geme235end5.png',\n",
       "       './dataset_o\\\\WMCC2023_ResultsBook\\\\geme198end1.png',\n",
       "       './dataset_o\\\\OWG2022_ResultsBook\\\\geme983end7.png',\n",
       "       './dataset_o\\\\ECC2021_ResultsBook_Women_A-Division\\\\geme394end6.png',\n",
       "       './dataset_o\\\\PACC2019_ResultsBook_Women\\\\geme52end3.png',\n",
       "       './dataset_o\\\\CWC2018-19_Leg3_ResultsBook\\\\geme406end7.png',\n",
       "       './dataset_o\\\\WMCC2021_ResultsBook\\\\geme126end1.png',\n",
       "       './dataset_o\\\\CWC2018-19_Leg1_ResultsBook\\\\geme59end2.png',\n",
       "       './dataset_o\\\\WMCC2022_ResultsBook\\\\geme357end6.png',\n",
       "       './dataset_o\\\\ECC2021_ResultsBook_Men_A-Division\\\\geme169end9.png',\n",
       "       './dataset_o\\\\ECC2018_ResultsBook_Men_A-Division\\\\geme256end8.png',\n",
       "       './dataset_o\\\\WMCC2021_ResultsBook\\\\geme273end1.png',\n",
       "       './dataset_o\\\\ECC2023_ResultsBook_Women_A-Division\\\\geme453end4.png',\n",
       "       './dataset_o\\\\WMCC2021_ResultsBook\\\\geme649end5.png',\n",
       "       './dataset_o\\\\OWG2022_ResultsBook\\\\geme182end1.png',\n",
       "       './dataset_o\\\\WMCC2018_ResultsBook\\\\geme671end7.png',\n",
       "       './dataset_o\\\\OWG2018_ResultsBook\\\\geme804end7.png',\n",
       "       './dataset_o\\\\PACC2018_ResultsBook_Men\\\\geme213end11.png',\n",
       "       './dataset_o\\\\WMCC2018_ResultsBook\\\\geme737end4.png',\n",
       "       './dataset_o\\\\ECC2021_ResultsBook_Men_A-Division\\\\geme325end5.png',\n",
       "       './dataset_o\\\\WWCC2023_ResultsBook\\\\geme829end8.png',\n",
       "       './dataset_o\\\\CWC2018-19_Leg3_ResultsBook\\\\geme50end5.png',\n",
       "       './dataset_o\\\\OWG2022_ResultsBook\\\\geme351end3.png'], dtype=object)"
      ]
     },
     "execution_count": 10,
     "metadata": {},
     "output_type": "execute_result"
    }
   ],
   "source": [
    "df.sample(frac=0.03, random_state=2)['filepath'].values"
   ]
  },
  {
   "cell_type": "code",
   "execution_count": 12,
   "id": "841a9ebf-5c55-4f0e-aef5-f72017c82a5a",
   "metadata": {},
   "outputs": [
    {
     "data": {
      "text/plain": [
       "'mean'"
      ]
     },
     "metadata": {},
     "output_type": "display_data"
    },
    {
     "data": {
      "text/plain": [
       "array([177.93385315, 177.93385315, 177.93385315])"
      ]
     },
     "metadata": {},
     "output_type": "display_data"
    },
    {
     "data": {
      "text/plain": [
       "'std'"
      ]
     },
     "metadata": {},
     "output_type": "display_data"
    },
    {
     "data": {
      "text/plain": [
       "array([75.60956, 75.58063, 76.43926], dtype=float32)"
      ]
     },
     "metadata": {},
     "output_type": "display_data"
    },
    {
     "name": "stdout",
     "output_type": "stream",
     "text": [
      "ほどんど白なのでＲＧＢ全部1に近いはずなのに...この計算は没。\n"
     ]
    }
   ],
   "source": [
    "srcimages = []\n",
    "for path in df.sample(frac=0.01, random_state=2)['filepath'].values:\n",
    "    image = Image.open(path)\n",
    "    image_data = np.array(image)\n",
    "    normalized_image = image_data.astype(np.float32)\n",
    "    srcimages.append(normalized_image)\n",
    "mean = np.mean(srcimages, axis=(0, 1, 2))\n",
    "std = np.std(srcimages, axis=(0, 1, 2))\n",
    "display('mean',mean.astype(float) , 'std',std )\n",
    "print(\"ほどんど白なのでＲＧＢ全部1に近いはずなのに...この計算は没。\")"
   ]
  },
  {
   "cell_type": "code",
   "execution_count": 13,
   "id": "eaf2eab9-5076-460b-8322-17930793332e",
   "metadata": {
    "scrolled": true
   },
   "outputs": [
    {
     "data": {
      "text/plain": [
       "array([247.75   , 246.44637, 248.53317], dtype=float32)"
      ]
     },
     "metadata": {},
     "output_type": "display_data"
    },
    {
     "data": {
      "text/plain": [
       "array([245.11403, 243.26357, 247.99861], dtype=float32)"
      ]
     },
     "metadata": {},
     "output_type": "display_data"
    },
    {
     "data": {
      "text/plain": [
       "array([177.93385, 177.93385, 177.93385], dtype=float32)"
      ]
     },
     "metadata": {},
     "output_type": "display_data"
    }
   ],
   "source": [
    "mean1 = np.mean(srcimages[0:100], axis=(0, 1, 2))\n",
    "mean2 = np.mean(srcimages[100:200], axis=(0, 1, 2))\n",
    "mean3 = np.mean(srcimages[0:200], axis=(0, 1, 2))\n",
    "display(mean1 , mean2 , mean3)"
   ]
  },
  {
   "cell_type": "markdown",
   "id": "c38e6443-59c4-4f75-9368-29bdafc57933",
   "metadata": {},
   "source": [
    "#　計算を改良その１"
   ]
  },
  {
   "cell_type": "code",
   "execution_count": 14,
   "id": "4e2aeb6c-27f6-4de2-88ec-e56abe796377",
   "metadata": {},
   "outputs": [],
   "source": [
    "srcimages = []\n",
    "for path in df.sample(frac=0.01, random_state=2)['filepath'].values:\n",
    "    image = Image.open(path)\n",
    "    image_data = np.array(image)\n",
    "    normalized_image = image_data.astype(np.float32)\n",
    "    srcimages.append(normalized_image)\n",
    "pictar = np.array( srcimages ) "
   ]
  },
  {
   "cell_type": "code",
   "execution_count": 15,
   "id": "3786c406-a6a4-4099-99e4-65c19f031aec",
   "metadata": {
    "scrolled": true
   },
   "outputs": [
    {
     "data": {
      "text/plain": [
       "(149, 540, 300, 3)"
      ]
     },
     "metadata": {},
     "output_type": "display_data"
    },
    {
     "data": {
      "text/plain": [
       "149"
      ]
     },
     "metadata": {},
     "output_type": "display_data"
    },
    {
     "data": {
      "text/plain": [
       "['R:G:B', 41.296883]"
      ]
     },
     "metadata": {},
     "output_type": "display_data"
    },
    {
     "data": {
      "text/plain": [
       "[241.10713, 238.94666, 246.62808]"
      ]
     },
     "metadata": {},
     "output_type": "display_data"
    },
    {
     "data": {
      "text/plain": [
       "[41.296883, 43.975304, 42.506752]"
      ]
     },
     "metadata": {},
     "output_type": "display_data"
    }
   ],
   "source": [
    "display(pictar.shape,len(pictar[:,:,:,0]))\n",
    "\n",
    "display(['R:G:B',pictar[:,:,:,0].std()] )\n",
    "display([ pictar[:,:,:,0].mean() , pictar[:,:,:,1].mean() , pictar[:,:,:,2].mean() ])\n",
    "display([ pictar[:,:,:,0].std() , pictar[:,:,:,1].std() ,pictar[:,:,:,2].std() ])"
   ]
  },
  {
   "cell_type": "markdown",
   "id": "8710e25c-d19c-42f2-8162-8cbaee65e037",
   "metadata": {},
   "source": [
    "#　計算を改良その2"
   ]
  },
  {
   "cell_type": "code",
   "execution_count": 16,
   "id": "9d4df5c1-29ce-44fa-95ea-d722d7e0e819",
   "metadata": {},
   "outputs": [
    {
     "data": {
      "text/plain": [
       "(149, 540, 300, 3)"
      ]
     },
     "metadata": {},
     "output_type": "display_data"
    },
    {
     "data": {
      "text/plain": [
       "149"
      ]
     },
     "metadata": {},
     "output_type": "display_data"
    },
    {
     "data": {
      "text/plain": [
       "['R:G:B', 0.16194811]"
      ]
     },
     "metadata": {},
     "output_type": "display_data"
    },
    {
     "data": {
      "text/plain": [
       "[0.9455182, 0.9370455, 0.967168]"
      ]
     },
     "metadata": {},
     "output_type": "display_data"
    },
    {
     "data": {
      "text/plain": [
       "[0.16194811, 0.17245254, 0.16669254]"
      ]
     },
     "metadata": {},
     "output_type": "display_data"
    }
   ],
   "source": [
    "srcimages = []\n",
    "for path in df.sample(frac=0.01, random_state=2)['filepath'].values:\n",
    "    image = Image.open(path)\n",
    "    image_data = np.array(image)\n",
    "    normalized_image = image_data.astype(np.float32) / 255\n",
    "    srcimages.append(normalized_image)\n",
    "pictar = np.array( srcimages ) \n",
    "display(pictar.shape,len(pictar[:,:,:,0]))\n",
    "\n",
    "display(['R:G:B',pictar[:,:,:,0].std()] )\n",
    "display([ pictar[:,:,:,0].mean() , pictar[:,:,:,1].mean() , pictar[:,:,:,2].mean() ])\n",
    "display([ pictar[:,:,:,0].std() , pictar[:,:,:,1].std() ,pictar[:,:,:,2].std() ])"
   ]
  },
  {
   "cell_type": "markdown",
   "id": "69fc5e09-48d9-4425-99f4-f15c9593f931",
   "metadata": {},
   "source": [
    "その２の値は妥当っぽい。ほぼ白だしなので１に近く、分散も低い  \n",
    "しかし本番では、正方形にするため、余白を作ってさらにセンタークリップを行うので条件は変わる。\n",
    "本番の変換を模索してみる"
   ]
  },
  {
   "cell_type": "code",
   "execution_count": 17,
   "id": "23600714-4e12-4a2f-afff-7739f0dd23bc",
   "metadata": {},
   "outputs": [],
   "source": [
    "from torchvision import transforms\n",
    "import torchvision\n",
    "import torch"
   ]
  },
  {
   "cell_type": "code",
   "execution_count": 18,
   "id": "f1d214fd-cf16-44d7-ba69-0ddd3093d75d",
   "metadata": {},
   "outputs": [],
   "source": [
    "## 余白なしで計算をしてみる\n",
    "target_size = 224\n",
    "transform = transforms.Compose([\n",
    "    #transforms.Pad(( 240 // 2, 0), fill=255, padding_mode='constant'),  # 左右に余白を追加\n",
    "    #transforms.Resize(target_size),\n",
    "    #transforms.CenterCrop(target_size),\n",
    "    transforms.ToTensor()\n",
    "])"
   ]
  },
  {
   "cell_type": "code",
   "execution_count": 19,
   "id": "f9a6bb8a-579a-4d18-862e-40057504e1d5",
   "metadata": {},
   "outputs": [
    {
     "data": {
      "text/plain": [
       "torch.Size([149, 3, 540, 300])"
      ]
     },
     "metadata": {},
     "output_type": "display_data"
    },
    {
     "data": {
      "text/plain": [
       "[0.9455181956291199, 0.9370459318161011, 0.967168390750885]"
      ]
     },
     "metadata": {},
     "output_type": "display_data"
    },
    {
     "data": {
      "text/plain": [
       "[0.16194817423820496, 0.17245274782180786, 0.16669318079948425]"
      ]
     },
     "metadata": {},
     "output_type": "display_data"
    }
   ],
   "source": [
    "srcimages = []\n",
    "for path in df.sample(frac=0.01, random_state=2)['filepath'].values:\n",
    "    image = Image.open(path)\n",
    "    q = transform(image)\n",
    "    q = q.unsqueeze(dim=0)\n",
    "    srcimages.append(q)\n",
    "tensor1 = torch.cat(srcimages)\n",
    "display(tensor1.shape)\n",
    "display(\n",
    "    [tensor1[:,0,:,:].mean().item() ,tensor1[:,1,:,:].mean().item(),tensor1[:,2,:,:].mean().item()],\n",
    "    [tensor1[:,0,:,:].std().item() ,tensor1[:,1,:,:].std().item(),tensor1[:,2,:,:].std().item()] )"
   ]
  },
  {
   "cell_type": "markdown",
   "id": "ec952b80-5d44-48c5-96ee-686ffa50884b",
   "metadata": {},
   "source": [
    "numpyでの計算に一致したので、本番の変換をかけて算出する"
   ]
  },
  {
   "cell_type": "code",
   "execution_count": 20,
   "id": "9145135a-6aeb-435a-968c-ecd0dadda514",
   "metadata": {},
   "outputs": [
    {
     "data": {
      "text/plain": [
       "torch.Size([747, 3, 224, 224])"
      ]
     },
     "metadata": {},
     "output_type": "display_data"
    },
    {
     "data": {
      "text/plain": [
       "[0.5254706740379333, 0.5207158327102661, 0.5373605489730835]"
      ]
     },
     "metadata": {},
     "output_type": "display_data"
    },
    {
     "data": {
      "text/plain": [
       "[0.47727182507514954, 0.4752059578895569, 0.4878864884376526]"
      ]
     },
     "metadata": {},
     "output_type": "display_data"
    }
   ],
   "source": [
    "## 余白あり\n",
    "target_size = 224\n",
    "transform = transforms.Compose([\n",
    "    transforms.Pad(( 240 // 2, 0), fill=0, padding_mode='constant'),  # 左右に余白を追加\n",
    "    transforms.Resize(target_size),\n",
    "    transforms.CenterCrop(target_size),\n",
    "    transforms.ToTensor()\n",
    "])\n",
    "srcimages = []\n",
    "for path in df.sample(frac=0.05, random_state=2)['filepath'].values:\n",
    "    image = Image.open(path)\n",
    "    q = transform(image)\n",
    "    q = q.unsqueeze(dim=0)\n",
    "    srcimages.append(q)\n",
    "tensor1 = torch.cat(srcimages)\n",
    "display(tensor1.shape)\n",
    "display(\n",
    "    [tensor1[:,0,:,:].mean().item() ,tensor1[:,1,:,:].mean().item(),tensor1[:,2,:,:].mean().item()],\n",
    "    [tensor1[:,0,:,:].std().item() ,tensor1[:,1,:,:].std().item(),tensor1[:,2,:,:].std().item()] )"
   ]
  },
  {
   "cell_type": "markdown",
   "id": "f35a18d7-d8e7-4fb1-80fc-f7f5bdce7c7b",
   "metadata": {},
   "source": [
    "適当そうなので、自前の学習の時はこれを使う"
   ]
  },
  {
   "cell_type": "code",
   "execution_count": null,
   "id": "b4d50e0c-3daa-4f19-860b-37208c44c4e1",
   "metadata": {},
   "outputs": [],
   "source": []
  }
 ],
 "metadata": {
  "kernelspec": {
   "display_name": "Python 3 (ipykernel)",
   "language": "python",
   "name": "python3"
  },
  "language_info": {
   "codemirror_mode": {
    "name": "ipython",
    "version": 3
   },
   "file_extension": ".py",
   "mimetype": "text/x-python",
   "name": "python",
   "nbconvert_exporter": "python",
   "pygments_lexer": "ipython3",
   "version": "3.9.18"
  }
 },
 "nbformat": 4,
 "nbformat_minor": 5
}
