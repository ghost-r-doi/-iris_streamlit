{
 "cells": [
  {
   "cell_type": "code",
   "execution_count": 1,
   "id": "f97531f2-fbb7-4039-b654-22fc9aa23955",
   "metadata": {},
   "outputs": [],
   "source": [
    "import pandas as pd"
   ]
  },
  {
   "cell_type": "code",
   "execution_count": 2,
   "id": "ceceaf50-5e37-4b20-8bef-19967f054493",
   "metadata": {},
   "outputs": [],
   "source": [
    "t = r'dataset_cur.csv'"
   ]
  },
  {
   "cell_type": "code",
   "execution_count": 12,
   "id": "5c637eef-9f92-4ab6-95e3-3c803686062a",
   "metadata": {},
   "outputs": [
    {
     "data": {
      "text/html": [
       "<div>\n",
       "<style scoped>\n",
       "    .dataframe tbody tr th:only-of-type {\n",
       "        vertical-align: middle;\n",
       "    }\n",
       "\n",
       "    .dataframe tbody tr th {\n",
       "        vertical-align: top;\n",
       "    }\n",
       "\n",
       "    .dataframe thead th {\n",
       "        text-align: right;\n",
       "    }\n",
       "</style>\n",
       "<table border=\"1\" class=\"dataframe\">\n",
       "  <thead>\n",
       "    <tr style=\"text-align: right;\">\n",
       "      <th></th>\n",
       "      <th>ends</th>\n",
       "      <th>red</th>\n",
       "      <th>yellow</th>\n",
       "      <th>red_diff</th>\n",
       "      <th>remain_ends</th>\n",
       "      <th>last_stone_is_red</th>\n",
       "      <th>page</th>\n",
       "      <th>filepath</th>\n",
       "      <th>INFO</th>\n",
       "      <th>T</th>\n",
       "      <th>red_postion</th>\n",
       "    </tr>\n",
       "  </thead>\n",
       "  <tbody>\n",
       "    <tr>\n",
       "      <th>0</th>\n",
       "      <td>1</td>\n",
       "      <td>0.0</td>\n",
       "      <td>0.0</td>\n",
       "      <td>0.0</td>\n",
       "      <td>8</td>\n",
       "      <td>True</td>\n",
       "      <td>6</td>\n",
       "      <td>./dataset_o\\CWC2018-19_Leg1_ResultsBook\\geme6e...</td>\n",
       "      <td>True</td>\n",
       "      <td>CWC2018-19_Leg1_ResultsBook</td>\n",
       "      <td>0.0</td>\n",
       "    </tr>\n",
       "    <tr>\n",
       "      <th>1</th>\n",
       "      <td>2</td>\n",
       "      <td>2.0</td>\n",
       "      <td>0.0</td>\n",
       "      <td>2.0</td>\n",
       "      <td>7</td>\n",
       "      <td>True</td>\n",
       "      <td>6</td>\n",
       "      <td>./dataset_o\\CWC2018-19_Leg1_ResultsBook\\geme6e...</td>\n",
       "      <td>True</td>\n",
       "      <td>CWC2018-19_Leg1_ResultsBook</td>\n",
       "      <td>0.0</td>\n",
       "    </tr>\n",
       "    <tr>\n",
       "      <th>2</th>\n",
       "      <td>3</td>\n",
       "      <td>1.0</td>\n",
       "      <td>0.0</td>\n",
       "      <td>1.0</td>\n",
       "      <td>6</td>\n",
       "      <td>False</td>\n",
       "      <td>6</td>\n",
       "      <td>./dataset_o\\CWC2018-19_Leg1_ResultsBook\\geme6e...</td>\n",
       "      <td>True</td>\n",
       "      <td>CWC2018-19_Leg1_ResultsBook</td>\n",
       "      <td>2.0</td>\n",
       "    </tr>\n",
       "    <tr>\n",
       "      <th>3</th>\n",
       "      <td>4</td>\n",
       "      <td>0.0</td>\n",
       "      <td>1.0</td>\n",
       "      <td>-1.0</td>\n",
       "      <td>5</td>\n",
       "      <td>False</td>\n",
       "      <td>6</td>\n",
       "      <td>./dataset_o\\CWC2018-19_Leg1_ResultsBook\\geme6e...</td>\n",
       "      <td>True</td>\n",
       "      <td>CWC2018-19_Leg1_ResultsBook</td>\n",
       "      <td>3.0</td>\n",
       "    </tr>\n",
       "    <tr>\n",
       "      <th>4</th>\n",
       "      <td>5</td>\n",
       "      <td>1.0</td>\n",
       "      <td>0.0</td>\n",
       "      <td>1.0</td>\n",
       "      <td>4</td>\n",
       "      <td>True</td>\n",
       "      <td>6</td>\n",
       "      <td>./dataset_o\\CWC2018-19_Leg1_ResultsBook\\geme6e...</td>\n",
       "      <td>True</td>\n",
       "      <td>CWC2018-19_Leg1_ResultsBook</td>\n",
       "      <td>2.0</td>\n",
       "    </tr>\n",
       "  </tbody>\n",
       "</table>\n",
       "</div>"
      ],
      "text/plain": [
       "   ends  red  yellow  red_diff  remain_ends  last_stone_is_red  page  \\\n",
       "0     1  0.0     0.0       0.0            8               True     6   \n",
       "1     2  2.0     0.0       2.0            7               True     6   \n",
       "2     3  1.0     0.0       1.0            6              False     6   \n",
       "3     4  0.0     1.0      -1.0            5              False     6   \n",
       "4     5  1.0     0.0       1.0            4               True     6   \n",
       "\n",
       "                                            filepath  INFO  \\\n",
       "0  ./dataset_o\\CWC2018-19_Leg1_ResultsBook\\geme6e...  True   \n",
       "1  ./dataset_o\\CWC2018-19_Leg1_ResultsBook\\geme6e...  True   \n",
       "2  ./dataset_o\\CWC2018-19_Leg1_ResultsBook\\geme6e...  True   \n",
       "3  ./dataset_o\\CWC2018-19_Leg1_ResultsBook\\geme6e...  True   \n",
       "4  ./dataset_o\\CWC2018-19_Leg1_ResultsBook\\geme6e...  True   \n",
       "\n",
       "                             T  red_postion  \n",
       "0  CWC2018-19_Leg1_ResultsBook          0.0  \n",
       "1  CWC2018-19_Leg1_ResultsBook          0.0  \n",
       "2  CWC2018-19_Leg1_ResultsBook          2.0  \n",
       "3  CWC2018-19_Leg1_ResultsBook          3.0  \n",
       "4  CWC2018-19_Leg1_ResultsBook          2.0  "
      ]
     },
     "execution_count": 12,
     "metadata": {},
     "output_type": "execute_result"
    }
   ],
   "source": [
    "df = pd.read_csv(t,index_col=0)\n",
    "df = df.reset_index(drop=True)\n",
    "df.head()"
   ]
  },
  {
   "cell_type": "code",
   "execution_count": 13,
   "id": "deba00ad-0322-4baa-ac05-5af9f3ff1474",
   "metadata": {},
   "outputs": [
    {
     "data": {
      "text/plain": [
       "red_diff\n",
       " 1.0    4134\n",
       "-1.0    4021\n",
       " 2.0    2350\n",
       "-2.0    2258\n",
       " 0.0    2008\n",
       "-3.0     681\n",
       " 3.0     676\n",
       "-4.0     202\n",
       " 4.0     185\n",
       " 5.0      52\n",
       "-5.0      43\n",
       " 6.0       8\n",
       "-6.0       7\n",
       "-7.0       1\n",
       "Name: count, dtype: int64"
      ]
     },
     "execution_count": 13,
     "metadata": {},
     "output_type": "execute_result"
    }
   ],
   "source": [
    "df['red_diff'].value_counts()"
   ]
  },
  {
   "cell_type": "code",
   "execution_count": 14,
   "id": "945ed6bc-3bb0-401d-bf65-d3f201f8208f",
   "metadata": {},
   "outputs": [
    {
     "data": {
      "text/plain": [
       "<Axes: >"
      ]
     },
     "execution_count": 14,
     "metadata": {},
     "output_type": "execute_result"
    },
    {
     "data": {
      "image/png": "[encoded data removed]",
      "text/plain": [
       "<Figure size 640x480 with 1 Axes>"
      ]
     },
     "metadata": {},
     "output_type": "display_data"
    }
   ],
   "source": [
    "df['red_diff'].hist()"
   ]
  },
  {
   "cell_type": "markdown",
   "id": "eab81c61-a5f7-40b7-93ce-8a403915ca49",
   "metadata": {},
   "source": [
    "## 3点以上をまとめる"
   ]
  },
  {
   "cell_type": "code",
   "execution_count": 19,
   "id": "cff58c30-7541-444a-a039-2eed554997a9",
   "metadata": {},
   "outputs": [
    {
     "data": {
      "text/plain": [
       "<Axes: >"
      ]
     },
     "execution_count": 19,
     "metadata": {},
     "output_type": "execute_result"
    },
    {
     "data": {
      "image/png": "[encoded data removed]",
      "text/plain": [
       "<Figure size 640x480 with 1 Axes>"
      ]
     },
     "metadata": {},
     "output_type": "display_data"
    }
   ],
   "source": [
    "df['pred'] = df['red_diff']\n",
    "df.loc[df['pred'] >= 3,'pred'] = 3\n",
    "df.loc[df['pred'] <= -3,'pred'] = -3\n",
    "df['pred'].hist()"
   ]
  },
  {
   "cell_type": "code",
   "execution_count": 20,
   "id": "f79036d7-635a-4f36-84d5-7b54cb6ea580",
   "metadata": {},
   "outputs": [
    {
     "ename": "AttributeError",
     "evalue": "'Series' object has no attribute 'value_count'",
     "output_type": "error",
     "traceback": [
      "\u001b[1;31m---------------------------------------------------------------------------\u001b[0m",
      "\u001b[1;31mAttributeError\u001b[0m                            Traceback (most recent call last)",
      "\u001b[1;32m~\\AppData\\Local\\Temp\\ipykernel_23016\\3551139244.py\u001b[0m in \u001b[0;36m?\u001b[1;34m()\u001b[0m\n\u001b[1;32m----> 1\u001b[1;33m \u001b[0mdf\u001b[0m\u001b[1;33m.\u001b[0m\u001b[0mpred\u001b[0m\u001b[1;33m.\u001b[0m\u001b[0mvalue_count\u001b[0m\u001b[1;33m(\u001b[0m\u001b[1;33m)\u001b[0m\u001b[1;33m\u001b[0m\u001b[1;33m\u001b[0m\u001b[0m\n\u001b[0m",
      "\u001b[1;32m~\\miniconda3\\envs\\dl_env\\lib\\site-packages\\pandas\\core\\generic.py\u001b[0m in \u001b[0;36m?\u001b[1;34m(self, name)\u001b[0m\n\u001b[0;32m   6200\u001b[0m             \u001b[1;32mand\u001b[0m \u001b[0mname\u001b[0m \u001b[1;32mnot\u001b[0m \u001b[1;32min\u001b[0m \u001b[0mself\u001b[0m\u001b[1;33m.\u001b[0m\u001b[0m_accessors\u001b[0m\u001b[1;33m\u001b[0m\u001b[1;33m\u001b[0m\u001b[0m\n\u001b[0;32m   6201\u001b[0m             \u001b[1;32mand\u001b[0m \u001b[0mself\u001b[0m\u001b[1;33m.\u001b[0m\u001b[0m_info_axis\u001b[0m\u001b[1;33m.\u001b[0m\u001b[0m_can_hold_identifiers_and_holds_name\u001b[0m\u001b[1;33m(\u001b[0m\u001b[0mname\u001b[0m\u001b[1;33m)\u001b[0m\u001b[1;33m\u001b[0m\u001b[1;33m\u001b[0m\u001b[0m\n\u001b[0;32m   6202\u001b[0m         ):\n\u001b[0;32m   6203\u001b[0m             \u001b[1;32mreturn\u001b[0m \u001b[0mself\u001b[0m\u001b[1;33m[\u001b[0m\u001b[0mname\u001b[0m\u001b[1;33m]\u001b[0m\u001b[1;33m\u001b[0m\u001b[1;33m\u001b[0m\u001b[0m\n\u001b[1;32m-> 6204\u001b[1;33m         \u001b[1;32mreturn\u001b[0m \u001b[0mobject\u001b[0m\u001b[1;33m.\u001b[0m\u001b[0m__getattribute__\u001b[0m\u001b[1;33m(\u001b[0m\u001b[0mself\u001b[0m\u001b[1;33m,\u001b[0m \u001b[0mname\u001b[0m\u001b[1;33m)\u001b[0m\u001b[1;33m\u001b[0m\u001b[1;33m\u001b[0m\u001b[0m\n\u001b[0m",
      "\u001b[1;31mAttributeError\u001b[0m: 'Series' object has no attribute 'value_count'"
     ]
    }
   ],
   "source": [
    "df.pred.value_count()"
   ]
  },
  {
   "cell_type": "code",
   "execution_count": 17,
   "id": "d285fb4b-7bc1-4cea-96ea-2ea3662bb726",
   "metadata": {},
   "outputs": [
    {
     "data": {
      "text/plain": [
       "array([ True])"
      ]
     },
     "execution_count": 17,
     "metadata": {},
     "output_type": "execute_result"
    }
   ],
   "source": [
    "df.INFO.unique()"
   ]
  },
  {
   "cell_type": "code",
   "execution_count": 14,
   "id": "7eb15720-1823-44ed-a6f3-56046a76e968",
   "metadata": {},
   "outputs": [],
   "source": [
    "from sklearn.model_selection import train_test_split"
   ]
  },
  {
   "cell_type": "code",
   "execution_count": 15,
   "id": "0bfbdabc-6d81-4284-8313-1be5cd4db66d",
   "metadata": {},
   "outputs": [
    {
     "data": {
      "text/html": [
       "<div>\n",
       "<style scoped>\n",
       "    .dataframe tbody tr th:only-of-type {\n",
       "        vertical-align: middle;\n",
       "    }\n",
       "\n",
       "    .dataframe tbody tr th {\n",
       "        vertical-align: top;\n",
       "    }\n",
       "\n",
       "    .dataframe thead th {\n",
       "        text-align: right;\n",
       "    }\n",
       "</style>\n",
       "<table border=\"1\" class=\"dataframe\">\n",
       "  <thead>\n",
       "    <tr style=\"text-align: right;\">\n",
       "      <th></th>\n",
       "      <th>ends</th>\n",
       "      <th>red</th>\n",
       "      <th>yellow</th>\n",
       "      <th>red_diff</th>\n",
       "      <th>remain_ends</th>\n",
       "      <th>last_stone_is_red</th>\n",
       "      <th>page</th>\n",
       "      <th>filepath</th>\n",
       "      <th>INFO</th>\n",
       "      <th>T</th>\n",
       "      <th>red_posiotn</th>\n",
       "    </tr>\n",
       "  </thead>\n",
       "  <tbody>\n",
       "    <tr>\n",
       "      <th>0</th>\n",
       "      <td>1</td>\n",
       "      <td>0.0</td>\n",
       "      <td>0.0</td>\n",
       "      <td>0.0</td>\n",
       "      <td>8</td>\n",
       "      <td>True</td>\n",
       "      <td>6</td>\n",
       "      <td>./dataset_o\\CWC2018-19_Leg1_ResultsBook\\geme6e...</td>\n",
       "      <td>True</td>\n",
       "      <td>CWC2018-19_Leg1_ResultsBook</td>\n",
       "      <td>0.0</td>\n",
       "    </tr>\n",
       "    <tr>\n",
       "      <th>1</th>\n",
       "      <td>2</td>\n",
       "      <td>2.0</td>\n",
       "      <td>0.0</td>\n",
       "      <td>2.0</td>\n",
       "      <td>7</td>\n",
       "      <td>True</td>\n",
       "      <td>6</td>\n",
       "      <td>./dataset_o\\CWC2018-19_Leg1_ResultsBook\\geme6e...</td>\n",
       "      <td>True</td>\n",
       "      <td>CWC2018-19_Leg1_ResultsBook</td>\n",
       "      <td>0.0</td>\n",
       "    </tr>\n",
       "  </tbody>\n",
       "</table>\n",
       "</div>"
      ],
      "text/plain": [
       "   ends  red  yellow  red_diff  remain_ends  last_stone_is_red  page  \\\n",
       "0     1  0.0     0.0       0.0            8               True     6   \n",
       "1     2  2.0     0.0       2.0            7               True     6   \n",
       "\n",
       "                                            filepath  INFO  \\\n",
       "0  ./dataset_o\\CWC2018-19_Leg1_ResultsBook\\geme6e...  True   \n",
       "1  ./dataset_o\\CWC2018-19_Leg1_ResultsBook\\geme6e...  True   \n",
       "\n",
       "                             T  red_posiotn  \n",
       "0  CWC2018-19_Leg1_ResultsBook          0.0  \n",
       "1  CWC2018-19_Leg1_ResultsBook          0.0  "
      ]
     },
     "execution_count": 15,
     "metadata": {},
     "output_type": "execute_result"
    }
   ],
   "source": [
    "df.head(2)"
   ]
  },
  {
   "cell_type": "code",
   "execution_count": 18,
   "id": "c254bce1-50d0-42ab-9cd9-2b4c908b4f0b",
   "metadata": {},
   "outputs": [],
   "source": [
    "y = df['red_diff']\n",
    "X = df[['remain_ends','last_stone_is_red','red_posiotn','filepath']]"
   ]
  },
  {
   "cell_type": "code",
   "execution_count": 24,
   "id": "54cb8fa6-9a82-4958-824a-47335efc3b6d",
   "metadata": {},
   "outputs": [],
   "source": [
    "# 層別サンプリングでデータを分割\n",
    "X_train, X_test, y_train, y_test = train_test_split(X, y, test_size=0.1, stratify=y)"
   ]
  },
  {
   "cell_type": "code",
   "execution_count": 36,
   "id": "768b4349-d80c-41ee-b430-6a7c7090a6a7",
   "metadata": {},
   "outputs": [],
   "source": [
    "test_df = pd.concat([y_test,X_test] , axis=1)\n",
    "test_df = test_df.rename(columns={0:'red_diff'})\n",
    "test_df.to_csv('dataset_cur_test.csv')"
   ]
  },
  {
   "cell_type": "code",
   "execution_count": 37,
   "id": "ea685638-6594-40cd-b1a4-95d58895400c",
   "metadata": {},
   "outputs": [],
   "source": [
    "test_df = pd.concat([y_train,X_train] , axis=1)\n",
    "test_df = test_df.rename(columns={0:'red_diff'})\n",
    "test_df.to_csv('dataset_cur_train.csv')"
   ]
  },
  {
   "cell_type": "code",
   "execution_count": 7,
   "id": "84cee632-dae0-4449-889e-9e3a257648fb",
   "metadata": {},
   "outputs": [
    {
     "data": {
      "text/html": [
       "<div>\n",
       "<style scoped>\n",
       "    .dataframe tbody tr th:only-of-type {\n",
       "        vertical-align: middle;\n",
       "    }\n",
       "\n",
       "    .dataframe tbody tr th {\n",
       "        vertical-align: top;\n",
       "    }\n",
       "\n",
       "    .dataframe thead th {\n",
       "        text-align: right;\n",
       "    }\n",
       "</style>\n",
       "<table border=\"1\" class=\"dataframe\">\n",
       "  <thead>\n",
       "    <tr style=\"text-align: right;\">\n",
       "      <th></th>\n",
       "      <th>Unnamed: 0</th>\n",
       "      <th>red_diff</th>\n",
       "      <th>remain_ends</th>\n",
       "      <th>last_stone_is_red</th>\n",
       "      <th>red_postion</th>\n",
       "      <th>filepath</th>\n",
       "    </tr>\n",
       "  </thead>\n",
       "  <tbody>\n",
       "    <tr>\n",
       "      <th>0</th>\n",
       "      <td>8</td>\n",
       "      <td>1.0</td>\n",
       "      <td>0</td>\n",
       "      <td>True</td>\n",
       "      <td>3.0</td>\n",
       "      <td>./dataset_o\\ECC2023_ResultsBook_Women_A-Divisi...</td>\n",
       "    </tr>\n",
       "    <tr>\n",
       "      <th>1</th>\n",
       "      <td>0</td>\n",
       "      <td>2.0</td>\n",
       "      <td>8</td>\n",
       "      <td>True</td>\n",
       "      <td>0.0</td>\n",
       "      <td>./dataset_o\\ECC2021_ResultsBook_Men_A-Division...</td>\n",
       "    </tr>\n",
       "    <tr>\n",
       "      <th>2</th>\n",
       "      <td>8</td>\n",
       "      <td>-2.0</td>\n",
       "      <td>0</td>\n",
       "      <td>False</td>\n",
       "      <td>3.0</td>\n",
       "      <td>./dataset_o\\ECC2019_ResultsBook_Women_A-Divisi...</td>\n",
       "    </tr>\n",
       "    <tr>\n",
       "      <th>3</th>\n",
       "      <td>7</td>\n",
       "      <td>1.0</td>\n",
       "      <td>1</td>\n",
       "      <td>True</td>\n",
       "      <td>-1.0</td>\n",
       "      <td>./dataset_o\\OWG2018_ResultsBook\\geme835end8.png</td>\n",
       "    </tr>\n",
       "    <tr>\n",
       "      <th>4</th>\n",
       "      <td>8</td>\n",
       "      <td>-3.0</td>\n",
       "      <td>0</td>\n",
       "      <td>False</td>\n",
       "      <td>1.0</td>\n",
       "      <td>./dataset_o\\WWCC2018_ResultsBook\\geme338end9.png</td>\n",
       "    </tr>\n",
       "    <tr>\n",
       "      <th>...</th>\n",
       "      <td>...</td>\n",
       "      <td>...</td>\n",
       "      <td>...</td>\n",
       "      <td>...</td>\n",
       "      <td>...</td>\n",
       "      <td>...</td>\n",
       "    </tr>\n",
       "    <tr>\n",
       "      <th>14944</th>\n",
       "      <td>2</td>\n",
       "      <td>-4.0</td>\n",
       "      <td>6</td>\n",
       "      <td>False</td>\n",
       "      <td>0.0</td>\n",
       "      <td>./dataset_o\\ECC2022_ResultsBook_Men_A-Division...</td>\n",
       "    </tr>\n",
       "    <tr>\n",
       "      <th>14945</th>\n",
       "      <td>6</td>\n",
       "      <td>0.0</td>\n",
       "      <td>2</td>\n",
       "      <td>True</td>\n",
       "      <td>-1.0</td>\n",
       "      <td>./dataset_o\\PCCC2022_ResultsBook_Men_A-Divisio...</td>\n",
       "    </tr>\n",
       "    <tr>\n",
       "      <th>14946</th>\n",
       "      <td>6</td>\n",
       "      <td>-3.0</td>\n",
       "      <td>2</td>\n",
       "      <td>False</td>\n",
       "      <td>2.0</td>\n",
       "      <td>./dataset_o\\WWCC2019_ResultsBook\\geme797end7.png</td>\n",
       "    </tr>\n",
       "    <tr>\n",
       "      <th>14947</th>\n",
       "      <td>0</td>\n",
       "      <td>1.0</td>\n",
       "      <td>8</td>\n",
       "      <td>True</td>\n",
       "      <td>0.0</td>\n",
       "      <td>./dataset_o\\CWC2018-19_Leg3_ResultsBook\\geme34...</td>\n",
       "    </tr>\n",
       "    <tr>\n",
       "      <th>14948</th>\n",
       "      <td>3</td>\n",
       "      <td>0.0</td>\n",
       "      <td>5</td>\n",
       "      <td>False</td>\n",
       "      <td>1.0</td>\n",
       "      <td>./dataset_o\\WMCC2023_ResultsBook\\geme98end4.png</td>\n",
       "    </tr>\n",
       "  </tbody>\n",
       "</table>\n",
       "<p>14949 rows × 6 columns</p>\n",
       "</div>"
      ],
      "text/plain": [
       "       Unnamed: 0  red_diff  remain_ends  last_stone_is_red  red_postion  \\\n",
       "0               8       1.0            0               True          3.0   \n",
       "1               0       2.0            8               True          0.0   \n",
       "2               8      -2.0            0              False          3.0   \n",
       "3               7       1.0            1               True         -1.0   \n",
       "4               8      -3.0            0              False          1.0   \n",
       "...           ...       ...          ...                ...          ...   \n",
       "14944           2      -4.0            6              False          0.0   \n",
       "14945           6       0.0            2               True         -1.0   \n",
       "14946           6      -3.0            2              False          2.0   \n",
       "14947           0       1.0            8               True          0.0   \n",
       "14948           3       0.0            5              False          1.0   \n",
       "\n",
       "                                                filepath  \n",
       "0      ./dataset_o\\ECC2023_ResultsBook_Women_A-Divisi...  \n",
       "1      ./dataset_o\\ECC2021_ResultsBook_Men_A-Division...  \n",
       "2      ./dataset_o\\ECC2019_ResultsBook_Women_A-Divisi...  \n",
       "3        ./dataset_o\\OWG2018_ResultsBook\\geme835end8.png  \n",
       "4       ./dataset_o\\WWCC2018_ResultsBook\\geme338end9.png  \n",
       "...                                                  ...  \n",
       "14944  ./dataset_o\\ECC2022_ResultsBook_Men_A-Division...  \n",
       "14945  ./dataset_o\\PCCC2022_ResultsBook_Men_A-Divisio...  \n",
       "14946   ./dataset_o\\WWCC2019_ResultsBook\\geme797end7.png  \n",
       "14947  ./dataset_o\\CWC2018-19_Leg3_ResultsBook\\geme34...  \n",
       "14948    ./dataset_o\\WMCC2023_ResultsBook\\geme98end4.png  \n",
       "\n",
       "[14949 rows x 6 columns]"
      ]
     },
     "execution_count": 7,
     "metadata": {},
     "output_type": "execute_result"
    }
   ],
   "source": [
    "pd.read_csv('dataset_cur_train.csv')"
   ]
  },
  {
   "cell_type": "code",
   "execution_count": null,
   "id": "a426b368-1b9c-4a0f-a250-62ba6d18e504",
   "metadata": {},
   "outputs": [],
   "source": []
  }
 ],
 "metadata": {
  "kernelspec": {
   "display_name": "Python 3 (ipykernel)",
   "language": "python",
   "name": "python3"
  },
  "language_info": {
   "codemirror_mode": {
    "name": "ipython",
    "version": 3
   },
   "file_extension": ".py",
   "mimetype": "text/x-python",
   "name": "python",
   "nbconvert_exporter": "python",
   "pygments_lexer": "ipython3",
   "version": "3.9.18"
  }
 },
 "nbformat": 4,
 "nbformat_minor": 5
}
