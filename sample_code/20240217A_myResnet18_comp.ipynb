{
 "cells": [
  {
   "cell_type": "markdown",
   "id": "3c4b3af0-8796-4f91-a3b8-a189ed4b5b47",
   "metadata": {},
   "source": [
    "# 自前のネットワークを組んで学習させてみる"
   ]
  },
  {
   "cell_type": "code",
   "execution_count": 1,
   "id": "7703dc5b-ee9d-4aaa-add2-f96d5029ac18",
   "metadata": {},
   "outputs": [],
   "source": [
    "import pandas as pd\n",
    "import numpy as np\n",
    "import os\n",
    "import random\n",
    "from datetime import datetime\n",
    "import pickle\n",
    "from PIL import Image\n",
    "import matplotlib.pyplot as plt\n",
    "from sklearn.preprocessing import StandardScaler\n",
    "plt.rcParams['font.family'] = 'Meiryo'\n",
    "\n",
    "from torch.utils.data import DataLoader, Dataset\n",
    "import torch\n",
    "from torchvision import transforms\n",
    "import torchvision\n",
    "from torch import optim"
   ]
  },
  {
   "cell_type": "code",
   "execution_count": 2,
   "id": "41647b1b-afa7-4fd6-ae50-20a1694f1918",
   "metadata": {},
   "outputs": [],
   "source": [
    "train_fn = r'./dataset_cur_train.csv'\n",
    "test_fn = r'./dataset_cur_test.csv'"
   ]
  },
  {
   "cell_type": "code",
   "execution_count": 3,
   "id": "55fd0446-9e09-443b-9a85-463eec4bdbd2",
   "metadata": {},
   "outputs": [],
   "source": [
    "new_dir_path_recursive = './myResnet18A/'\n",
    "os.makedirs(new_dir_path_recursive, exist_ok=True)"
   ]
  },
  {
   "cell_type": "code",
   "execution_count": 4,
   "id": "f5294d05-3e0d-461d-83fc-16ebda6d1449",
   "metadata": {},
   "outputs": [
    {
     "data": {
      "text/plain": [
       "redpoint_-3            int64\n",
       "redpoint_-2            int64\n",
       "redpoint_-1            int64\n",
       "redpoint_0             int64\n",
       "redpoint_1             int64\n",
       "redpoint_2             int64\n",
       "redpoint_3             int64\n",
       "pred                   int64\n",
       "ends                   int64\n",
       "red                  float64\n",
       "yellow               float64\n",
       "red_diff             float32\n",
       "remain_ends          float32\n",
       "last_stone_is_red    float32\n",
       "red_postion          float32\n",
       "filepath              object\n",
       "page                   int64\n",
       "T                     object\n",
       "dtype: object"
      ]
     },
     "metadata": {},
     "output_type": "display_data"
    },
    {
     "data": {
      "text/html": [
       "<div>\n",
       "<style scoped>\n",
       "    .dataframe tbody tr th:only-of-type {\n",
       "        vertical-align: middle;\n",
       "    }\n",
       "\n",
       "    .dataframe tbody tr th {\n",
       "        vertical-align: top;\n",
       "    }\n",
       "\n",
       "    .dataframe thead th {\n",
       "        text-align: right;\n",
       "    }\n",
       "</style>\n",
       "<table border=\"1\" class=\"dataframe\">\n",
       "  <thead>\n",
       "    <tr style=\"text-align: right;\">\n",
       "      <th></th>\n",
       "      <th>redpoint_-3</th>\n",
       "      <th>redpoint_-2</th>\n",
       "      <th>redpoint_-1</th>\n",
       "      <th>redpoint_0</th>\n",
       "      <th>redpoint_1</th>\n",
       "      <th>redpoint_2</th>\n",
       "      <th>redpoint_3</th>\n",
       "      <th>pred</th>\n",
       "      <th>ends</th>\n",
       "      <th>red</th>\n",
       "      <th>yellow</th>\n",
       "      <th>red_diff</th>\n",
       "      <th>remain_ends</th>\n",
       "      <th>last_stone_is_red</th>\n",
       "      <th>red_postion</th>\n",
       "      <th>filepath</th>\n",
       "      <th>page</th>\n",
       "      <th>T</th>\n",
       "    </tr>\n",
       "  </thead>\n",
       "  <tbody>\n",
       "    <tr>\n",
       "      <th>0</th>\n",
       "      <td>1</td>\n",
       "      <td>0</td>\n",
       "      <td>0</td>\n",
       "      <td>0</td>\n",
       "      <td>0</td>\n",
       "      <td>0</td>\n",
       "      <td>0</td>\n",
       "      <td>-3</td>\n",
       "      <td>4</td>\n",
       "      <td>0.0</td>\n",
       "      <td>3.0</td>\n",
       "      <td>-3.0</td>\n",
       "      <td>5.0</td>\n",
       "      <td>0.0</td>\n",
       "      <td>-3.0</td>\n",
       "      <td>./dataset_o\\ECC2023_ResultsBook_Women_A-Divisi...</td>\n",
       "      <td>462</td>\n",
       "      <td>ECC2023_ResultsBook_Women_A-Division</td>\n",
       "    </tr>\n",
       "    <tr>\n",
       "      <th>1</th>\n",
       "      <td>0</td>\n",
       "      <td>0</td>\n",
       "      <td>0</td>\n",
       "      <td>0</td>\n",
       "      <td>1</td>\n",
       "      <td>0</td>\n",
       "      <td>0</td>\n",
       "      <td>1</td>\n",
       "      <td>7</td>\n",
       "      <td>1.0</td>\n",
       "      <td>0.0</td>\n",
       "      <td>1.0</td>\n",
       "      <td>2.0</td>\n",
       "      <td>1.0</td>\n",
       "      <td>3.0</td>\n",
       "      <td>./dataset_o\\CWC2018-19_Leg3_ResultsBook\\geme31...</td>\n",
       "      <td>318</td>\n",
       "      <td>CWC2018-19_Leg3_ResultsBook</td>\n",
       "    </tr>\n",
       "    <tr>\n",
       "      <th>2</th>\n",
       "      <td>0</td>\n",
       "      <td>0</td>\n",
       "      <td>0</td>\n",
       "      <td>0</td>\n",
       "      <td>1</td>\n",
       "      <td>0</td>\n",
       "      <td>0</td>\n",
       "      <td>1</td>\n",
       "      <td>4</td>\n",
       "      <td>1.0</td>\n",
       "      <td>0.0</td>\n",
       "      <td>1.0</td>\n",
       "      <td>5.0</td>\n",
       "      <td>1.0</td>\n",
       "      <td>0.0</td>\n",
       "      <td>./dataset_o\\WWCC2022_ResultsBook\\geme600end4.png</td>\n",
       "      <td>600</td>\n",
       "      <td>WWCC2022_ResultsBook</td>\n",
       "    </tr>\n",
       "  </tbody>\n",
       "</table>\n",
       "</div>"
      ],
      "text/plain": [
       "   redpoint_-3  redpoint_-2  redpoint_-1  redpoint_0  redpoint_1  redpoint_2  \\\n",
       "0            1            0            0           0           0           0   \n",
       "1            0            0            0           0           1           0   \n",
       "2            0            0            0           0           1           0   \n",
       "\n",
       "   redpoint_3  pred  ends  red  yellow  red_diff  remain_ends  \\\n",
       "0           0    -3     4  0.0     3.0      -3.0          5.0   \n",
       "1           0     1     7  1.0     0.0       1.0          2.0   \n",
       "2           0     1     4  1.0     0.0       1.0          5.0   \n",
       "\n",
       "   last_stone_is_red  red_postion  \\\n",
       "0                0.0         -3.0   \n",
       "1                1.0          3.0   \n",
       "2                1.0          0.0   \n",
       "\n",
       "                                            filepath  page  \\\n",
       "0  ./dataset_o\\ECC2023_ResultsBook_Women_A-Divisi...   462   \n",
       "1  ./dataset_o\\CWC2018-19_Leg3_ResultsBook\\geme31...   318   \n",
       "2   ./dataset_o\\WWCC2022_ResultsBook\\geme600end4.png   600   \n",
       "\n",
       "                                      T  \n",
       "0  ECC2023_ResultsBook_Women_A-Division  \n",
       "1           CWC2018-19_Leg3_ResultsBook  \n",
       "2                  WWCC2022_ResultsBook  "
      ]
     },
     "metadata": {},
     "output_type": "display_data"
    }
   ],
   "source": [
    "df_train = pd.read_csv(train_fn,index_col=0)\n",
    "df_train['red_diff'] = df_train['red_diff'].astype(np.float32)\n",
    "df_train['remain_ends'] = df_train['remain_ends'].astype(np.float32)\n",
    "df_train['last_stone_is_red'] = df_train['last_stone_is_red'].astype(np.float32)\n",
    "df_train['red_postion'] = df_train['red_postion'].astype(np.float32)\n",
    "display(df_train.dtypes)\n",
    "display(df_train.head(3))"
   ]
  },
  {
   "cell_type": "markdown",
   "id": "2416d239-816d-4246-98c9-68aa35baafb0",
   "metadata": {},
   "source": [
    "## red_diff&red_point が目的、fn,remain_ends,last_stone_is_red,red_postion が説明変数\n",
    "説明変数を標準化する"
   ]
  },
  {
   "cell_type": "code",
   "execution_count": null,
   "id": "08aa9751-11cd-40b2-a6c4-1ae948374df7",
   "metadata": {},
   "outputs": [],
   "source": []
  },
  {
   "cell_type": "code",
   "execution_count": 5,
   "id": "ba7ce319-2e82-424f-94ff-2a6171635c65",
   "metadata": {},
   "outputs": [
    {
     "data": {
      "text/plain": [
       "array([[ 0.3675206 , -1.0015383 , -1.2659631 ],\n",
       "       [-0.78656346,  0.99846405,  1.2369138 ],\n",
       "       [ 0.3675206 ,  0.99846405, -0.0145247 ]], dtype=float32)"
      ]
     },
     "metadata": {},
     "output_type": "display_data"
    },
    {
     "data": {
      "text/plain": [
       "3"
      ]
     },
     "metadata": {},
     "output_type": "display_data"
    },
    {
     "data": {
      "text/plain": [
       "array([4.04464345, 0.50076856, 0.03481922])"
      ]
     },
     "metadata": {},
     "output_type": "display_data"
    },
    {
     "data": {
      "text/plain": [
       "array([6.757213  , 0.24999941, 5.74676597])"
      ]
     },
     "metadata": {},
     "output_type": "display_data"
    },
    {
     "data": {
      "text/html": [
       "<div>\n",
       "<style scoped>\n",
       "    .dataframe tbody tr th:only-of-type {\n",
       "        vertical-align: middle;\n",
       "    }\n",
       "\n",
       "    .dataframe tbody tr th {\n",
       "        vertical-align: top;\n",
       "    }\n",
       "\n",
       "    .dataframe thead th {\n",
       "        text-align: right;\n",
       "    }\n",
       "</style>\n",
       "<table border=\"1\" class=\"dataframe\">\n",
       "  <thead>\n",
       "    <tr style=\"text-align: right;\">\n",
       "      <th></th>\n",
       "      <th>redpoint_-3</th>\n",
       "      <th>redpoint_-2</th>\n",
       "      <th>redpoint_-1</th>\n",
       "      <th>redpoint_0</th>\n",
       "      <th>redpoint_1</th>\n",
       "      <th>redpoint_2</th>\n",
       "      <th>redpoint_3</th>\n",
       "      <th>pred</th>\n",
       "      <th>ends</th>\n",
       "      <th>red</th>\n",
       "      <th>yellow</th>\n",
       "      <th>red_diff</th>\n",
       "      <th>remain_ends</th>\n",
       "      <th>last_stone_is_red</th>\n",
       "      <th>red_postion</th>\n",
       "      <th>filepath</th>\n",
       "      <th>page</th>\n",
       "      <th>T</th>\n",
       "    </tr>\n",
       "  </thead>\n",
       "  <tbody>\n",
       "    <tr>\n",
       "      <th>0</th>\n",
       "      <td>1</td>\n",
       "      <td>0</td>\n",
       "      <td>0</td>\n",
       "      <td>0</td>\n",
       "      <td>0</td>\n",
       "      <td>0</td>\n",
       "      <td>0</td>\n",
       "      <td>-3</td>\n",
       "      <td>4</td>\n",
       "      <td>0.0</td>\n",
       "      <td>3.0</td>\n",
       "      <td>-3.0</td>\n",
       "      <td>0.367521</td>\n",
       "      <td>-1.001538</td>\n",
       "      <td>-1.265963</td>\n",
       "      <td>./dataset_o\\ECC2023_ResultsBook_Women_A-Divisi...</td>\n",
       "      <td>462</td>\n",
       "      <td>ECC2023_ResultsBook_Women_A-Division</td>\n",
       "    </tr>\n",
       "    <tr>\n",
       "      <th>1</th>\n",
       "      <td>0</td>\n",
       "      <td>0</td>\n",
       "      <td>0</td>\n",
       "      <td>0</td>\n",
       "      <td>1</td>\n",
       "      <td>0</td>\n",
       "      <td>0</td>\n",
       "      <td>1</td>\n",
       "      <td>7</td>\n",
       "      <td>1.0</td>\n",
       "      <td>0.0</td>\n",
       "      <td>1.0</td>\n",
       "      <td>-0.786563</td>\n",
       "      <td>0.998464</td>\n",
       "      <td>1.236914</td>\n",
       "      <td>./dataset_o\\CWC2018-19_Leg3_ResultsBook\\geme31...</td>\n",
       "      <td>318</td>\n",
       "      <td>CWC2018-19_Leg3_ResultsBook</td>\n",
       "    </tr>\n",
       "    <tr>\n",
       "      <th>2</th>\n",
       "      <td>0</td>\n",
       "      <td>0</td>\n",
       "      <td>0</td>\n",
       "      <td>0</td>\n",
       "      <td>1</td>\n",
       "      <td>0</td>\n",
       "      <td>0</td>\n",
       "      <td>1</td>\n",
       "      <td>4</td>\n",
       "      <td>1.0</td>\n",
       "      <td>0.0</td>\n",
       "      <td>1.0</td>\n",
       "      <td>0.367521</td>\n",
       "      <td>0.998464</td>\n",
       "      <td>-0.014525</td>\n",
       "      <td>./dataset_o\\WWCC2022_ResultsBook\\geme600end4.png</td>\n",
       "      <td>600</td>\n",
       "      <td>WWCC2022_ResultsBook</td>\n",
       "    </tr>\n",
       "    <tr>\n",
       "      <th>3</th>\n",
       "      <td>0</td>\n",
       "      <td>1</td>\n",
       "      <td>0</td>\n",
       "      <td>0</td>\n",
       "      <td>0</td>\n",
       "      <td>0</td>\n",
       "      <td>0</td>\n",
       "      <td>-2</td>\n",
       "      <td>8</td>\n",
       "      <td>0.0</td>\n",
       "      <td>2.0</td>\n",
       "      <td>-2.0</td>\n",
       "      <td>-1.171258</td>\n",
       "      <td>-1.001538</td>\n",
       "      <td>1.654060</td>\n",
       "      <td>./dataset_o\\ECC2022_ResultsBook_Men_A-Division...</td>\n",
       "      <td>23</td>\n",
       "      <td>ECC2022_ResultsBook_Men_A-Division</td>\n",
       "    </tr>\n",
       "    <tr>\n",
       "      <th>4</th>\n",
       "      <td>0</td>\n",
       "      <td>0</td>\n",
       "      <td>0</td>\n",
       "      <td>0</td>\n",
       "      <td>1</td>\n",
       "      <td>0</td>\n",
       "      <td>0</td>\n",
       "      <td>1</td>\n",
       "      <td>8</td>\n",
       "      <td>1.0</td>\n",
       "      <td>0.0</td>\n",
       "      <td>1.0</td>\n",
       "      <td>-1.171258</td>\n",
       "      <td>0.998464</td>\n",
       "      <td>-0.848817</td>\n",
       "      <td>./dataset_o\\WWCC2018_ResultsBook\\geme722end8.png</td>\n",
       "      <td>722</td>\n",
       "      <td>WWCC2018_ResultsBook</td>\n",
       "    </tr>\n",
       "  </tbody>\n",
       "</table>\n",
       "</div>"
      ],
      "text/plain": [
       "   redpoint_-3  redpoint_-2  redpoint_-1  redpoint_0  redpoint_1  redpoint_2  \\\n",
       "0            1            0            0           0           0           0   \n",
       "1            0            0            0           0           1           0   \n",
       "2            0            0            0           0           1           0   \n",
       "3            0            1            0           0           0           0   \n",
       "4            0            0            0           0           1           0   \n",
       "\n",
       "   redpoint_3  pred  ends  red  yellow  red_diff  remain_ends  \\\n",
       "0           0    -3     4  0.0     3.0      -3.0     0.367521   \n",
       "1           0     1     7  1.0     0.0       1.0    -0.786563   \n",
       "2           0     1     4  1.0     0.0       1.0     0.367521   \n",
       "3           0    -2     8  0.0     2.0      -2.0    -1.171258   \n",
       "4           0     1     8  1.0     0.0       1.0    -1.171258   \n",
       "\n",
       "   last_stone_is_red  red_postion  \\\n",
       "0          -1.001538    -1.265963   \n",
       "1           0.998464     1.236914   \n",
       "2           0.998464    -0.014525   \n",
       "3          -1.001538     1.654060   \n",
       "4           0.998464    -0.848817   \n",
       "\n",
       "                                            filepath  page  \\\n",
       "0  ./dataset_o\\ECC2023_ResultsBook_Women_A-Divisi...   462   \n",
       "1  ./dataset_o\\CWC2018-19_Leg3_ResultsBook\\geme31...   318   \n",
       "2   ./dataset_o\\WWCC2022_ResultsBook\\geme600end4.png   600   \n",
       "3  ./dataset_o\\ECC2022_ResultsBook_Men_A-Division...    23   \n",
       "4   ./dataset_o\\WWCC2018_ResultsBook\\geme722end8.png   722   \n",
       "\n",
       "                                      T  \n",
       "0  ECC2023_ResultsBook_Women_A-Division  \n",
       "1           CWC2018-19_Leg3_ResultsBook  \n",
       "2                  WWCC2022_ResultsBook  \n",
       "3    ECC2022_ResultsBook_Men_A-Division  \n",
       "4                  WWCC2018_ResultsBook  "
      ]
     },
     "execution_count": 5,
     "metadata": {},
     "output_type": "execute_result"
    }
   ],
   "source": [
    "# 標準化\n",
    "stdsc = StandardScaler()\n",
    "##学習時の標準化したパラメータは、評価、本番時におなじ重みで標準化する処理が必要\n",
    "x_train_df  = df_train[['remain_ends','last_stone_is_red','red_postion']].copy()\n",
    "x_train_std = stdsc.fit_transform(x_train_df)\n",
    "display( x_train_std[:3] )\n",
    "display(stdsc.n_features_in_, stdsc.mean_ , stdsc.var_) \n",
    "pickle.dump(stdsc, open(new_dir_path_recursive+\"stdsc_02240209.pkl\", \"wb\"))\n",
    "\n",
    "df_train[['remain_ends','last_stone_is_red','red_postion']] = x_train_std\n",
    "df_train.head(5)"
   ]
  },
  {
   "cell_type": "code",
   "execution_count": null,
   "id": "ac8a26fa-baaf-42e8-9364-5c7b6e3c9a4a",
   "metadata": {},
   "outputs": [],
   "source": []
  },
  {
   "cell_type": "markdown",
   "id": "232f4a74-d1e7-4304-a0f7-933485b4a9ba",
   "metadata": {},
   "source": [
    "### RESNET18\n",
    "https://pytorch.org/vision/main/models/generated/torchvision.models.resnet18.html  \n",
    "crop = 224\n",
    "mean=[0.485, 0.456, 0.406] , std=[0.229, 0.224, 0.225]"
   ]
  },
  {
   "cell_type": "code",
   "execution_count": 6,
   "id": "fc251581-3052-406f-94bf-c781ea7943a6",
   "metadata": {},
   "outputs": [],
   "source": [
    "def torch_fix_seed(seed=42):\n",
    "    # Python random\n",
    "    random.seed(seed)\n",
    "    # Numpy\n",
    "    np.random.seed(seed)\n",
    "    # Pytorch\n",
    "    torch.manual_seed(seed)\n",
    "    torch.cuda.manual_seed(seed)\n",
    "    ##torch.backends.cudnn.deterministic = True\n",
    "    ##torch.use_deterministic_algorithms = True\n",
    "\n",
    "torch_fix_seed()\n"
   ]
  },
  {
   "cell_type": "code",
   "execution_count": 7,
   "id": "3d98501e-1d3d-4b23-bb83-646cf5a3f981",
   "metadata": {},
   "outputs": [
    {
     "data": {
      "text/plain": [
       "[300, 540]"
      ]
     },
     "metadata": {},
     "output_type": "display_data"
    },
    {
     "data": {
      "text/plain": [
       "120.0"
      ]
     },
     "metadata": {},
     "output_type": "display_data"
    }
   ],
   "source": [
    "## 画像変換の定義\n",
    "w,h = Image.open(df_train['filepath'].values[0]).size\n",
    "## 正方形にするための差分\n",
    "pad = (h-w)/2\n",
    "display([w,h],pad)\n",
    "target_size = 224\n",
    "## train用\n",
    "transform_train = transforms.Compose([\n",
    "    transforms.Pad(( 240 // 2, 0), fill=0, padding_mode='constant'),  # 左右に余白を追加\n",
    "    transforms.Resize(target_size),\n",
    "    transforms.CenterCrop(target_size),\n",
    "    transforms.RandomHorizontalFlip(0.33),\n",
    "    transforms.ToTensor(),\n",
    "    transforms.Normalize(mean=[0.485, 0.456, 0.406], std=[0.229, 0.224, 0.225])\n",
    "])\n",
    "# valid/test用\n",
    "transform_test = transforms.Compose([\n",
    "    transforms.Pad(( 240 // 2, 0), fill=0, padding_mode='constant'),  # 左右に余白を追加\n",
    "    transforms.Resize(target_size),\n",
    "    transforms.CenterCrop(target_size),\n",
    "    transforms.RandomHorizontalFlip(0.33),\n",
    "    transforms.ToTensor(),\n",
    "    transforms.Normalize(mean=[0.485, 0.456, 0.406], std=[0.229, 0.224, 0.225])\n",
    "])"
   ]
  },
  {
   "cell_type": "code",
   "execution_count": 8,
   "id": "22f5154d-84a6-42eb-b638-dbab73d94516",
   "metadata": {},
   "outputs": [
    {
     "data": {
      "text/plain": [
       "(-3     841\n",
       " -2    2032\n",
       " -1    3619\n",
       "  0    1807\n",
       "  1    3720\n",
       "  2    2115\n",
       "  3     829\n",
       " dtype: int64,)"
      ]
     },
     "execution_count": 8,
     "metadata": {},
     "output_type": "execute_result"
    }
   ],
   "source": [
    "class_data = pd.get_dummies(df_train['pred'])\n",
    "class_data.sum() , "
   ]
  },
  {
   "cell_type": "code",
   "execution_count": 9,
   "id": "a7879ed0-c0bc-4169-9ded-dc208041cdaa",
   "metadata": {},
   "outputs": [
    {
     "data": {
      "text/plain": [
       "['redpoint_-3',\n",
       " 'redpoint_-2',\n",
       " 'redpoint_-1',\n",
       " 'redpoint_0',\n",
       " 'redpoint_1',\n",
       " 'redpoint_2',\n",
       " 'redpoint_3']"
      ]
     },
     "metadata": {},
     "output_type": "display_data"
    },
    {
     "data": {
      "text/html": [
       "<div>\n",
       "<style scoped>\n",
       "    .dataframe tbody tr th:only-of-type {\n",
       "        vertical-align: middle;\n",
       "    }\n",
       "\n",
       "    .dataframe tbody tr th {\n",
       "        vertical-align: top;\n",
       "    }\n",
       "\n",
       "    .dataframe thead th {\n",
       "        text-align: right;\n",
       "    }\n",
       "</style>\n",
       "<table border=\"1\" class=\"dataframe\">\n",
       "  <thead>\n",
       "    <tr style=\"text-align: right;\">\n",
       "      <th></th>\n",
       "      <th>redpoint_-3</th>\n",
       "      <th>redpoint_-2</th>\n",
       "      <th>redpoint_-1</th>\n",
       "      <th>redpoint_0</th>\n",
       "      <th>redpoint_1</th>\n",
       "      <th>redpoint_2</th>\n",
       "      <th>redpoint_3</th>\n",
       "    </tr>\n",
       "  </thead>\n",
       "  <tbody>\n",
       "    <tr>\n",
       "      <th>0</th>\n",
       "      <td>1</td>\n",
       "      <td>0</td>\n",
       "      <td>0</td>\n",
       "      <td>0</td>\n",
       "      <td>0</td>\n",
       "      <td>0</td>\n",
       "      <td>0</td>\n",
       "    </tr>\n",
       "    <tr>\n",
       "      <th>1</th>\n",
       "      <td>0</td>\n",
       "      <td>0</td>\n",
       "      <td>0</td>\n",
       "      <td>0</td>\n",
       "      <td>1</td>\n",
       "      <td>0</td>\n",
       "      <td>0</td>\n",
       "    </tr>\n",
       "  </tbody>\n",
       "</table>\n",
       "</div>"
      ],
      "text/plain": [
       "   redpoint_-3  redpoint_-2  redpoint_-1  redpoint_0  redpoint_1  redpoint_2  \\\n",
       "0            1            0            0           0           0           0   \n",
       "1            0            0            0           0           1           0   \n",
       "\n",
       "   redpoint_3  \n",
       "0           0  \n",
       "1           0  "
      ]
     },
     "metadata": {},
     "output_type": "display_data"
    }
   ],
   "source": [
    "labels_cols = list(filter( lambda s:s.startswith('redpoint_'),  df_train.columns))\n",
    "display(labels_cols , df_train[labels_cols][:2])"
   ]
  },
  {
   "cell_type": "code",
   "execution_count": 10,
   "id": "ed388034-7646-46b5-aefb-09880fa1571b",
   "metadata": {},
   "outputs": [],
   "source": [
    "extend_cols = ['remain_ends','last_stone_is_red','red_postion']"
   ]
  },
  {
   "cell_type": "markdown",
   "id": "cd9f773c-6504-40e9-a103-bd8b100ab1a2",
   "metadata": {},
   "source": [
    "# 自前のデータセット定義"
   ]
  },
  {
   "cell_type": "code",
   "execution_count": 11,
   "id": "f04521e7-c7bd-4a5d-9a0c-71a00502dff0",
   "metadata": {},
   "outputs": [],
   "source": [
    "class ImgValueDataset(Dataset):\n",
    "    def __init__(self, df, classcol , fncol ,extendcol, transform):\n",
    "        \n",
    "        self.img_pathlist = df[fncol].values\n",
    "        \n",
    "        class_data = df[classcol].values\n",
    "        self.label_list  = class_data.astype(float)\n",
    "        \n",
    "        self.val_list  = df[extendcol].astype(np.float16).values\n",
    "        self.transform = transform\n",
    "\n",
    "    def __len__(self):  \n",
    "        return len( self.img_pathlist )\n",
    "    \n",
    "    def __getitem__(self, index):\n",
    "        # 画像をPILとして読み込む\n",
    "        #print(index,self.img_pathlist[index])\n",
    "        image = Image.open(self.img_pathlist[index])\n",
    "        \n",
    "        label = self.label_list[index]\n",
    "\n",
    "        extend = self.val_list[index]                         \n",
    "        if self.transform is not None:\n",
    "            ##print('use transform')\n",
    "            image = self.transform(image)\n",
    "        ## 次元を足してやってっそこに追加データをぶっこむ\n",
    "        extend_tensor = np.full((224,224),255)\n",
    "        extend_tensor[1][0] = extend[0]\n",
    "        extend_tensor[1][1] = extend[1]\n",
    "        extend_tensor[1][2] = extend[2]\n",
    "        #print(extend_tensor)\n",
    "        extend_tensor = torch.Tensor(extend_tensor)\n",
    "        extend_tensor = extend_tensor.unsqueeze(0)\n",
    "        out = torch.cat([image, extend_tensor], dim=0)\n",
    "                             \n",
    "        return out, label \n",
    "    pass"
   ]
  },
  {
   "cell_type": "code",
   "execution_count": 12,
   "id": "9d21f2ff-a686-4a02-9e5a-8dae8ed9f844",
   "metadata": {},
   "outputs": [
    {
     "data": {
      "text/html": [
       "<div>\n",
       "<style scoped>\n",
       "    .dataframe tbody tr th:only-of-type {\n",
       "        vertical-align: middle;\n",
       "    }\n",
       "\n",
       "    .dataframe tbody tr th {\n",
       "        vertical-align: top;\n",
       "    }\n",
       "\n",
       "    .dataframe thead th {\n",
       "        text-align: right;\n",
       "    }\n",
       "</style>\n",
       "<table border=\"1\" class=\"dataframe\">\n",
       "  <thead>\n",
       "    <tr style=\"text-align: right;\">\n",
       "      <th></th>\n",
       "      <th>redpoint_-3</th>\n",
       "      <th>redpoint_-2</th>\n",
       "      <th>redpoint_-1</th>\n",
       "      <th>redpoint_0</th>\n",
       "      <th>redpoint_1</th>\n",
       "      <th>redpoint_2</th>\n",
       "      <th>redpoint_3</th>\n",
       "      <th>pred</th>\n",
       "      <th>ends</th>\n",
       "      <th>red</th>\n",
       "      <th>yellow</th>\n",
       "      <th>red_diff</th>\n",
       "      <th>remain_ends</th>\n",
       "      <th>last_stone_is_red</th>\n",
       "      <th>red_postion</th>\n",
       "      <th>filepath</th>\n",
       "      <th>page</th>\n",
       "      <th>T</th>\n",
       "    </tr>\n",
       "  </thead>\n",
       "  <tbody>\n",
       "    <tr>\n",
       "      <th>0</th>\n",
       "      <td>1</td>\n",
       "      <td>0</td>\n",
       "      <td>0</td>\n",
       "      <td>0</td>\n",
       "      <td>0</td>\n",
       "      <td>0</td>\n",
       "      <td>0</td>\n",
       "      <td>-3</td>\n",
       "      <td>4</td>\n",
       "      <td>0.0</td>\n",
       "      <td>3.0</td>\n",
       "      <td>-3.0</td>\n",
       "      <td>0.367521</td>\n",
       "      <td>-1.001538</td>\n",
       "      <td>-1.265963</td>\n",
       "      <td>./dataset_o\\ECC2023_ResultsBook_Women_A-Divisi...</td>\n",
       "      <td>462</td>\n",
       "      <td>ECC2023_ResultsBook_Women_A-Division</td>\n",
       "    </tr>\n",
       "    <tr>\n",
       "      <th>1</th>\n",
       "      <td>0</td>\n",
       "      <td>0</td>\n",
       "      <td>0</td>\n",
       "      <td>0</td>\n",
       "      <td>1</td>\n",
       "      <td>0</td>\n",
       "      <td>0</td>\n",
       "      <td>1</td>\n",
       "      <td>7</td>\n",
       "      <td>1.0</td>\n",
       "      <td>0.0</td>\n",
       "      <td>1.0</td>\n",
       "      <td>-0.786563</td>\n",
       "      <td>0.998464</td>\n",
       "      <td>1.236914</td>\n",
       "      <td>./dataset_o\\CWC2018-19_Leg3_ResultsBook\\geme31...</td>\n",
       "      <td>318</td>\n",
       "      <td>CWC2018-19_Leg3_ResultsBook</td>\n",
       "    </tr>\n",
       "  </tbody>\n",
       "</table>\n",
       "</div>"
      ],
      "text/plain": [
       "   redpoint_-3  redpoint_-2  redpoint_-1  redpoint_0  redpoint_1  redpoint_2  \\\n",
       "0            1            0            0           0           0           0   \n",
       "1            0            0            0           0           1           0   \n",
       "\n",
       "   redpoint_3  pred  ends  red  yellow  red_diff  remain_ends  \\\n",
       "0           0    -3     4  0.0     3.0      -3.0     0.367521   \n",
       "1           0     1     7  1.0     0.0       1.0    -0.786563   \n",
       "\n",
       "   last_stone_is_red  red_postion  \\\n",
       "0          -1.001538    -1.265963   \n",
       "1           0.998464     1.236914   \n",
       "\n",
       "                                            filepath  page  \\\n",
       "0  ./dataset_o\\ECC2023_ResultsBook_Women_A-Divisi...   462   \n",
       "1  ./dataset_o\\CWC2018-19_Leg3_ResultsBook\\geme31...   318   \n",
       "\n",
       "                                      T  \n",
       "0  ECC2023_ResultsBook_Women_A-Division  \n",
       "1           CWC2018-19_Leg3_ResultsBook  "
      ]
     },
     "execution_count": 12,
     "metadata": {},
     "output_type": "execute_result"
    }
   ],
   "source": [
    "df_train.head(2)"
   ]
  },
  {
   "cell_type": "code",
   "execution_count": 13,
   "id": "c1a795a1-a4b0-4f93-bb8d-9544cce15f0b",
   "metadata": {},
   "outputs": [
    {
     "data": {
      "text/plain": [
       "(['redpoint_-3',\n",
       "  'redpoint_-2',\n",
       "  'redpoint_-1',\n",
       "  'redpoint_0',\n",
       "  'redpoint_1',\n",
       "  'redpoint_2',\n",
       "  'redpoint_3'],\n",
       " ['remain_ends', 'last_stone_is_red', 'red_postion'])"
      ]
     },
     "execution_count": 13,
     "metadata": {},
     "output_type": "execute_result"
    }
   ],
   "source": [
    "from sklearn.model_selection import train_test_split\n",
    "train_df, test_df = train_test_split(df_train, test_size=0.2, stratify=df_train['pred'])\n",
    "labels_cols,extend_cols"
   ]
  },
  {
   "cell_type": "code",
   "execution_count": 14,
   "id": "17254037-db32-49a6-bd17-e1c2101da310",
   "metadata": {},
   "outputs": [
    {
     "data": {
      "text/plain": [
       "(11970, 2993)"
      ]
     },
     "execution_count": 14,
     "metadata": {},
     "output_type": "execute_result"
    }
   ],
   "source": [
    "train_dataset = ImgValueDataset( train_df ,classcol=labels_cols , fncol='filepath',extendcol = extend_cols , transform=transform_train)\n",
    "test_dataset = ImgValueDataset( test_df ,classcol=labels_cols , fncol='filepath' ,extendcol = extend_cols ,transform=transform_test)\n",
    "len(train_df) , len(test_df)"
   ]
  },
  {
   "cell_type": "code",
   "execution_count": 15,
   "id": "4a9aa0e0-f19c-4983-846a-4fb6955f5645",
   "metadata": {},
   "outputs": [],
   "source": [
    "batch_size = 4\n",
    "train_loader = DataLoader(train_dataset, batch_size=batch_size, shuffle=True, num_workers=0)\n"
   ]
  },
  {
   "cell_type": "code",
   "execution_count": 16,
   "id": "0f12baa4-eaf9-43e9-aed0-30be6dabc706",
   "metadata": {},
   "outputs": [
    {
     "data": {
      "text/plain": [
       "2993"
      ]
     },
     "execution_count": 16,
     "metadata": {},
     "output_type": "execute_result"
    }
   ],
   "source": [
    "train_loader.__len__()"
   ]
  },
  {
   "cell_type": "code",
   "execution_count": 17,
   "id": "b80edabd-3b50-49e8-aec9-88cb63cfa1b6",
   "metadata": {},
   "outputs": [
    {
     "data": {
      "text/plain": [
       "(torch.Size([4, 4, 224, 224]),\n",
       " tensor([[0., 1., 0., 0., 0., 0., 0.],\n",
       "         [0., 0., 0., 1., 0., 0., 0.],\n",
       "         [0., 1., 0., 0., 0., 0., 0.],\n",
       "         [0., 1., 0., 0., 0., 0., 0.]], dtype=torch.float64))"
      ]
     },
     "execution_count": 17,
     "metadata": {},
     "output_type": "execute_result"
    }
   ],
   "source": [
    "inputs, labels  = next(iter(train_loader))\n",
    "inputs.shape , labels "
   ]
  },
  {
   "cell_type": "code",
   "execution_count": 18,
   "id": "409e018e-0b4b-4b1a-9364-347f19600945",
   "metadata": {},
   "outputs": [
    {
     "data": {
      "text/plain": [
       "tensor([  0.,  -1.,   0., 255., 255.])"
      ]
     },
     "execution_count": 18,
     "metadata": {},
     "output_type": "execute_result"
    },
    {
     "data": {
      "image/png": "[encoded data removed]",
      "text/plain": [
       "<Figure size 200x200 with 1 Axes>"
      ]
     },
     "metadata": {},
     "output_type": "display_data"
    }
   ],
   "source": [
    "#分割テスト\n",
    "one_sampe = inputs[2,]\n",
    "p = torchvision.transforms.functional.to_pil_image(one_sampe[0:2])\n",
    "fig,ax=plt.subplots(1,1,figsize=(2,2))\n",
    "plt.imshow(p) \n",
    "one_sampe[3,1,:5]"
   ]
  },
  {
   "cell_type": "markdown",
   "id": "c14f0cda-b0ce-4e75-a54d-7cbc9ac14da9",
   "metadata": {},
   "source": [
    "# ネットを組む  \n",
    "https://qiita.com/poorko/items/c151ff4a827f114fe954"
   ]
  },
  {
   "cell_type": "code",
   "execution_count": 19,
   "id": "5020444e-2c32-49c1-ad66-ef1f25ec37c0",
   "metadata": {},
   "outputs": [],
   "source": [
    "import torch\n",
    "import torch.nn as nn\n",
    "import torch.nn.functional as F\n",
    "import torchvision.models as models\n",
    "import glob"
   ]
  },
  {
   "cell_type": "code",
   "execution_count": 20,
   "id": "e13e5752-aa83-4961-bc43-206295071cb7",
   "metadata": {},
   "outputs": [
    {
     "name": "stdout",
     "output_type": "stream",
     "text": [
      "./myResnet18A\\resnet18-f37072fd.pth\n",
      "<class 'torchvision.models.resnet.ResNet'> tensor([-0.0026,  0.0030,  0.0007, -0.0269,  0.0064,  0.0133, -0.0112,  0.0206,\n",
      "        -0.0036, -0.0123], grad_fn=<SliceBackward0>)\n"
     ]
    },
    {
     "name": "stderr",
     "output_type": "stream",
     "text": [
      "C:\\Users\\ghost\\miniconda3\\envs\\dl_env\\lib\\site-packages\\torchvision\\models\\_utils.py:208: UserWarning: The parameter 'pretrained' is deprecated since 0.13 and may be removed in the future, please use 'weights' instead.\n",
      "  warnings.warn(\n",
      "C:\\Users\\ghost\\miniconda3\\envs\\dl_env\\lib\\site-packages\\torchvision\\models\\_utils.py:223: UserWarning: Arguments other than a weight enum or `None` for 'weights' are deprecated since 0.13 and may be removed in the future. The current behavior is equivalent to passing `weights=None`.\n",
      "  warnings.warn(msg)\n"
     ]
    }
   ],
   "source": [
    "model_ft = models.resnet18(pretrained=False)\n",
    "g = glob.glob(new_dir_path_recursive + 'resnet18*.pth')\n",
    "fn = g[0]\n",
    "print(fn)\n",
    "model_ft.load_state_dict(torch.load(g[0]))\n",
    "print(type(model_ft),model_ft.fc.bias[:10] )"
   ]
  },
  {
   "cell_type": "code",
   "execution_count": 21,
   "id": "e80e3677-aec5-4ee1-89c8-3477082cf25f",
   "metadata": {},
   "outputs": [
    {
     "name": "stdout",
     "output_type": "stream",
     "text": [
      "<class 'torchvision.models.resnet.ResNet'> tensor([-0.0026,  0.0030,  0.0007, -0.0269,  0.0064,  0.0133, -0.0112,  0.0206,\n",
      "        -0.0036, -0.0123], grad_fn=<SliceBackward0>)\n",
      "すべてのネットの重みをロック [ True]\n"
     ]
    }
   ],
   "source": [
    "from torchvision.models.resnet import ResNet,Bottleneck,BasicBlock\n",
    "net = ResNet(block=BasicBlock,layers=[2, 2, 2, 2],num_classes=1000)\n",
    "net.load_state_dict(torch.load(g[0]))\n",
    "print(type(model_ft),model_ft.fc.bias[:10] )\n",
    "\n",
    "for i, param in enumerate(net.parameters()):\n",
    "        param.requires_grad = True #False\n",
    "x = [ param.requires_grad for param in net.parameters()]\n",
    "print('すべてのネットの重みをロック',np.unique(x))"
   ]
  },
  {
   "cell_type": "code",
   "execution_count": 22,
   "id": "c9071b23-251b-41aa-94c9-4af1a7eeda63",
   "metadata": {},
   "outputs": [],
   "source": [
    "##派生がうまくいって重みが入るかチェック\n",
    "class _myResnet18(models.resnet.ResNet):\n",
    "    def __init__(self, block,layers,num_classes):\n",
    "        super().__init__(block,layers,num_classes)\n",
    "        print(_myResnet18)\n",
    "    pass"
   ]
  },
  {
   "cell_type": "code",
   "execution_count": 23,
   "id": "a0683e0d-6e78-4268-aacd-6418819cab23",
   "metadata": {},
   "outputs": [
    {
     "name": "stdout",
     "output_type": "stream",
     "text": [
      "<class '__main__._myResnet18'>\n",
      "<class 'torchvision.models.resnet.ResNet'> tensor([-0.0026,  0.0030,  0.0007, -0.0269,  0.0064,  0.0133, -0.0112,  0.0206,\n",
      "        -0.0036, -0.0123], grad_fn=<SliceBackward0>)\n"
     ]
    }
   ],
   "source": [
    "from torchvision.models.resnet import ResNet,Bottleneck,BasicBlock\n",
    "net = _myResnet18(block=BasicBlock,layers=[2, 2, 2, 2],num_classes=1000)\n",
    "net.load_state_dict(torch.load(g[0]))\n",
    "print(type(model_ft),model_ft.fc.bias[:10] )"
   ]
  },
  {
   "cell_type": "code",
   "execution_count": 24,
   "id": "aa77fd16-ed06-4277-a45b-28af18165bc7",
   "metadata": {},
   "outputs": [],
   "source": [
    "# CNNモデルの定義\n",
    "class myResnet18(models.resnet.ResNet):\n",
    "    def __init__(self, block,layers,num_classes):\n",
    "        super().__init__(block,layers,num_classes)\n",
    "        pass\n",
    "\n",
    "    def forward(self, xpacked:torch.Tensor) -> torch.Tensor:\n",
    "        input = xpacked\n",
    "        #print('input:',input.shape)\n",
    "        x = input[:,:3]\n",
    "        \n",
    "        x = self.conv1(x)\n",
    "        x = self.bn1(x)\n",
    "        x = self.relu(x)\n",
    "        x = self.maxpool(x)\n",
    "\n",
    "        x = self.layer1(x)\n",
    "        x = self.layer2(x)\n",
    "        x = self.layer3(x)\n",
    "        x = self.layer4(x)\n",
    "\n",
    "        x = self.avgpool(x)\n",
    "        x = torch.flatten(x, 1)\n",
    "        ###########################################\n",
    "        params = input[:,3,1,0:3]\n",
    "        output = torch.cat([x,params],1)\n",
    "        \n",
    "        ###########################################\n",
    "        output = self.fc(output)\n",
    "\n",
    "        return output"
   ]
  },
  {
   "cell_type": "code",
   "execution_count": 25,
   "id": "47ebb57a-9899-443e-b0d4-717c55a04878",
   "metadata": {},
   "outputs": [
    {
     "name": "stdout",
     "output_type": "stream",
     "text": [
      "<class 'torchvision.models.resnet.ResNet'> tensor([-0.0026,  0.0030,  0.0007, -0.0269,  0.0064,  0.0133, -0.0112,  0.0206,\n",
      "        -0.0036, -0.0123], grad_fn=<SliceBackward0>)\n",
      "すべてのネットの重みをロック [False]\n",
      "最後の一つを切り替えたので混在するのが正しい: [False  True]\n"
     ]
    }
   ],
   "source": [
    "net = myResnet18(block=BasicBlock,layers=[2, 2, 2, 2],num_classes=1000)\n",
    "net.load_state_dict(torch.load(g[0]))\n",
    "print(type(model_ft),model_ft.fc.bias[:10] )\n",
    "\n",
    "## 重みロック\n",
    "for param in net.parameters():\n",
    "    param.requires_grad = False\n",
    "x = [ param.requires_grad for param in net.parameters()]\n",
    "print('すべてのネットの重みをロック',np.unique(x))\n",
    "## 最終段を11にする\n",
    "num_ftrs = net.fc.in_features\n",
    "\n",
    "num_class = len(labels_cols)\n",
    "\n",
    "net.fc = nn.Linear(num_ftrs+3, num_class)\n",
    "##display(net)\n",
    "x = [ param.requires_grad for param in net.parameters()]\n",
    "print('最後の一つを切り替えたので混在するのが正しい:',np.unique(x)) ## "
   ]
  },
  {
   "cell_type": "code",
   "execution_count": 26,
   "id": "519985fb-750b-4cc4-8fb8-0e5392d8cb64",
   "metadata": {},
   "outputs": [],
   "source": [
    "## 関数化して\n",
    "def createMyNet():\n",
    "    net = myResnet18(block=BasicBlock,layers=[2, 2, 2, 2],num_classes=1000)\n",
    "    net.load_state_dict(torch.load(g[0]))\n",
    "    \n",
    "    ## 重みロック\n",
    "    for param in net.parameters():\n",
    "        param.requires_grad = False\n",
    "    ## 最終段をlabels_colsにする\n",
    "    num_class = len(labels_cols)\n",
    "    num_ftrs = net.fc.in_features\n",
    "    net.fc = nn.Linear(num_ftrs+3, num_class)\n",
    "    print('最終段',net.fc)\n",
    "    return net"
   ]
  },
  {
   "cell_type": "markdown",
   "id": "5b142fe7-2cbb-48de-8145-194d58d8eb3c",
   "metadata": {},
   "source": [
    "https://qiita.com/ku_a_i/items/ba33c9ce3449da23b503"
   ]
  },
  {
   "cell_type": "code",
   "execution_count": 27,
   "id": "7faeb50a-94cd-430b-ab51-b974472b2c35",
   "metadata": {},
   "outputs": [],
   "source": [
    "class EarlyStopping:\n",
    "    \"\"\"earlystoppingクラス\"\"\"\n",
    "\n",
    "    def __init__(self, patience=5, verbose=False, path='checkpoint_model.pth'):\n",
    "        \"\"\"引数：最小値の非更新数カウンタ、表示設定、モデル格納path\"\"\"\n",
    "\n",
    "        self.patience = patience    #設定ストップカウンタ\n",
    "        self.verbose = verbose      #表示の有無\n",
    "        self.counter = 0            #現在のカウンタ値\n",
    "        self.best_score = None      #ベストスコア\n",
    "        self.early_stop = False     #ストップフラグ\n",
    "        self.val_loss_min = np.Inf   #前回のベストスコア記憶用\n",
    "        self.path = path             #ベストモデル格納path\n",
    "\n",
    "    def __call__(self, val_loss, model):\n",
    "        \"\"\"\n",
    "        特殊(call)メソッド\n",
    "        実際に学習ループ内で最小lossを更新したか否かを計算させる部分\n",
    "        \"\"\"\n",
    "        score = -val_loss\n",
    "\n",
    "        if self.best_score is None:  #1Epoch目の処理\n",
    "            self.best_score = score   #1Epoch目はそのままベストスコアとして記録する\n",
    "            self.checkpoint(val_loss, model)  #記録後にモデルを保存してスコア表示する\n",
    "        elif score < self.best_score:  # ベストスコアを更新できなかった場合\n",
    "            self.counter += 1   #ストップカウンタを+1\n",
    "            if self.verbose:  #表示を有効にした場合は経過を表示\n",
    "                print(f'EarlyStopping counter: {self.counter} out of {self.patience}')  #現在のカウンタを表示する \n",
    "            if self.counter >= self.patience:  #設定カウントを上回ったらストップフラグをTrueに変更\n",
    "                self.early_stop = True\n",
    "        else:  #ベストスコアを更新した場合\n",
    "            self.best_score = score  #ベストスコアを上書き\n",
    "            self.checkpoint(val_loss, model)  #モデルを保存してスコア表示\n",
    "            self.counter = 0  #ストップカウンタリセット\n",
    "\n",
    "    def checkpoint(self, val_loss, model):\n",
    "        '''ベストスコア更新時に実行されるチェックポイント関数'''\n",
    "        if self.verbose:  #表示を有効にした場合は、前回のベストスコアからどれだけ更新したか？を表示\n",
    "            print(f'Validation loss decreased ({self.val_loss_min:.6f} --> {val_loss:.6f}).  Saving model ...')\n",
    "        torch.save(model.state_dict(), self.path)  #ベストモデルを指定したpathに保存\n",
    "        self.val_loss_min = val_loss  #その時のlossを記録する"
   ]
  },
  {
   "cell_type": "markdown",
   "id": "55720b18-dcac-420f-a31b-49194d6045fa",
   "metadata": {},
   "source": [
    "## 訓練（ネットワークが通るか確認）  \n",
    "https://atmarkit.itmedia.co.jp/ait/articles/2006/12/news021.html"
   ]
  },
  {
   "cell_type": "code",
   "execution_count": 28,
   "id": "2617a006-93d0-421c-aa50-7a870273142c",
   "metadata": {},
   "outputs": [],
   "source": [
    "def plot_graph(values1, values2, rng, label1, label2):\n",
    "    plt.plot(range(rng), values1, label=label1)\n",
    "    plt.plot(range(rng), values2, label=label2)\n",
    "    plt.legend()\n",
    "    plt.grid()\n",
    "    plt.show()"
   ]
  },
  {
   "cell_type": "code",
   "execution_count": 29,
   "id": "be6637f1-bd47-4c9e-9a0b-5b9478dd7b5c",
   "metadata": {},
   "outputs": [],
   "source": [
    "def train(net, dataloader, criterion, optimizer,device):\n",
    "    net.train()\n",
    "\n",
    "    total_loss = 0.0\n",
    "    total_correct = 0\n",
    "    for inputs, labels in dataloader:\n",
    "        inputs = inputs.to(device)\n",
    "        labels = labels.to(device)\n",
    "        #print('入力:',inputs.shape , labels.shape,labels.dtype)\n",
    "        \n",
    "        optimizer.zero_grad()\n",
    "        outputs = net(inputs)\n",
    "        #print('評価:',outputs.shape , labels.shape,labels.dtype)\n",
    "        loss = criterion(outputs, labels)\n",
    "        loss.backward()\n",
    "        optimizer.step()\n",
    "\n",
    "        total_loss += loss.item()\n",
    "        _, predicted = torch.max(outputs, 1)\n",
    "        _, ons_labels = torch.max(labels, 1)\n",
    "        total_correct += (predicted == ons_labels).sum().item()\n",
    "\n",
    "    avg_loss = total_loss / len(dataloader.dataset)\n",
    "    accuracy = total_correct / len(dataloader.dataset)\n",
    "\n",
    "    return avg_loss, accuracy\n",
    "\n",
    "def validate(net, dataloader, criterion,device):\n",
    "    net.eval()\n",
    "\n",
    "    with torch.no_grad():\n",
    "        total_loss = 0.0\n",
    "        total_correct = 0\n",
    "        for inputs, labels in dataloader:\n",
    "            inputs = inputs.to(device)\n",
    "            labels = labels.to(device)\n",
    "\n",
    "            outputs = net(inputs)\n",
    "            loss = criterion(outputs, labels)\n",
    "\n",
    "            total_loss += loss.item()\n",
    "            _, predicted = torch.max(outputs, 1)\n",
    "            _, ons_labels = torch.max(labels, 1)\n",
    "            total_correct += (predicted == ons_labels).sum().item()\n",
    "\n",
    "    avg_loss = total_loss / len(dataloader.dataset)\n",
    "    avg_accuracy = total_correct / len(dataloader.dataset)\n",
    "\n",
    "    return avg_loss, avg_accuracy "
   ]
  },
  {
   "cell_type": "code",
   "execution_count": 30,
   "id": "38cb4493-aa41-480b-9dfa-b8a8990ef21b",
   "metadata": {},
   "outputs": [],
   "source": [
    "def do_train_and_validate(net, trainset, criterion, optimizer,scheduler, epochs,device):\n",
    "    best_accuracy = 0.0\n",
    "    trainloader, validloader = trainset\n",
    "    curEarlyStopping = EarlyStopping(patience=10, verbose=True,path=new_dir_path_recursive+'checkpoint_model.pth')\n",
    "\n",
    "    history = {}\n",
    "    history['train_loss_values'] = []\n",
    "    history['train_accuracy_values'] = []\n",
    "    history['valid_loss_values'] = []\n",
    "    history['valid_accuracy_values'] = []\n",
    "\n",
    "    for epoch in range(1, epochs + 1):\n",
    "        current_time = datetime.now()\n",
    "        formatted_time = current_time.strftime(\"%Y-%m-%d %H:%M:%S\")\n",
    "        print(f'epoch: {epoch:3} <{formatted_time}>')\n",
    "\n",
    "        t_loss, t_accu = train(net, trainloader, criterion, optimizer,device)\n",
    "        v_loss, v_accu = validate(net, validloader, criterion,device)\n",
    "\n",
    "        print(f'train_loss: {t_loss:.6f}, train_accuracy: {t_accu:3.4%},',\n",
    "              f'valid_loss: {v_loss:.6f}, valid_accuracy: {v_accu:3.4%}')\n",
    "\n",
    "        history['train_loss_values'].append(t_loss)\n",
    "        history['train_accuracy_values'].append(t_accu)\n",
    "        history['valid_loss_values'].append(v_loss)\n",
    "        history['valid_accuracy_values'].append(v_accu)\n",
    "        pd.DataFrame(history).to_csv(new_dir_path_recursive+'mynet_spec.csv')\n",
    "        if best_accuracy < v_accu:\n",
    "            best_accuracy = v_accu\n",
    "            model_scripted = torch.jit.script(net)\n",
    "            model_scripted.save(new_dir_path_recursive+f'model_scripted_{epoch}.smodel.pth')\n",
    "        # 学習率の動的変更\n",
    "        scheduler.step(v_loss)\n",
    "        #★毎エポックearlystoppingの判定をさせる★\n",
    "        curEarlyStopping( v_loss , net) #callメソッド呼び出し\n",
    "        if curEarlyStopping.early_stop: #ストップフラグがTrueの場合、breakでforループを抜ける\n",
    "            print(\"Early Stopping!\")\n",
    "            return history\n",
    "    return history"
   ]
  },
  {
   "cell_type": "code",
   "execution_count": null,
   "id": "21bf239b-71a8-49e0-8aa4-d00309da60c2",
   "metadata": {
    "scrolled": true
   },
   "outputs": [
    {
     "name": "stdout",
     "output_type": "stream",
     "text": [
      "cuda\n",
      "最終段 Linear(in_features=515, out_features=7, bias=True)\n",
      "epoch:   1 <2024-02-17 08:29:16>\n",
      "train_loss: 0.053644, train_accuracy: 31.3367%, valid_loss: 0.051298, valid_accuracy: 35.8837%\n",
      "Validation loss decreased (inf --> 0.051298).  Saving model ...\n",
      "epoch:   2 <2024-02-17 08:32:17>\n",
      "train_loss: 0.050663, train_accuracy: 35.1295%, valid_loss: 0.049608, valid_accuracy: 36.8527%\n",
      "Validation loss decreased (0.051298 --> 0.049608).  Saving model ...\n",
      "epoch:   3 <2024-02-17 08:35:13>\n",
      "train_loss: 0.049436, train_accuracy: 36.5998%, valid_loss: 0.048671, valid_accuracy: 38.2893%\n",
      "Validation loss decreased (0.049608 --> 0.048671).  Saving model ...\n",
      "epoch:   4 <2024-02-17 08:38:09>\n",
      "train_loss: 0.048750, train_accuracy: 37.3099%, valid_loss: 0.047992, valid_accuracy: 38.9910%\n",
      "Validation loss decreased (0.048671 --> 0.047992).  Saving model ...\n",
      "epoch:   5 <2024-02-17 08:41:05>\n",
      "train_loss: 0.047804, train_accuracy: 39.0309%, valid_loss: 0.047625, valid_accuracy: 39.3919%\n",
      "Validation loss decreased (0.047992 --> 0.047625).  Saving model ...\n",
      "epoch:   6 <2024-02-17 08:44:00>\n",
      "train_loss: 0.047640, train_accuracy: 38.8053%, valid_loss: 0.047620, valid_accuracy: 39.0244%\n",
      "Validation loss decreased (0.047625 --> 0.047620).  Saving model ...\n",
      "epoch:   7 <2024-02-17 08:46:56>\n",
      "train_loss: 0.047005, train_accuracy: 40.1003%, valid_loss: 0.046465, valid_accuracy: 40.8620%\n",
      "Validation loss decreased (0.047620 --> 0.046465).  Saving model ...\n",
      "epoch:   8 <2024-02-17 08:49:53>\n",
      "train_loss: 0.046654, train_accuracy: 40.6099%, valid_loss: 0.048802, valid_accuracy: 35.5162%\n",
      "EarlyStopping counter: 1 out of 10\n",
      "epoch:   9 <2024-02-17 08:52:49>\n",
      "train_loss: 0.046698, train_accuracy: 40.4678%, valid_loss: 0.047381, valid_accuracy: 38.6903%\n",
      "EarlyStopping counter: 2 out of 10\n",
      "epoch:  10 <2024-02-17 08:55:45>\n",
      "train_loss: 0.046508, train_accuracy: 40.7435%, valid_loss: 0.046315, valid_accuracy: 40.5947%\n",
      "Validation loss decreased (0.046465 --> 0.046315).  Saving model ...\n",
      "epoch:  11 <2024-02-17 08:58:43>\n",
      "train_loss: 0.046122, train_accuracy: 40.5013%, valid_loss: 0.046319, valid_accuracy: 41.0291%\n",
      "EarlyStopping counter: 1 out of 10\n",
      "epoch:  12 <2024-02-17 09:01:37>\n",
      "train_loss: 0.045962, train_accuracy: 41.1028%, valid_loss: 0.046716, valid_accuracy: 40.5613%\n",
      "EarlyStopping counter: 2 out of 10\n",
      "epoch:  13 <2024-02-17 09:04:34>\n",
      "train_loss: 0.045844, train_accuracy: 41.2030%, valid_loss: 0.046048, valid_accuracy: 40.5279%\n",
      "Validation loss decreased (0.046315 --> 0.046048).  Saving model ...\n",
      "epoch:  14 <2024-02-17 09:07:29>\n",
      "train_loss: 0.045610, train_accuracy: 41.1445%, valid_loss: 0.047189, valid_accuracy: 39.0912%\n",
      "EarlyStopping counter: 1 out of 10\n",
      "epoch:  15 <2024-02-17 09:10:26>\n",
      "train_loss: 0.045492, train_accuracy: 41.7878%, valid_loss: 0.046434, valid_accuracy: 40.3943%\n",
      "EarlyStopping counter: 2 out of 10\n",
      "epoch:  16 <2024-02-17 09:13:26>\n",
      "train_loss: 0.045635, train_accuracy: 42.0969%, valid_loss: 0.047123, valid_accuracy: 39.1914%\n",
      "EarlyStopping counter: 3 out of 10\n",
      "epoch:  17 <2024-02-17 09:16:21>\n",
      "train_loss: 0.045515, train_accuracy: 41.7878%, valid_loss: 0.047117, valid_accuracy: 38.8239%\n",
      "EarlyStopping counter: 4 out of 10\n",
      "epoch:  18 <2024-02-17 09:19:13>\n",
      "train_loss: 0.045157, train_accuracy: 42.1220%, valid_loss: 0.045512, valid_accuracy: 41.7641%\n",
      "Validation loss decreased (0.046048 --> 0.045512).  Saving model ...\n",
      "epoch:  19 <2024-02-17 09:22:08>\n",
      "train_loss: 0.045303, train_accuracy: 41.9048%, valid_loss: 0.045976, valid_accuracy: 41.4300%\n",
      "EarlyStopping counter: 1 out of 10\n",
      "epoch:  20 <2024-02-17 09:24:59>\n",
      "train_loss: 0.045151, train_accuracy: 42.0468%, valid_loss: 0.046335, valid_accuracy: 41.2629%\n",
      "EarlyStopping counter: 2 out of 10\n",
      "epoch:  21 <2024-02-17 09:27:51>\n",
      "train_loss: 0.045071, train_accuracy: 42.2389%, valid_loss: 0.045986, valid_accuracy: 41.9980%\n",
      "EarlyStopping counter: 3 out of 10\n",
      "epoch:  22 <2024-02-17 09:30:47>\n",
      "train_loss: 0.044940, train_accuracy: 42.3392%, valid_loss: 0.046377, valid_accuracy: 40.9288%\n",
      "EarlyStopping counter: 4 out of 10\n",
      "epoch:  23 <2024-02-17 09:33:44>\n",
      "train_loss: 0.044894, train_accuracy: 42.7987%, valid_loss: 0.047812, valid_accuracy: 36.6522%\n",
      "EarlyStopping counter: 5 out of 10\n",
      "epoch:  24 <2024-02-17 09:36:38>\n",
      "train_loss: 0.045001, train_accuracy: 42.1136%, valid_loss: 0.046688, valid_accuracy: 40.5279%\n",
      "Epoch 00024: reducing learning rate of group 0 to 1.0000e-04.\n",
      "EarlyStopping counter: 6 out of 10\n",
      "epoch:  25 <2024-02-17 09:39:31>\n",
      "train_loss: 0.043611, train_accuracy: 44.6617%, valid_loss: 0.045614, valid_accuracy: 41.7975%\n",
      "EarlyStopping counter: 7 out of 10\n",
      "epoch:  26 <2024-02-17 09:42:26>\n",
      "train_loss: 0.043449, train_accuracy: 44.2690%, valid_loss: 0.045403, valid_accuracy: 41.7641%\n",
      "Validation loss decreased (0.045512 --> 0.045403).  Saving model ...\n",
      "epoch:  27 <2024-02-17 09:45:20>\n",
      "train_loss: 0.043601, train_accuracy: 44.1771%, valid_loss: 0.045248, valid_accuracy: 41.5302%\n",
      "Validation loss decreased (0.045403 --> 0.045248).  Saving model ...\n",
      "epoch:  28 <2024-02-17 09:48:42>\n",
      "train_loss: 0.043561, train_accuracy: 44.2356%, valid_loss: 0.045232, valid_accuracy: 42.7999%\n",
      "Validation loss decreased (0.045248 --> 0.045232).  Saving model ...\n",
      "epoch:  29 <2024-02-17 09:52:13>\n",
      "train_loss: 0.043538, train_accuracy: 44.3609%, valid_loss: 0.045283, valid_accuracy: 41.4968%\n",
      "EarlyStopping counter: 1 out of 10\n",
      "epoch:  30 <2024-02-17 09:55:04>\n",
      "train_loss: 0.043511, train_accuracy: 44.4862%, valid_loss: 0.045223, valid_accuracy: 41.4300%\n",
      "Validation loss decreased (0.045232 --> 0.045223).  Saving model ...\n",
      "epoch:  31 <2024-02-17 09:57:54>\n",
      "train_loss: 0.043482, train_accuracy: 44.2523%, valid_loss: 0.045056, valid_accuracy: 42.5326%\n",
      "Validation loss decreased (0.045223 --> 0.045056).  Saving model ...\n",
      "epoch:  32 <2024-02-17 10:01:31>\n",
      "train_loss: 0.043530, train_accuracy: 44.7452%, valid_loss: 0.045358, valid_accuracy: 41.7307%\n",
      "EarlyStopping counter: 1 out of 10\n",
      "epoch:  33 <2024-02-17 10:04:24>\n",
      "train_loss: 0.043482, train_accuracy: 44.2941%, valid_loss: 0.045281, valid_accuracy: 41.3298%\n",
      "EarlyStopping counter: 2 out of 10\n",
      "epoch:  34 <2024-02-17 10:07:18>\n",
      "train_loss: 0.043375, train_accuracy: 44.5698%, valid_loss: 0.045145, valid_accuracy: 41.8644%\n",
      "EarlyStopping counter: 3 out of 10\n",
      "epoch:  35 <2024-02-17 10:10:46>\n",
      "train_loss: 0.043393, train_accuracy: 44.7536%, valid_loss: 0.045324, valid_accuracy: 41.2629%\n",
      "EarlyStopping counter: 4 out of 10\n",
      "epoch:  36 <2024-02-17 10:13:37>\n",
      "train_loss: 0.043518, train_accuracy: 44.3860%, valid_loss: 0.045220, valid_accuracy: 42.0314%\n",
      "EarlyStopping counter: 5 out of 10\n",
      "epoch:  37 <2024-02-17 10:16:25>\n",
      "train_loss: 0.043543, train_accuracy: 44.3191%, valid_loss: 0.045209, valid_accuracy: 42.4658%\n",
      "Epoch 00037: reducing learning rate of group 0 to 1.0000e-05.\n",
      "EarlyStopping counter: 6 out of 10\n",
      "epoch:  38 <2024-02-17 10:19:14>\n",
      "train_loss: 0.043223, train_accuracy: 44.6282%, valid_loss: 0.045191, valid_accuracy: 42.0982%\n",
      "EarlyStopping counter: 7 out of 10\n",
      "epoch:  39 <2024-02-17 10:22:11>\n",
      "train_loss: 0.043361, train_accuracy: 44.7870%, valid_loss: 0.045053, valid_accuracy: 42.0648%\n",
      "Validation loss decreased (0.045056 --> 0.045053).  Saving model ...\n",
      "epoch:  40 <2024-02-17 10:25:11>\n",
      "train_loss: 0.043250, train_accuracy: 45.1128%, valid_loss: 0.045111, valid_accuracy: 42.1316%\n",
      "EarlyStopping counter: 1 out of 10\n",
      "epoch:  41 <2024-02-17 10:28:02>\n",
      "train_loss: 0.043286, train_accuracy: 44.6032%, valid_loss: 0.045057, valid_accuracy: 41.6973%\n",
      "EarlyStopping counter: 2 out of 10\n",
      "epoch:  42 <2024-02-17 10:30:55>\n"
     ]
    }
   ],
   "source": [
    "## 学習開始\n",
    "\n",
    "train_dataset = ImgValueDataset( train_df ,classcol=labels_cols , fncol='filepath',extendcol = extend_cols , transform=transform_train)\n",
    "test_dataset = ImgValueDataset( test_df ,classcol=labels_cols , fncol='filepath' ,extendcol = extend_cols ,transform=transform_test)\n",
    "\n",
    "batch_size = 32\n",
    "train_loader = DataLoader(train_dataset, batch_size=batch_size, shuffle=True, num_workers=0,drop_last = True)\n",
    "test_loader = DataLoader(test_dataset, batch_size=batch_size, shuffle=False, num_workers=0)\n",
    "\n",
    "device = torch.device(\"cuda\" if torch.cuda.is_available() else \"cpu\")\n",
    "print(device)\n",
    "\n",
    "net = createMyNet().to(device)\n",
    "criterion = torch.nn.CrossEntropyLoss()\n",
    "optimizer = optim.Adam(net.parameters(), lr=0.001)\n",
    "## 5エポック改善がみなれないと\n",
    "scheduler = optim.lr_scheduler.ReduceLROnPlateau(optimizer, patience=5, verbose=True)\n",
    "\n",
    "EPOCHS = 300\n",
    "trainset = [train_loader,test_loader]\n",
    "\n",
    "history = do_train_and_validate(net, trainset, criterion, optimizer, scheduler,EPOCHS,device)\n"
   ]
  },
  {
   "cell_type": "code",
   "execution_count": null,
   "id": "4c2ebd9a-bbfe-44f7-a437-5119d9ed677a",
   "metadata": {},
   "outputs": [],
   "source": []
  }
 ],
 "metadata": {
  "kernelspec": {
   "display_name": "Python 3 (ipykernel)",
   "language": "python",
   "name": "python3"
  },
  "language_info": {
   "codemirror_mode": {
    "name": "ipython",
    "version": 3
   },
   "file_extension": ".py",
   "mimetype": "text/x-python",
   "name": "python",
   "nbconvert_exporter": "python",
   "pygments_lexer": "ipython3",
   "version": "3.9.18"
  }
 },
 "nbformat": 4,
 "nbformat_minor": 5
}
