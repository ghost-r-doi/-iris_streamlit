{
 "cells": [
  {
   "cell_type": "code",
   "execution_count": 1,
   "id": "641f63f7-673e-4437-b385-1a5567d35b27",
   "metadata": {},
   "outputs": [],
   "source": [
    "import cv2\n",
    "import numpy as np\n",
    "import pandas as pd\n",
    "import glob\n",
    "import matplotlib.pyplot as plt\n",
    "import glob\n",
    "import os\n",
    "plt.rcParams['font.family'] = 'Meiryo'"
   ]
  },
  {
   "cell_type": "code",
   "execution_count": 2,
   "id": "b74ddd96-78fe-45ea-8be2-95272e89f302",
   "metadata": {},
   "outputs": [
    {
     "data": {
      "text/plain": [
       "True"
      ]
     },
     "execution_count": 2,
     "metadata": {},
     "output_type": "execute_result"
    }
   ],
   "source": [
    "target = r'./Dataset/'\n",
    "os.path.exists(target)"
   ]
  },
  {
   "cell_type": "code",
   "execution_count": 3,
   "id": "693f77f0-24e9-431a-b929-9beadc6d8c45",
   "metadata": {},
   "outputs": [],
   "source": [
    "g = glob.glob(target + '*.csv')"
   ]
  },
  {
   "cell_type": "code",
   "execution_count": 5,
   "id": "a4689579-4557-41b4-ab68-7da526ef74ce",
   "metadata": {},
   "outputs": [
    {
     "data": {
      "text/plain": [
       "'./Dataset\\\\CWC2018-19_Leg1_ResultsBook.csv'"
      ]
     },
     "execution_count": 5,
     "metadata": {},
     "output_type": "execute_result"
    }
   ],
   "source": [
    "fn = g[0]\n",
    "fn"
   ]
  },
  {
   "cell_type": "code",
   "execution_count": 43,
   "id": "9d8cee6d-d153-4ce5-90c3-ac267d69e072",
   "metadata": {},
   "outputs": [],
   "source": [
    "def IsHouseFlip(i_image):\n",
    "    gray = cv2.cvtColor(i_image, cv2.COLOR_BGR2GRAY)\n",
    "    #circles = cv2.HoughCircles(gray, cv2.HOUGH_GRADIENT, dp=1, minDist=10, param1=100, param2=60, minRadius=0, maxRadius=0)\n",
    "    circles = cv2.HoughCircles(gray, cv2.HOUGH_GRADIENT, dp=1, minDist=100, param1=100, param2=60, minRadius=60, maxRadius=0)\n",
    "    ##[ [ [円の中心点のx座標, 円の中心点のy座標, 円の半径], [円の中心点のx座標, 円の中心点のy座標, 円の半径], … ] ]\n",
    "    isFlip = i_image.shape[0]//2 < circles[0][0][1]\n",
    "    ##print(img.shape[0]//2 , circles[0][0][1])\n",
    "    return  pd.Series([  (len(circles[0])) == 1  , circles[0][0][2]//1 ,isFlip])\n",
    "    ##return  (len(circles[0])) == 1  , circles[0][0][2]//1 ,isFlip"
   ]
  },
  {
   "cell_type": "code",
   "execution_count": 46,
   "id": "55203e31-059a-4986-80f7-8e99f2027687",
   "metadata": {},
   "outputs": [],
   "source": [
    "df = pd.read_csv(fn,index_col=0)\n",
    "df = df.loc[ df['INFO'] == 'OK']\n",
    "dir = os.path.basename(fn).split('.')[0]\n",
    "df['tournament'] = dir\n",
    "df['fullpath'] = df['filepath'].map(lambda fn : os.path.join(target,dir,fn ) )\n",
    "\n",
    "def imageCheck(fn):\n",
    "    img = cv2.imread(fn)\n",
    "    ##print(img.shape)\n",
    "    return IsHouseFlip(img)\n",
    "\n",
    "df[['OneCiecle','r','IsFlip']] = df.apply(lambda r : imageCheck(r.fullpath) ,axis=1)"
   ]
  },
  {
   "cell_type": "code",
   "execution_count": 48,
   "id": "6846b1d3-750d-419b-a1d3-6c5ee5324663",
   "metadata": {},
   "outputs": [
    {
     "data": {
      "text/plain": [
       "['./Dataset\\\\CWC2018-19_Leg1_ResultsBook.csv',\n",
       " './Dataset\\\\CWC2018-19_Leg2_ResultsBook.csv',\n",
       " './Dataset\\\\CWC2018-19_Leg3_ResultsBook.csv',\n",
       " './Dataset\\\\ECC2017_ResultsBook_Men_A-Division.csv',\n",
       " './Dataset\\\\ECC2017_ResultsBook_Women_A-Division.csv',\n",
       " './Dataset\\\\ECC2018_ResultsBook_Men_A-Division.csv',\n",
       " './Dataset\\\\ECC2018_ResultsBook_Women_A-Division.csv',\n",
       " './Dataset\\\\ECC2019_ResultsBook_Men_A-Division.csv',\n",
       " './Dataset\\\\ECC2019_ResultsBook_Women_A-Division.csv',\n",
       " './Dataset\\\\ECC2021_ResultsBook_Men_A-Division.csv',\n",
       " './Dataset\\\\ECC2021_ResultsBook_Women_A-Division.csv',\n",
       " './Dataset\\\\ECC2022_ResultsBook_Men_A-Division.csv',\n",
       " './Dataset\\\\ECC2022_ResultsBook_Women_A-Division.csv',\n",
       " './Dataset\\\\ECC2023_ResultsBook_Men_A-Division.csv',\n",
       " './Dataset\\\\ECC2023_ResultsBook_Women_A-Division.csv',\n",
       " './Dataset\\\\OQE2021_ResultsBook_Men.csv',\n",
       " './Dataset\\\\OWG2018_ResultsBook.csv',\n",
       " './Dataset\\\\OWG2022_ResultsBook.csv',\n",
       " './Dataset\\\\PACC2017_ResultsBook_Men.csv',\n",
       " './Dataset\\\\PACC2017_ResultsBook_Women.csv',\n",
       " './Dataset\\\\PACC2018_ResultsBook_Men.csv',\n",
       " './Dataset\\\\PACC2018_ResultsBook_Women.csv',\n",
       " './Dataset\\\\PACC2019_ResultsBook_Men.csv',\n",
       " './Dataset\\\\PACC2019_ResultsBook_Women.csv',\n",
       " './Dataset\\\\PACC2021_ResultsBook_Men.csv',\n",
       " './Dataset\\\\PCCC2022_ResultsBook_Men_A-Division.csv',\n",
       " './Dataset\\\\PCCC2022_ResultsBook_Women_A-Division.csv',\n",
       " './Dataset\\\\PCCC2023_ResultsBook_Men_A-Division.csv',\n",
       " './Dataset\\\\PCCC2023_ResultsBook_Women_A-Division.csv',\n",
       " './Dataset\\\\WMCC2018_ResultsBook.csv',\n",
       " './Dataset\\\\WMCC2019_ResultsBook.csv',\n",
       " './Dataset\\\\WMCC2021_ResultsBook.csv',\n",
       " './Dataset\\\\WMCC2022_ResultsBook.csv',\n",
       " './Dataset\\\\WMCC2023_ResultsBook.csv',\n",
       " './Dataset\\\\WWCC2018_ResultsBook.csv',\n",
       " './Dataset\\\\WWCC2019_ResultsBook.csv',\n",
       " './Dataset\\\\WWCC2022_ResultsBook.csv',\n",
       " './Dataset\\\\WWCC2023_ResultsBook.csv']"
      ]
     },
     "execution_count": 48,
     "metadata": {},
     "output_type": "execute_result"
    }
   ],
   "source": [
    "g"
   ]
  },
  {
   "cell_type": "code",
   "execution_count": null,
   "id": "6b121519-b4c8-4322-94e0-d3a74cb8ab36",
   "metadata": {},
   "outputs": [],
   "source": []
  }
 ],
 "metadata": {
  "kernelspec": {
   "display_name": "Python 3 (ipykernel)",
   "language": "python",
   "name": "python3"
  },
  "language_info": {
   "codemirror_mode": {
    "name": "ipython",
    "version": 3
   },
   "file_extension": ".py",
   "mimetype": "text/x-python",
   "name": "python",
   "nbconvert_exporter": "python",
   "pygments_lexer": "ipython3",
   "version": "3.9.18"
  }
 },
 "nbformat": 4,
 "nbformat_minor": 5
}
