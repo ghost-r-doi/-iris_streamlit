{
 "cells": [
  {
   "cell_type": "code",
   "execution_count": 86,
   "id": "28927e15-7cc0-4b4b-9aa6-987af38287a6",
   "metadata": {},
   "outputs": [],
   "source": [
    "import pandas as pd\n",
    "import numpy as np\n",
    "\n",
    "from sklearn.model_selection import train_test_split\n",
    "import matplotlib.pyplot as plt\n",
    "plt.rcParams['font.family'] = 'Meiryo'"
   ]
  },
  {
   "cell_type": "code",
   "execution_count": 17,
   "id": "7546ceac-c816-4592-8f56-6b5569a0f976",
   "metadata": {},
   "outputs": [
    {
     "data": {
      "text/html": [
       "<div>\n",
       "<style scoped>\n",
       "    .dataframe tbody tr th:only-of-type {\n",
       "        vertical-align: middle;\n",
       "    }\n",
       "\n",
       "    .dataframe tbody tr th {\n",
       "        vertical-align: top;\n",
       "    }\n",
       "\n",
       "    .dataframe thead th {\n",
       "        text-align: right;\n",
       "    }\n",
       "</style>\n",
       "<table border=\"1\" class=\"dataframe\">\n",
       "  <thead>\n",
       "    <tr style=\"text-align: right;\">\n",
       "      <th></th>\n",
       "      <th>red_diff</th>\n",
       "      <th>remain_ends</th>\n",
       "      <th>last_stone_is_red</th>\n",
       "      <th>red_posiotn</th>\n",
       "      <th>filepath</th>\n",
       "    </tr>\n",
       "  </thead>\n",
       "  <tbody>\n",
       "    <tr>\n",
       "      <th>8</th>\n",
       "      <td>1.0</td>\n",
       "      <td>0</td>\n",
       "      <td>True</td>\n",
       "      <td>3.0</td>\n",
       "      <td>./dataset_o\\ECC2023_ResultsBook_Women_A-Divisi...</td>\n",
       "    </tr>\n",
       "    <tr>\n",
       "      <th>0</th>\n",
       "      <td>2.0</td>\n",
       "      <td>8</td>\n",
       "      <td>True</td>\n",
       "      <td>0.0</td>\n",
       "      <td>./dataset_o\\ECC2021_ResultsBook_Men_A-Division...</td>\n",
       "    </tr>\n",
       "  </tbody>\n",
       "</table>\n",
       "</div>"
      ],
      "text/plain": [
       "   red_diff  remain_ends  last_stone_is_red  red_posiotn  \\\n",
       "8       1.0            0               True          3.0   \n",
       "0       2.0            8               True          0.0   \n",
       "\n",
       "                                            filepath  \n",
       "8  ./dataset_o\\ECC2023_ResultsBook_Women_A-Divisi...  \n",
       "0  ./dataset_o\\ECC2021_ResultsBook_Men_A-Division...  "
      ]
     },
     "metadata": {},
     "output_type": "display_data"
    },
    {
     "data": {
      "text/plain": [
       "((11959, 5), (2990, 5))"
      ]
     },
     "execution_count": 17,
     "metadata": {},
     "output_type": "execute_result"
    }
   ],
   "source": [
    "# CSVファイルを読み込み\n",
    "df = pd.read_csv('./dataset_cur_train.csv',index_col = 0)\n",
    "display(df.head(2))\n",
    "train_df, test_df = train_test_split(df, test_size=0.2, stratify=df['red_diff'])\n",
    "train_df.shape, test_df.shape"
   ]
  },
  {
   "cell_type": "code",
   "execution_count": 213,
   "id": "129892b4-d296-48f3-a847-e6ed0f47b335",
   "metadata": {},
   "outputs": [
    {
     "data": {
      "text/plain": [
       "(11, 11)"
      ]
     },
     "execution_count": 213,
     "metadata": {},
     "output_type": "execute_result"
    }
   ],
   "source": [
    "len(train_df['red_diff'].unique() ),len(test_df['red_diff'].unique())"
   ]
  },
  {
   "cell_type": "code",
   "execution_count": 219,
   "id": "70b8488f-d6b7-42fd-9d4b-d98fff2bbb70",
   "metadata": {},
   "outputs": [],
   "source": [
    "\n",
    "from torch.utils.data import Dataset\n",
    "from torchvision import transforms\n",
    "import torchvision\n",
    "from torchvision import datasets, models\n",
    "\n",
    "from PIL import Image\n",
    "import os"
   ]
  },
  {
   "cell_type": "code",
   "execution_count": 544,
   "id": "1cc683d2-8db2-4491-acfa-221b2ee7d264",
   "metadata": {},
   "outputs": [],
   "source": [
    "class ImgValueDataset(Dataset):\n",
    "    def __init__(self, df:pd.DataFrame, transform=None):\n",
    "        self.img_pathList  = df['filepath'].to_list()\n",
    "        self.labels  = pd.get_dummies(df['red_diff']).values\n",
    "        self.val_list  = df[['remain_ends','last_stone_is_red','red_posiotn']].astype(np.float16).values\n",
    "\n",
    "        self.transform = transform\n",
    "    \n",
    "    def __len__(self):  \n",
    "        return len( self.img_pathList )\n",
    "    \n",
    "    def __getitem__(self, index):\n",
    "        # 画像をPILとして読み込む\n",
    "        #print(index)\n",
    "        src = self.img_pathList[index]\n",
    "        #print(os.path.exists(src))\n",
    "        image = Image.open(src)\n",
    "        image = image.convert(\"RGB\") \n",
    "        #numpy_img = np.asarray(image, np.float32) / 255.0\n",
    "        #tensor_img = np.expand_dims(image, axis=0) # このままだとNWHCの形式\n",
    "        \n",
    "        label = self.labels[index]\n",
    "        extend = self.val_list[index]                         \n",
    "        if self.transform is not None:\n",
    "            ##print('use transform')\n",
    "            image = self.transform(image)\n",
    "        extend_tensor = np.full((224,224),255)\n",
    "        extend_tensor[1][0] = extend[0]\n",
    "        extend_tensor[1][1] = extend[1]\n",
    "        extend_tensor[1][2] = extend[2]\n",
    "        extend_tensor = torch.Tensor(extend_tensor)\n",
    "        extend_tensor = extend_tensor.unsqueeze(0)\n",
    "        out = torch.cat([image, extend_tensor], dim=0)\n",
    "        return out,label "
   ]
  },
  {
   "cell_type": "code",
   "execution_count": 545,
   "id": "8a195ae1-13ba-460d-a1f1-9465cbc044b9",
   "metadata": {},
   "outputs": [],
   "source": [
    "target_size = 224\n",
    "transform = transforms.Compose([\n",
    "    transforms.Pad(( 240 // 2, 0), fill=0, padding_mode='constant'),  # 左右に余白を追加\n",
    "    transforms.Resize(target_size),\n",
    "    transforms.CenterCrop(target_size),\n",
    "    transforms.ToTensor()\n",
    "])\n",
    "myDataset = ImgValueDataset( train_df ,transform=transform)"
   ]
  },
  {
   "cell_type": "code",
   "execution_count": 546,
   "id": "f7af3faa-ba23-4d84-a67f-b46464ba4fcf",
   "metadata": {},
   "outputs": [
    {
     "data": {
      "text/plain": [
       "torch.Size([4, 224, 224])"
      ]
     },
     "execution_count": 546,
     "metadata": {},
     "output_type": "execute_result"
    }
   ],
   "source": [
    "inputs, classes = next(iter(myDataset))\n",
    "inputs.shape"
   ]
  },
  {
   "cell_type": "code",
   "execution_count": 547,
   "id": "1b30c987-f38e-4cf0-93f3-f367e542bc30",
   "metadata": {},
   "outputs": [
    {
     "data": {
      "text/plain": [
       "torch.Size([3, 224, 224])"
      ]
     },
     "execution_count": 547,
     "metadata": {},
     "output_type": "execute_result"
    }
   ],
   "source": [
    "image = inputs[:3]\n",
    "image.shape"
   ]
  },
  {
   "cell_type": "code",
   "execution_count": 548,
   "id": "c7bdad49-14a4-4c9a-8e17-aa2e05167853",
   "metadata": {},
   "outputs": [
    {
     "name": "stdout",
     "output_type": "stream",
     "text": [
      "torch.Size([1, 224, 224]) tensor([[[255., 255., 255.,  ..., 255., 255., 255.],\n",
      "         [  5.,   1.,  -7.,  ..., 255., 255., 255.],\n",
      "         [255., 255., 255.,  ..., 255., 255., 255.],\n",
      "         ...,\n",
      "         [255., 255., 255.,  ..., 255., 255., 255.],\n",
      "         [255., 255., 255.,  ..., 255., 255., 255.],\n",
      "         [255., 255., 255.,  ..., 255., 255., 255.]]])\n"
     ]
    }
   ],
   "source": [
    "values = inputs[3:]\n",
    "print(values.shape , values)"
   ]
  },
  {
   "cell_type": "code",
   "execution_count": 549,
   "id": "8cf33342-b415-401e-a842-5832b353155e",
   "metadata": {},
   "outputs": [
    {
     "data": {
      "text/plain": [
       "<matplotlib.image.AxesImage at 0x2161fe61df0>"
      ]
     },
     "execution_count": 549,
     "metadata": {},
     "output_type": "execute_result"
    },
    {
     "data": {
      "image/png": "[encoded data removed]",
      "text/plain": [
       "<Figure size 640x480 with 1 Axes>"
      ]
     },
     "metadata": {},
     "output_type": "display_data"
    }
   ],
   "source": [
    "im = torchvision.transforms.functional.to_pil_image(image)\n",
    "plt.imshow(im)"
   ]
  },
  {
   "cell_type": "markdown",
   "id": "bc6da5ae-a58f-4309-a0fc-6a5d8cd48290",
   "metadata": {},
   "source": [
    "## データローダに仕立てる"
   ]
  },
  {
   "cell_type": "code",
   "execution_count": 581,
   "id": "3b108379-50d4-47d2-a508-e3526a8a902a",
   "metadata": {},
   "outputs": [
    {
     "data": {
      "text/plain": [
       "device(type='cuda')"
      ]
     },
     "execution_count": 581,
     "metadata": {},
     "output_type": "execute_result"
    }
   ],
   "source": [
    "import torch\n",
    "torch.manual_seed(seed)\n",
    "torch.cuda.manual_seed(seed)\n",
    "torch.cuda.manual_seed_all(seed)\n",
    "torch.use_deterministic_algorithms = True\n",
    "torch.backends.cudnn.deterministic = True\n",
    "\n",
    "device = torch.device(\"cuda\" if torch.cuda.is_available() else \"cpu\")\n",
    "device"
   ]
  },
  {
   "cell_type": "code",
   "execution_count": 582,
   "id": "28650005-a067-4e97-94b2-330588d10eb1",
   "metadata": {},
   "outputs": [],
   "source": [
    "target_size = 224\n",
    "transform = transforms.Compose([\n",
    "    transforms.Pad(( 240 // 2, 0), fill=0, padding_mode='constant'),  # 左右に余白を追加\n",
    "    transforms.Resize(target_size),\n",
    "    transforms.CenterCrop(target_size),\n",
    "    transforms.ToTensor()\n",
    "])\n",
    "train_dataset = ImgValueDataset( train_df ,transform=transform)\n",
    "test_dataset = ImgValueDataset( test_df ,transform=transform)"
   ]
  },
  {
   "cell_type": "code",
   "execution_count": 583,
   "id": "702aabfc-8e42-4dd1-988b-88ac20047e4c",
   "metadata": {},
   "outputs": [],
   "source": [
    "\n",
    "batch_size = 10\n",
    "train_loader = torch.utils.data.DataLoader(train_dataset, batch_size, shuffle=True, drop_last=True)\n",
    "test_loader = torch.utils.data.DataLoader(test_dataset, batch_size, shuffle=True, drop_last=True)"
   ]
  },
  {
   "cell_type": "code",
   "execution_count": 584,
   "id": "e63006ab-4cc4-4ad1-afb6-bd09f83b1567",
   "metadata": {},
   "outputs": [
    {
     "data": {
      "text/plain": [
       "(torch.Size([10, 4, 224, 224]),\n",
       " tensor([[False, False, False, False, False, False, False,  True, False, False,\n",
       "          False],\n",
       "         [False, False, False, False,  True, False, False, False, False, False,\n",
       "          False],\n",
       "         [False, False, False, False,  True, False, False, False, False, False,\n",
       "          False],\n",
       "         [False, False, False,  True, False, False, False, False, False, False,\n",
       "          False],\n",
       "         [False, False, False, False, False, False,  True, False, False, False,\n",
       "          False],\n",
       "         [False, False, False, False,  True, False, False, False, False, False,\n",
       "          False],\n",
       "         [False, False, False,  True, False, False, False, False, False, False,\n",
       "          False],\n",
       "         [False, False, False, False,  True, False, False, False, False, False,\n",
       "          False],\n",
       "         [False, False, False, False, False, False,  True, False, False, False,\n",
       "          False],\n",
       "         [False, False, False,  True, False, False, False, False, False, False,\n",
       "          False]]))"
      ]
     },
     "execution_count": 584,
     "metadata": {},
     "output_type": "execute_result"
    }
   ],
   "source": [
    "a,b = next(iter(train_loader))\n",
    "a.shape,b"
   ]
  },
  {
   "cell_type": "code",
   "execution_count": 554,
   "id": "16cba241-2f80-4b87-b32e-f46f66ecd245",
   "metadata": {},
   "outputs": [
    {
     "data": {
      "image/png": "[encoded data removed]",
      "text/plain": [
       "<Figure size 1200x600 with 10 Axes>"
      ]
     },
     "metadata": {},
     "output_type": "display_data"
    }
   ],
   "source": [
    "## イメージ分離\n",
    "images = a[:,:3]\n",
    "k ,_,_,_ = images.shape\n",
    "imlist = []\n",
    "for i in range(k):\n",
    "    data = images[i]\n",
    "    im = torchvision.transforms.functional.to_pil_image(data)\n",
    "    imlist.append(im)\n",
    "n = len(imlist)\n",
    "fig , axs = plt.subplots(2, n//2,figsize=(12,6))\n",
    "axs = axs.flatten()\n",
    "for i in range(n):\n",
    "    axs[i].imshow(imlist[i])"
   ]
  },
  {
   "cell_type": "code",
   "execution_count": 555,
   "id": "f602e52e-bb5e-44a1-986d-de125218acb0",
   "metadata": {},
   "outputs": [
    {
     "name": "stdout",
     "output_type": "stream",
     "text": [
      "tensor([ 1.,  1., -1.])\n",
      "tensor([ 1.,  1., -1.])\n",
      "tensor([ 7.,  1., -2.])\n",
      "tensor([ 6.,  0., -1.])\n",
      "tensor([ 2.,  0., -1.])\n",
      "tensor([1., 0., 3.])\n",
      "tensor([3., 0., 0.])\n",
      "tensor([8., 0., 0.])\n",
      "tensor([ 0.,  1., -2.])\n",
      "tensor([7., 0., 2.])\n"
     ]
    }
   ],
   "source": [
    "## 値分離\n",
    "values = a[:,3:]\n",
    "k ,_,_,_ = images.shape\n",
    "imlist = []\n",
    "for i in range(k):\n",
    "    data = values[i]\n",
    "    print(data[0][1][0:3])"
   ]
  },
  {
   "cell_type": "markdown",
   "id": "c6fb92ce-6e29-4c20-bcab-69e4a7ae61aa",
   "metadata": {},
   "source": [
    "Netを組む"
   ]
  },
  {
   "cell_type": "code",
   "execution_count": 2,
   "id": "2e33d94e-28ff-4520-8473-1c3c27651f95",
   "metadata": {},
   "outputs": [],
   "source": [
    "import torch\n",
    "import torch.nn as nn\n",
    "import torch.optim as optim\n",
    "import torch.nn.functional as F"
   ]
  },
  {
   "cell_type": "code",
   "execution_count": 3,
   "id": "17b95a0c-7592-446b-b355-a08983193567",
   "metadata": {},
   "outputs": [],
   "source": [
    "# CNNモデルの定義\n",
    "class SimpleCNN(nn.Module):\n",
    "    def __init__(self, num_classes):\n",
    "        super(SimpleCNN, self).__init__()\n",
    "        self.conv1 = nn.Conv2d(3, 16, kernel_size=3, stride=1, padding=1)\n",
    "        self.pool = nn.MaxPool2d(kernel_size=2, stride=2, padding=0)\n",
    "        self.conv2 = nn.Conv2d(16, 32, kernel_size=3, stride=1, padding=1)\n",
    "\n",
    "        viewCnt = (32 * 56 * 56)\n",
    "        \n",
    "        self.fc1 = nn.Linear(viewCnt+3, 256)\n",
    "        self.fc2 = nn.Linear(256, num_classes)\n",
    "\n",
    "    def forward(self, x):\n",
    "        images = x[:,:3]\n",
    "        values = x[:,3:]\n",
    "        images = self.pool(F.relu(self.conv1(images)))\n",
    "        images = self.pool(F.relu(self.conv2(images)))\n",
    "        images = images.view(-1, 32 * 56 * 56)\n",
    "        ## -- 結合します\n",
    "        params = values[:,0,1,0:3]\n",
    "        packedData = torch.cat([images,params],1)\n",
    "        #print(images.shape,values.shape,packedData.shape)\n",
    "        packedData = F.relu(self.fc1(packedData))\n",
    "        packedData = self.fc2(packedData)\n",
    "        packedData\n",
    "        return packedData"
   ]
  },
  {
   "cell_type": "code",
   "execution_count": 4,
   "id": "12344c53-77cf-4a5a-9122-fd70101f2592",
   "metadata": {},
   "outputs": [
    {
     "ename": "NameError",
     "evalue": "name 'train_df' is not defined",
     "output_type": "error",
     "traceback": [
      "\u001b[1;31m---------------------------------------------------------------------------\u001b[0m",
      "\u001b[1;31mNameError\u001b[0m                                 Traceback (most recent call last)",
      "Cell \u001b[1;32mIn[4], line 1\u001b[0m\n\u001b[1;32m----> 1\u001b[0m num_classes \u001b[38;5;241m=\u001b[39m \u001b[38;5;28mlen\u001b[39m(\u001b[43mtrain_df\u001b[49m[\u001b[38;5;124m'\u001b[39m\u001b[38;5;124mred_diff\u001b[39m\u001b[38;5;124m'\u001b[39m]\u001b[38;5;241m.\u001b[39munique() )\n\u001b[0;32m      2\u001b[0m cnn_model \u001b[38;5;241m=\u001b[39m SimpleCNN(num_classes\u001b[38;5;241m=\u001b[39mnum_classes)\n",
      "\u001b[1;31mNameError\u001b[0m: name 'train_df' is not defined"
     ]
    }
   ],
   "source": [
    "num_classes = len(train_df['red_diff'].unique() )\n",
    "cnn_model = SimpleCNN(num_classes=num_classes)"
   ]
  },
  {
   "cell_type": "code",
   "execution_count": 627,
   "id": "0e8396a9-580f-422c-b34b-d13db79f10bb",
   "metadata": {},
   "outputs": [
    {
     "data": {
      "text/plain": [
       "SimpleCNN(\n",
       "  (conv1): Conv2d(3, 16, kernel_size=(3, 3), stride=(1, 1), padding=(1, 1))\n",
       "  (pool): MaxPool2d(kernel_size=2, stride=2, padding=0, dilation=1, ceil_mode=False)\n",
       "  (conv2): Conv2d(16, 32, kernel_size=(3, 3), stride=(1, 1), padding=(1, 1))\n",
       "  (fc1): Linear(in_features=100355, out_features=256, bias=True)\n",
       "  (fc2): Linear(in_features=256, out_features=11, bias=True)\n",
       ")"
      ]
     },
     "execution_count": 627,
     "metadata": {},
     "output_type": "execute_result"
    }
   ],
   "source": [
    "cnn_model"
   ]
  },
  {
   "cell_type": "code",
   "execution_count": 628,
   "id": "3c60d3b2-62ab-4ac9-b4a6-829c62be9036",
   "metadata": {},
   "outputs": [
    {
     "data": {
      "text/plain": [
       "tensor([[-0.0103,  0.0155, -0.0108,  0.0402,  0.0179,  0.0245,  0.0296, -0.0098,\n",
       "          0.0804,  0.0818,  0.0398],\n",
       "        [-0.0053,  0.0050, -0.0102,  0.0438,  0.0216,  0.0311,  0.0274, -0.0100,\n",
       "          0.0817,  0.0802,  0.0462],\n",
       "        [-0.0017,  0.0025, -0.0081,  0.0454,  0.0235,  0.0315,  0.0248, -0.0088,\n",
       "          0.0838,  0.0819,  0.0520],\n",
       "        [-0.0080,  0.0159, -0.0096,  0.0410,  0.0174,  0.0254,  0.0300, -0.0100,\n",
       "          0.0810,  0.0795,  0.0410],\n",
       "        [-0.0082,  0.0124, -0.0094,  0.0425,  0.0187,  0.0249,  0.0309, -0.0054,\n",
       "          0.0811,  0.0825,  0.0430],\n",
       "        [-0.0053,  0.0014, -0.0088,  0.0443,  0.0230,  0.0306,  0.0247, -0.0107,\n",
       "          0.0842,  0.0812,  0.0481],\n",
       "        [-0.0043,  0.0022, -0.0085,  0.0448,  0.0238,  0.0318,  0.0226, -0.0097,\n",
       "          0.0833,  0.0812,  0.0466],\n",
       "        [-0.0078,  0.0142, -0.0099,  0.0402,  0.0192,  0.0259,  0.0247, -0.0112,\n",
       "          0.0780,  0.0812,  0.0382],\n",
       "        [-0.0071,  0.0089, -0.0095,  0.0416,  0.0211,  0.0283,  0.0256, -0.0114,\n",
       "          0.0803,  0.0810,  0.0427],\n",
       "        [-0.0042,  0.0022, -0.0084,  0.0450,  0.0243,  0.0310,  0.0241, -0.0099,\n",
       "          0.0834,  0.0819,  0.0498]], grad_fn=<AddmmBackward0>)"
      ]
     },
     "execution_count": 628,
     "metadata": {},
     "output_type": "execute_result"
    }
   ],
   "source": [
    "batch_size = 10\n",
    "train_loader = torch.utils.data.DataLoader(train_dataset, batch_size, shuffle=True, drop_last=True)\n",
    "test_loader = torch.utils.data.DataLoader(test_dataset, batch_size, shuffle=True, drop_last=True)\n",
    "\n",
    "imput , label = next(iter(train_loader))\n",
    "imput.shape\n",
    "num_classes = len(train_df['red_diff'].unique() )\n",
    "cnn_model = SimpleCNN(num_classes=num_classes)\n",
    "cnn_model(imput)"
   ]
  },
  {
   "cell_type": "code",
   "execution_count": 629,
   "id": "0426c906-1d27-4fe6-b0b1-805d777fc07f",
   "metadata": {},
   "outputs": [
    {
     "data": {
      "text/plain": [
       "tensor([[255., 255., 255.,  ...,   1.,   1.,  -1.],\n",
       "        [255., 255., 255.,  ...,   1.,   1.,  -1.],\n",
       "        [255., 255., 255.,  ...,   7.,   1.,  -2.],\n",
       "        ...,\n",
       "        [255., 255., 255.,  ...,   8.,   0.,   0.],\n",
       "        [255., 255., 255.,  ...,   0.,   1.,  -2.],\n",
       "        [255., 255., 255.,  ...,   7.,   0.,   2.]])"
      ]
     },
     "execution_count": 629,
     "metadata": {},
     "output_type": "execute_result"
    }
   ],
   "source": [
    "values = a[:,3:]\n",
    "j = values[:,0,1,0:3]\n",
    "dmyimg = np.full((10,100352),255)\n",
    "qimage = torch.Tensor(dmyimg)\n",
    "qimage.shape\n",
    "torch.cat([qimage,j],1)"
   ]
  },
  {
   "cell_type": "code",
   "execution_count": 630,
   "id": "90f8534c-18a7-4a8f-b0ee-22ef6abd079e",
   "metadata": {},
   "outputs": [],
   "source": [
    "criterion = nn.CrossEntropyLoss()\n",
    "optimizer = optim.Adam(cnn_model.parameters(), lr=0.001)"
   ]
  },
  {
   "cell_type": "code",
   "execution_count": 631,
   "id": "7a2cf749-67bb-4536-8118-3a80a7cdf30e",
   "metadata": {},
   "outputs": [
    {
     "name": "stdout",
     "output_type": "stream",
     "text": [
      "Epoch [1/30], Loss: 2.049813985824585\n",
      "Epoch [2/30], Loss: 1.9412364959716797\n",
      "Epoch [3/30], Loss: 2.23701810836792\n",
      "Epoch [4/30], Loss: 1.8757498264312744\n",
      "Epoch [5/30], Loss: 1.9354826211929321\n",
      "Epoch [6/30], Loss: 1.9489898681640625\n",
      "Epoch [7/30], Loss: 1.8421339988708496\n",
      "Epoch [8/30], Loss: 1.8763848543167114\n",
      "Epoch [9/30], Loss: 1.7491627931594849\n",
      "Epoch [10/30], Loss: 2.2668769359588623\n",
      "Epoch [11/30], Loss: 2.284719705581665\n",
      "Epoch [12/30], Loss: 1.9038636684417725\n",
      "Epoch [13/30], Loss: 2.1178297996520996\n",
      "Epoch [14/30], Loss: 1.8216854333877563\n",
      "Epoch [15/30], Loss: 2.1496520042419434\n",
      "Epoch [16/30], Loss: 2.1029052734375\n",
      "Epoch [17/30], Loss: 2.052807569503784\n",
      "Epoch [18/30], Loss: 1.9326159954071045\n",
      "Epoch [19/30], Loss: 1.806288242340088\n",
      "Epoch [20/30], Loss: 2.06113338470459\n",
      "Epoch [21/30], Loss: 1.8549997806549072\n",
      "Epoch [22/30], Loss: 1.8652833700180054\n",
      "Epoch [23/30], Loss: 1.8619627952575684\n",
      "Epoch [24/30], Loss: 1.7914745807647705\n",
      "Epoch [25/30], Loss: 1.8464398384094238\n",
      "Epoch [26/30], Loss: 1.8722648620605469\n",
      "Epoch [27/30], Loss: 1.9577898979187012\n",
      "Epoch [28/30], Loss: 2.041818857192993\n",
      "Epoch [29/30], Loss: 1.928686261177063\n",
      "Epoch [30/30], Loss: 1.9420344829559326\n"
     ]
    }
   ],
   "source": [
    "batch_size = 128\n",
    "train_loader = torch.utils.data.DataLoader(train_dataset, batch_size, shuffle=True, drop_last=True)\n",
    "test_loader = torch.utils.data.DataLoader(test_dataset, batch_size, shuffle=True, drop_last=True)\n",
    "# 学習\n",
    "device = torch.device(\"cuda\" if torch.cuda.is_available() else \"cpu\")\n",
    "\n",
    "num_classes = len(train_df['red_diff'].unique() )\n",
    "criterion = nn.CrossEntropyLoss()\n",
    "model_gpu = SimpleCNN(num_classes=num_classes).to(device)\n",
    "optimizer_gpu =  optim.Adam(model_gpu.parameters(), lr=0.001)\n",
    "\n",
    "train_loss_value=[]      #trainingのlossを保持するlist\n",
    "train_acc_value=[]       #trainingのaccuracyを保持するlist\n",
    "test_loss_value=[]       #testのlossを保持するlist\n",
    "test_acc_value=[]        #testのaccuracyを保持するlist \n",
    "\n",
    "num_epochs = 30\n",
    "for epoch in range(num_epochs):\n",
    "    for images, labels in train_loader:\n",
    "        images = images.to(device)\n",
    "        labels_float = labels.float().to(device)\n",
    "        optimizer.zero_grad()\n",
    "        outputs = model_gpu(images)\n",
    "        loss = criterion(outputs, labels_float)\n",
    "        loss.backward()\n",
    "        optimizer_gpu.step()\n",
    "\n",
    "    print(f'Epoch [{epoch + 1}/{num_epochs}], Loss: {loss.item()}')\n"
   ]
  },
  {
   "cell_type": "code",
   "execution_count": 632,
   "id": "a22a0fb9-c55f-4875-8cb5-8afdf253fe00",
   "metadata": {},
   "outputs": [
    {
     "ename": "SyntaxError",
     "evalue": "only single target (not tuple) can be annotated (3721656434.py, line 1)",
     "output_type": "error",
     "traceback": [
      "\u001b[1;36m  Cell \u001b[1;32mIn[632], line 1\u001b[1;36m\u001b[0m\n\u001b[1;33m    Epoch [1/5], Loss: 2.3228600025177\u001b[0m\n\u001b[1;37m    ^\u001b[0m\n\u001b[1;31mSyntaxError\u001b[0m\u001b[1;31m:\u001b[0m only single target (not tuple) can be annotated\n"
     ]
    }
   ],
   "source": [
    "Epoch [1/5], Loss: 2.3228600025177\n",
    "Epoch [2/5], Loss: 1.8527653217315674\n",
    "Epoch [3/5], Loss: 2.0662903785705566\n",
    "Epoch [4/5], Loss: 2.3889870643615723\n",
    "Epoch [5/5], Loss: 1.7179456949234009"
   ]
  },
  {
   "cell_type": "code",
   "execution_count": 533,
   "id": "97ee6b06-6094-4096-a93d-58012292d930",
   "metadata": {},
   "outputs": [
    {
     "ename": "SyntaxError",
     "evalue": "cannot assign to function call (1370988544.py, line 1)",
     "output_type": "error",
     "traceback": [
      "\u001b[1;36m  Cell \u001b[1;32mIn[533], line 1\u001b[1;36m\u001b[0m\n\u001b[1;33m    one_hot = F.one_hot(labels_int), num_classes=num_classes)\u001b[0m\n\u001b[1;37m              ^\u001b[0m\n\u001b[1;31mSyntaxError\u001b[0m\u001b[1;31m:\u001b[0m cannot assign to function call\n"
     ]
    }
   ],
   "source": [
    "one_hot = F.one_hot(labels_int), num_classes=num_classes)"
   ]
  },
  {
   "cell_type": "code",
   "execution_count": 534,
   "id": "ffb2c4fc-cdc9-401a-8f1f-fbb11a22000c",
   "metadata": {},
   "outputs": [
    {
     "ename": "SyntaxError",
     "evalue": "cannot assign to function call (1370988544.py, line 1)",
     "output_type": "error",
     "traceback": [
      "\u001b[1;36m  Cell \u001b[1;32mIn[534], line 1\u001b[1;36m\u001b[0m\n\u001b[1;33m    one_hot = F.one_hot(labels_int), num_classes=num_classes)\u001b[0m\n\u001b[1;37m              ^\u001b[0m\n\u001b[1;31mSyntaxError\u001b[0m\u001b[1;31m:\u001b[0m cannot assign to function call\n"
     ]
    }
   ],
   "source": [
    "one_hot = F.one_hot(labels_int), num_classes=num_classes)"
   ]
  },
  {
   "cell_type": "code",
   "execution_count": 539,
   "id": "8067280d-fe43-4bce-8564-f4eba8da0dba",
   "metadata": {},
   "outputs": [
    {
     "ename": "RuntimeError",
     "evalue": "Class values must be non-negative.",
     "output_type": "error",
     "traceback": [
      "\u001b[1;31m---------------------------------------------------------------------------\u001b[0m",
      "\u001b[1;31mRuntimeError\u001b[0m                              Traceback (most recent call last)",
      "Cell \u001b[1;32mIn[539], line 1\u001b[0m\n\u001b[1;32m----> 1\u001b[0m \u001b[43mF\u001b[49m\u001b[38;5;241;43m.\u001b[39;49m\u001b[43mone_hot\u001b[49m\u001b[43m(\u001b[49m\u001b[43mlabels_int\u001b[49m\u001b[43m,\u001b[49m\u001b[43mnum_classes\u001b[49m\u001b[38;5;241;43m=\u001b[39;49m\u001b[43mnum_classes\u001b[49m\u001b[43m)\u001b[49m\n",
      "\u001b[1;31mRuntimeError\u001b[0m: Class values must be non-negative."
     ]
    }
   ],
   "source": [
    "F.one_hot(labels_int,num_classes=num_classes)"
   ]
  },
  {
   "cell_type": "code",
   "execution_count": 562,
   "id": "050bf29f-196c-470c-82a8-a9b2b2e83437",
   "metadata": {},
   "outputs": [
    {
     "data": {
      "text/plain": [
       "tensor([[0, 0, 0, 0, 1, 0, 0, 0, 0, 0, 0],\n",
       "        [0, 0, 0, 0, 0, 0, 0, 0, 1, 0, 0],\n",
       "        [0, 0, 0, 0, 1, 0, 0, 0, 0, 0, 0],\n",
       "        [0, 0, 0, 0, 0, 0, 0, 1, 0, 0, 0],\n",
       "        [0, 0, 0, 0, 0, 0, 1, 0, 0, 0, 0],\n",
       "        [0, 0, 0, 0, 0, 0, 0, 1, 0, 0, 0],\n",
       "        [0, 0, 0, 0, 0, 0, 1, 0, 0, 0, 0],\n",
       "        [0, 0, 0, 1, 0, 0, 0, 0, 0, 0, 0],\n",
       "        [0, 0, 0, 0, 0, 0, 1, 0, 0, 0, 0],\n",
       "        [0, 0, 0, 0, 0, 0, 1, 0, 0, 0, 0]])"
      ]
     },
     "execution_count": 562,
     "metadata": {},
     "output_type": "execute_result"
    }
   ],
   "source": [
    "labels_int"
   ]
  },
  {
   "cell_type": "code",
   "execution_count": 543,
   "id": "0f677948-b0e8-4a6e-845d-fa8ce3d0e2c9",
   "metadata": {},
   "outputs": [
    {
     "data": {
      "text/plain": [
       "array([[False, False, False, ..., False, False, False],\n",
       "       [False, False, False, ..., False, False, False],\n",
       "       [False, False, False, ..., False, False, False],\n",
       "       ...,\n",
       "       [False, False,  True, ..., False, False, False],\n",
       "       [False, False, False, ..., False, False, False],\n",
       "       [False, False, False, ..., False, False, False]])"
      ]
     },
     "execution_count": 543,
     "metadata": {},
     "output_type": "execute_result"
    }
   ],
   "source": [
    "pd.get_dummies(df['red_diff']).values"
   ]
  },
  {
   "cell_type": "code",
   "execution_count": null,
   "id": "e8d7b58b-d4c8-436f-957d-bd1eaba4100d",
   "metadata": {},
   "outputs": [],
   "source": []
  }
 ],
 "metadata": {
  "kernelspec": {
   "display_name": "Python 3 (ipykernel)",
   "language": "python",
   "name": "python3"
  },
  "language_info": {
   "codemirror_mode": {
    "name": "ipython",
    "version": 3
   },
   "file_extension": ".py",
   "mimetype": "text/x-python",
   "name": "python",
   "nbconvert_exporter": "python",
   "pygments_lexer": "ipython3",
   "version": "3.9.5"
  }
 },
 "nbformat": 4,
 "nbformat_minor": 5
}
